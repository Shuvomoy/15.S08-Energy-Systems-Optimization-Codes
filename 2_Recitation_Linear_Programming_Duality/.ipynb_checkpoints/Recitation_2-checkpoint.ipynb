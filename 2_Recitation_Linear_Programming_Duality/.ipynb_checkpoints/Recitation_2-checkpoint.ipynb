{
 "cells": [
  {
   "cell_type": "markdown",
   "metadata": {},
   "source": [
    "# 15.S08 Recitation 2: Modeling linear programs and linear programming duality\n",
    "\n",
    "We will talk about the following topics today\n",
    "\n",
    "* Modeling a simple linear problem step by step\n",
    "* Linear programming duality\n",
    "* Linear programming optimality condition"
   ]
  },
  {
   "cell_type": "markdown",
   "metadata": {},
   "source": [
    "#### Rocket control problem\n",
    "Consider a rocket that travels along a straight path. Let $x_{t},v_{t},$\n",
    "and $a_{t}$ be the position, velocity, and acceleration of the rocket\n",
    "at time $t$, respectively. By discretizing time and by taking the\n",
    "time increment to be unity, we obtain an approximate discrete-time\n",
    "model of the form: \n",
    "\n",
    "$\\begin{align}\n",
    "x_{t+1} & =x_{t}+v_{t}\\\\\n",
    "v_{t+1} & =v_{t}+a_{t}.\n",
    "\\end{align}$\n",
    "\n",
    "\n",
    " We assume that the acceleration is under our control, which is controlled\n",
    "by the rocket thrust. In a rough model, the magnitude $|a_{t}|$ of\n",
    "the acceleration is proportional to the rate of fuel consumption at\n",
    "time $t$.\n",
    "\n",
    "Suppose that the rocket is initially at rest at the origin, *i.e.*,\n",
    "$x_{0}=0$ and $v_{0}=0$. We wish the rocket to take off and *land\n",
    "softly* at distance $d$ unit after $T$ time units, *i.e.*,\n",
    "$x_{T}=d$ and $v_{T}=0$. The total fuel consumption of the rocket,\n",
    "given by $\\sum_{t=0}^{T-1}c_{t}|a_{t}|$ (where $c_{1},\\ldots,c_{T-1}$\n",
    "are positive numbers known to us), cannot be more than available amount\n",
    "of fuel $f$. To ensure a smooth trajectory, we want to ensure that\n",
    "the acceleration of the rocket does not change too abruptly, *i.e.*,\n",
    "$|a_{t+1}-a_{t}|$ is always less than or equal to some known value\n",
    "$\\delta$.\n",
    "\n",
    "Now, we want to control the rocket in a manner to minimize the maximum\n",
    "thrust required, which is $\\max_{t\\in\\{0,\\ldots,T-1\\}}|a_{t}|$, subject\n",
    "to the preceding constraints. "
   ]
  },
  {
   "cell_type": "markdown",
   "metadata": {},
   "source": [
    "#### Goals\n",
    "\n",
    "We want to do the following.\n",
    "\n",
    "(a) Provide a linear programming formulation for this rocket control\n",
    "problem.\n",
    "\n",
    "(b) Formulate and solve the model in `Julia` for $T=100,$\n",
    "$d=50,$ $\\delta=10^{-3},$ $f=1000,$ and $c_{1}=\\ldots=c_{T-1}=1$. Plot\n",
    "acceleration, velocity, and position of the rocket vs time. "
   ]
  },
  {
   "cell_type": "markdown",
   "metadata": {},
   "source": [
    "#### A linear programming formulation\n",
    "A linear programming formulation for this rocket control problem can be written as\n",
    "\n",
    "$\\begin{array}{ll}\n",
    "\\textrm{minimize} & h\\\\\n",
    "\\textrm{subject to} & v_{0}=0\\\\\n",
    " & x_{0}=0\\\\\n",
    " & v_{T}=0\\\\\n",
    " & x_{T}=d\\\\\n",
    " & \\sum_{i=0}^{T-1}z_{i}\\leq f\\\\\n",
    " & z_{t}\\geq a_{t},\\qquad t=0,\\ldots,T-1\\\\\n",
    " & z_{t}\\geq-a_{t},\\qquad t=0,\\ldots,T-1\\\\\n",
    " & x_{t+1}=x_{t}+v_{t},\\qquad t=0,\\ldots,T-1\\\\\n",
    " & v_{t+1}=v_{t}+a_{t},\\qquad t=0,\\ldots,T-1\\\\\n",
    " & a_{t+1}-a_{t}\\leq\\delta,\\qquad t=0,\\ldots,T-2\\\\\n",
    " & -a_{t+1}+a_{t}\\leq\\delta,\\qquad t=0,\\ldots,T-1\\\\\n",
    " & h\\geq a_{t},\\qquad t=0,\\ldots,T-1\\\\\n",
    " & h\\geq-a_{t},\\qquad t=0,\\ldots,T-1\n",
    "\\end{array}$\n",
    "\n",
    "\n",
    " where $h\\in\\mathbf{R},$ $a,z\\in\\mathbf{R}^{T},$ and $,v,x\\in\\mathbf{R}^{T+1}$\n",
    "are the decision variables, and $T,d, \\delta, f \\in \\mathbf{R}$ are the input data."
   ]
  },
  {
   "cell_type": "markdown",
   "metadata": {},
   "source": [
    "#### Solving the problem using `Julia+JuMP`\n",
    "Now let us solve the formulation above using `Julia` and `JuMP`. "
   ]
  },
  {
   "cell_type": "code",
   "execution_count": 9,
   "metadata": {},
   "outputs": [
    {
     "data": {
      "text/plain": [
       "1000"
      ]
     },
     "execution_count": 9,
     "metadata": {},
     "output_type": "execute_result"
    }
   ],
   "source": [
    "# Data\n",
    "T = 100\n",
    "d = 50\n",
    "delta = 1e-3\n",
    "f = 1000"
   ]
  },
  {
   "cell_type": "code",
   "execution_count": 10,
   "metadata": {},
   "outputs": [],
   "source": [
    "using JuMP, Gurobi"
   ]
  },
  {
   "cell_type": "code",
   "execution_count": 11,
   "metadata": {},
   "outputs": [
    {
     "name": "stdout",
     "output_type": "stream",
     "text": [
      "Set parameter Username\r\n",
      "Academic license - for non-commercial use only - expires 2023-02-05\r\n"
     ]
    },
    {
     "data": {
      "text/plain": [
       "A JuMP Model\n",
       "Feasibility problem with:\n",
       "Variables: 0\n",
       "Model mode: AUTOMATIC\n",
       "CachingOptimizer state: EMPTY_OPTIMIZER\n",
       "Solver name: Gurobi"
      ]
     },
     "execution_count": 11,
     "metadata": {},
     "output_type": "execute_result"
    }
   ],
   "source": [
    "# Define the model \n",
    "rocket_model = Model(Gurobi.Optimizer)"
   ]
  },
  {
   "cell_type": "code",
   "execution_count": 12,
   "metadata": {},
   "outputs": [
    {
     "data": {
      "text/plain": [
       "(VariableRef[a[1], a[2], a[3], a[4], a[5], a[6], a[7], a[8], a[9], a[10]  …  a[91], a[92], a[93], a[94], a[95], a[96], a[97], a[98], a[99], a[100]], VariableRef[v[1], v[2], v[3], v[4], v[5], v[6], v[7], v[8], v[9], v[10]  …  v[92], v[93], v[94], v[95], v[96], v[97], v[98], v[99], v[100], v[101]], VariableRef[x[1], x[2], x[3], x[4], x[5], x[6], x[7], x[8], x[9], x[10]  …  x[92], x[93], x[94], x[95], x[96], x[97], x[98], x[99], x[100], x[101]], h, VariableRef[z[1], z[2], z[3], z[4], z[5], z[6], z[7], z[8], z[9], z[10]  …  z[91], z[92], z[93], z[94], z[95], z[96], z[97], z[98], z[99], z[100]])"
      ]
     },
     "execution_count": 12,
     "metadata": {},
     "output_type": "execute_result"
    }
   ],
   "source": [
    "# Let us define the variables\n",
    "@variables(rocket_model, \n",
    "begin\n",
    "\ta[1:T] # acceleration\n",
    "\tv[1:T+1] # velocity\n",
    "\tx[1:T+1] # position\n",
    "\th # epigraph variable\n",
    "\tz[1:T] # epigraph variable\n",
    "end)"
   ]
  },
  {
   "cell_type": "code",
   "execution_count": 13,
   "metadata": {},
   "outputs": [
    {
     "data": {
      "text/latex": [
       "$$ h $$"
      ],
      "text/plain": [
       "h"
      ]
     },
     "execution_count": 13,
     "metadata": {},
     "output_type": "execute_result"
    }
   ],
   "source": [
    "# Define the objective\n",
    "@objective(rocket_model, Min, h)"
   ]
  },
  {
   "cell_type": "code",
   "execution_count": 14,
   "metadata": {},
   "outputs": [],
   "source": [
    "# Define the constraints\n",
    "@constraints(rocket_model, \n",
    "begin\n",
    "        \n",
    "\tinit_speed, v[1] == 0.0 # Initial speed\n",
    "        \n",
    "\tinit_position, x[1] == 0.0 # Initial position\n",
    "        \n",
    "\tfinal_speed, v[T+1] == 0.0 # Final speed\n",
    "        \n",
    "\tfinal_position, x[T+1] == d # Final position\n",
    "        \n",
    "\tfuel_capacity_1, sum(z) <= f # fuel capcity constraint part 1\n",
    "        \n",
    "\tfuel_capacity_2[t = 1:T], z[t] >= a[t] # fuel capcity constraint part 2\n",
    "        \n",
    "\tfuel_capacity_3[t = 1:T], z[t] >= -a[t] # fuel capcity constraint part 3\n",
    "        \n",
    "\tdynamic_model_pos[t= 1:T], x[t+1] == x[t] + v[t] # discrete time dynamic model\n",
    "        \n",
    "    dynamic_model_speed[t = 1:T], v[t+1] == v[t] + a[t] # discrete time dynamic model\n",
    "        \n",
    "\tjolt_1[t = 1:T-1], a[t+1] - a[t] <= delta # jolt constraint 1\n",
    "        \n",
    "\tjolt_2[t = 1:T-1], -a[t+1] + a[t] <= delta # jolt constraint 2\n",
    "        \n",
    "\tepi_1[t = 1:T], h >= a[t] # epigraph for thurst part 1\n",
    "        \n",
    "\tepi_2[t = 1:T], h >= -a[t] # epigraph for thrust part 2\n",
    "        \n",
    "    end);"
   ]
  },
  {
   "cell_type": "code",
   "execution_count": 15,
   "metadata": {},
   "outputs": [
    {
     "name": "stdout",
     "output_type": "stream",
     "text": [
      "Gurobi Optimizer version 9.5.0 build v9.5.0rc5 (win64)\r\n",
      "Thread count: 4 physical cores, 8 logical processors, using up to 8 threads\r\n",
      "Optimize a model with 803 rows, 403 columns and 1900 nonzeros\r\n",
      "Model fingerprint: 0xfec28356\r\n",
      "Coefficient statistics:\r\n",
      "  Matrix range     [1e+00, 1e+00]\r\n",
      "  Objective range  [1e+00, 1e+00]\r\n",
      "  Bounds range     [0e+00, 0e+00]\r\n",
      "  RHS range        [1e-03, 1e+03]\r\n",
      "Presolve removed 301 rows and 202 columns\r\n",
      "Presolve time: 0.01s\r\n",
      "Presolved: 502 rows, 300 columns, 1396 nonzeros\r\n",
      "\r\n",
      "Iteration    Objective       Primal Inf.    Dual Inf.      Time\r\n",
      "       0      handle free variables                          0s\r\n",
      "     313    2.1286790e-02   0.000000e+00   0.000000e+00      0s\r\n",
      "\r\n",
      "Solved in 313 iterations and 0.02 seconds (0.01 work units)\r\n",
      "Optimal objective  2.128678970e-02\r\n",
      "\r\n",
      "User-callback calls 376, time in user-callback 0.01 sec\r\n"
     ]
    }
   ],
   "source": [
    "optimize!(rocket_model) # time to solve the optimization problem"
   ]
  },
  {
   "cell_type": "code",
   "execution_count": 16,
   "metadata": {},
   "outputs": [
    {
     "data": {
      "text/plain": [
       "(0.021286789703739678, [0.021286789703739678, 0.021286789703739678, 0.021286789703739678, 0.021286789703739678, 0.021286789703739678, 0.021286789703739678, 0.021286789703739678, 0.021286789703739678, 0.021286789703739678, 0.021286789703739678  …  -0.021286789703739678, -0.021286789703739678, -0.021286789703739678, -0.021286789703739678, -0.021286789703739678, -0.021286789703739678, -0.021286789703739678, -0.021286789703739678, -0.021286789703739678, -0.021286789703739678], [0.0, 0.021286789703739678, 0.042573579407479356, 0.06386036911121903, 0.08514715881495871, 0.10643394851869839, 0.12772073822243807, 0.14900752792617775, 0.17029431762991742, 0.1915811073336571  …  0.1915811073336571, 0.17029431762991742, 0.14900752792617775, 0.12772073822243807, 0.10643394851869839, 0.08514715881495871, 0.06386036911121903, 0.042573579407479356, 0.021286789703739678, 0.0], [0.0, 0.0, 0.021286789703739678, 0.06386036911121903, 0.12772073822243807, 0.21286789703739678, 0.3193018455560952, 0.44702258377853327, 0.596030111704711, 0.7663244293346284  …  49.04209446333172, 49.233675570665376, 49.40396988829529, 49.55297741622147, 49.6806981544439, 49.7871321029626, 49.872279261777564, 49.93613963088878, 49.97871321029626, 50.0], 0.021286789703739678, [0.021286789703739678, 0.021286789703739678, 0.021286789703739678, 0.021286789703739678, 0.021286789703739678, 0.021286789703739678, 0.021286789703739678, 0.021286789703739678, 0.021286789703739678, 0.021286789703739678  …  0.021286789703739678, 0.021286789703739678, 0.021286789703739678, 0.021286789703739678, 0.021286789703739678, 0.021286789703739678, 0.021286789703739678, 0.021286789703739678, 0.021286789703739678, 998.3456529868886])"
      ]
     },
     "execution_count": 16,
     "metadata": {},
     "output_type": "execute_result"
    }
   ],
   "source": [
    "p_star, a_sol, v_sol, x_sol, h_sol, z_sol = \n",
    "objective_value(rocket_model), value.(a), value.(v), value.(x), value(h), value.(z) \n",
    "# save the optimal objective and optimal solutions"
   ]
  },
  {
   "cell_type": "code",
   "execution_count": 17,
   "metadata": {},
   "outputs": [],
   "source": [
    "using Plots"
   ]
  },
  {
   "cell_type": "code",
   "execution_count": 18,
   "metadata": {},
   "outputs": [
    {
     "data": {
      "image/svg+xml": [
       "<?xml version=\"1.0\" encoding=\"utf-8\"?>\n",
       "<svg xmlns=\"http://www.w3.org/2000/svg\" xmlns:xlink=\"http://www.w3.org/1999/xlink\" width=\"600\" height=\"400\" viewBox=\"0 0 2400 1600\">\n",
       "<defs>\n",
       "  <clipPath id=\"clip400\">\n",
       "    <rect x=\"0\" y=\"0\" width=\"2400\" height=\"1600\"/>\n",
       "  </clipPath>\n",
       "</defs>\n",
       "<path clip-path=\"url(#clip400)\" d=\"\n",
       "M0 1600 L2400 1600 L2400 0 L0 0  Z\n",
       "  \" fill=\"#ffffff\" fill-rule=\"evenodd\" fill-opacity=\"1\"/>\n",
       "<defs>\n",
       "  <clipPath id=\"clip401\">\n",
       "    <rect x=\"480\" y=\"0\" width=\"1681\" height=\"1600\"/>\n",
       "  </clipPath>\n",
       "</defs>\n",
       "<path clip-path=\"url(#clip400)\" d=\"\n",
       "M222.871 419.781 L2352.76 419.781 L2352.76 47.2441 L222.871 47.2441  Z\n",
       "  \" fill=\"#ffffff\" fill-rule=\"evenodd\" fill-opacity=\"1\"/>\n",
       "<defs>\n",
       "  <clipPath id=\"clip402\">\n",
       "    <rect x=\"222\" y=\"47\" width=\"2131\" height=\"374\"/>\n",
       "  </clipPath>\n",
       "</defs>\n",
       "<polyline clip-path=\"url(#clip402)\" style=\"stroke:#000000; stroke-linecap:butt; stroke-linejoin:round; stroke-width:2; stroke-opacity:0.1; fill:none\" points=\"\n",
       "  262.855,419.781 262.855,47.2441 \n",
       "  \"/>\n",
       "<polyline clip-path=\"url(#clip402)\" style=\"stroke:#000000; stroke-linecap:butt; stroke-linejoin:round; stroke-width:2; stroke-opacity:0.1; fill:none\" points=\"\n",
       "  770.26,419.781 770.26,47.2441 \n",
       "  \"/>\n",
       "<polyline clip-path=\"url(#clip402)\" style=\"stroke:#000000; stroke-linecap:butt; stroke-linejoin:round; stroke-width:2; stroke-opacity:0.1; fill:none\" points=\"\n",
       "  1277.67,419.781 1277.67,47.2441 \n",
       "  \"/>\n",
       "<polyline clip-path=\"url(#clip402)\" style=\"stroke:#000000; stroke-linecap:butt; stroke-linejoin:round; stroke-width:2; stroke-opacity:0.1; fill:none\" points=\"\n",
       "  1785.07,419.781 1785.07,47.2441 \n",
       "  \"/>\n",
       "<polyline clip-path=\"url(#clip402)\" style=\"stroke:#000000; stroke-linecap:butt; stroke-linejoin:round; stroke-width:2; stroke-opacity:0.1; fill:none\" points=\"\n",
       "  2292.48,419.781 2292.48,47.2441 \n",
       "  \"/>\n",
       "<polyline clip-path=\"url(#clip400)\" style=\"stroke:#000000; stroke-linecap:butt; stroke-linejoin:round; stroke-width:4; stroke-opacity:1; fill:none\" points=\"\n",
       "  222.871,419.781 2352.76,419.781 \n",
       "  \"/>\n",
       "<polyline clip-path=\"url(#clip400)\" style=\"stroke:#000000; stroke-linecap:butt; stroke-linejoin:round; stroke-width:4; stroke-opacity:1; fill:none\" points=\"\n",
       "  262.855,419.781 262.855,400.884 \n",
       "  \"/>\n",
       "<polyline clip-path=\"url(#clip400)\" style=\"stroke:#000000; stroke-linecap:butt; stroke-linejoin:round; stroke-width:4; stroke-opacity:1; fill:none\" points=\"\n",
       "  770.26,419.781 770.26,400.884 \n",
       "  \"/>\n",
       "<polyline clip-path=\"url(#clip400)\" style=\"stroke:#000000; stroke-linecap:butt; stroke-linejoin:round; stroke-width:4; stroke-opacity:1; fill:none\" points=\"\n",
       "  1277.67,419.781 1277.67,400.884 \n",
       "  \"/>\n",
       "<polyline clip-path=\"url(#clip400)\" style=\"stroke:#000000; stroke-linecap:butt; stroke-linejoin:round; stroke-width:4; stroke-opacity:1; fill:none\" points=\"\n",
       "  1785.07,419.781 1785.07,400.884 \n",
       "  \"/>\n",
       "<polyline clip-path=\"url(#clip400)\" style=\"stroke:#000000; stroke-linecap:butt; stroke-linejoin:round; stroke-width:4; stroke-opacity:1; fill:none\" points=\"\n",
       "  2292.48,419.781 2292.48,400.884 \n",
       "  \"/>\n",
       "<path clip-path=\"url(#clip400)\" d=\"M262.855 450.7 Q259.243 450.7 257.415 454.265 Q255.609 457.806 255.609 464.936 Q255.609 472.042 257.415 475.607 Q259.243 479.149 262.855 479.149 Q266.489 479.149 268.294 475.607 Q270.123 472.042 270.123 464.936 Q270.123 457.806 268.294 454.265 Q266.489 450.7 262.855 450.7 M262.855 446.996 Q268.665 446.996 271.72 451.603 Q274.799 456.186 274.799 464.936 Q274.799 473.663 271.72 478.269 Q268.665 482.853 262.855 482.853 Q257.044 482.853 253.966 478.269 Q250.91 473.663 250.91 464.936 Q250.91 456.186 253.966 451.603 Q257.044 446.996 262.855 446.996 Z\" fill=\"#000000\" fill-rule=\"evenodd\" fill-opacity=\"1\" /><path clip-path=\"url(#clip400)\" d=\"M749.531 478.246 L765.85 478.246 L765.85 482.181 L743.906 482.181 L743.906 478.246 Q746.568 475.491 751.151 470.862 Q755.758 466.209 756.938 464.866 Q759.184 462.343 760.063 460.607 Q760.966 458.848 760.966 457.158 Q760.966 454.404 759.022 452.667 Q757.1 450.931 753.998 450.931 Q751.799 450.931 749.346 451.695 Q746.915 452.459 744.137 454.01 L744.137 449.288 Q746.961 448.154 749.415 447.575 Q751.869 446.996 753.906 446.996 Q759.276 446.996 762.471 449.681 Q765.665 452.367 765.665 456.857 Q765.665 458.987 764.855 460.908 Q764.068 462.806 761.961 465.399 Q761.383 466.07 758.281 469.288 Q755.179 472.482 749.531 478.246 Z\" fill=\"#000000\" fill-rule=\"evenodd\" fill-opacity=\"1\" /><path clip-path=\"url(#clip400)\" d=\"M775.711 447.621 L794.068 447.621 L794.068 451.556 L779.994 451.556 L779.994 460.029 Q781.012 459.681 782.031 459.519 Q783.049 459.334 784.068 459.334 Q789.855 459.334 793.234 462.505 Q796.614 465.677 796.614 471.093 Q796.614 476.672 793.142 479.774 Q789.67 482.853 783.35 482.853 Q781.174 482.853 778.906 482.482 Q776.66 482.112 774.253 481.371 L774.253 476.672 Q776.336 477.806 778.559 478.362 Q780.781 478.917 783.258 478.917 Q787.262 478.917 789.6 476.811 Q791.938 474.704 791.938 471.093 Q791.938 467.482 789.6 465.376 Q787.262 463.269 783.258 463.269 Q781.383 463.269 779.508 463.686 Q777.656 464.103 775.711 464.982 L775.711 447.621 Z\" fill=\"#000000\" fill-rule=\"evenodd\" fill-opacity=\"1\" /><path clip-path=\"url(#clip400)\" d=\"M1252.36 447.621 L1270.72 447.621 L1270.72 451.556 L1256.65 451.556 L1256.65 460.029 Q1257.67 459.681 1258.68 459.519 Q1259.7 459.334 1260.72 459.334 Q1266.51 459.334 1269.89 462.505 Q1273.27 465.677 1273.27 471.093 Q1273.27 476.672 1269.8 479.774 Q1266.32 482.853 1260 482.853 Q1257.83 482.853 1255.56 482.482 Q1253.31 482.112 1250.91 481.371 L1250.91 476.672 Q1252.99 477.806 1255.21 478.362 Q1257.43 478.917 1259.91 478.917 Q1263.92 478.917 1266.25 476.811 Q1268.59 474.704 1268.59 471.093 Q1268.59 467.482 1266.25 465.376 Q1263.92 463.269 1259.91 463.269 Q1258.04 463.269 1256.16 463.686 Q1254.31 464.103 1252.36 464.982 L1252.36 447.621 Z\" fill=\"#000000\" fill-rule=\"evenodd\" fill-opacity=\"1\" /><path clip-path=\"url(#clip400)\" d=\"M1292.48 450.7 Q1288.87 450.7 1287.04 454.265 Q1285.23 457.806 1285.23 464.936 Q1285.23 472.042 1287.04 475.607 Q1288.87 479.149 1292.48 479.149 Q1296.11 479.149 1297.92 475.607 Q1299.75 472.042 1299.75 464.936 Q1299.75 457.806 1297.92 454.265 Q1296.11 450.7 1292.48 450.7 M1292.48 446.996 Q1298.29 446.996 1301.35 451.603 Q1304.42 456.186 1304.42 464.936 Q1304.42 473.663 1301.35 478.269 Q1298.29 482.853 1292.48 482.853 Q1286.67 482.853 1283.59 478.269 Q1280.54 473.663 1280.54 464.936 Q1280.54 456.186 1283.59 451.603 Q1286.67 446.996 1292.48 446.996 Z\" fill=\"#000000\" fill-rule=\"evenodd\" fill-opacity=\"1\" /><path clip-path=\"url(#clip400)\" d=\"M1758.93 447.621 L1781.15 447.621 L1781.15 449.612 L1768.6 482.181 L1763.72 482.181 L1775.52 451.556 L1758.93 451.556 L1758.93 447.621 Z\" fill=\"#000000\" fill-rule=\"evenodd\" fill-opacity=\"1\" /><path clip-path=\"url(#clip400)\" d=\"M1790.31 447.621 L1808.67 447.621 L1808.67 451.556 L1794.6 451.556 L1794.6 460.029 Q1795.61 459.681 1796.63 459.519 Q1797.65 459.334 1798.67 459.334 Q1804.46 459.334 1807.84 462.505 Q1811.22 465.677 1811.22 471.093 Q1811.22 476.672 1807.74 479.774 Q1804.27 482.853 1797.95 482.853 Q1795.78 482.853 1793.51 482.482 Q1791.26 482.112 1788.86 481.371 L1788.86 476.672 Q1790.94 477.806 1793.16 478.362 Q1795.38 478.917 1797.86 478.917 Q1801.86 478.917 1804.2 476.811 Q1806.54 474.704 1806.54 471.093 Q1806.54 467.482 1804.2 465.376 Q1801.86 463.269 1797.86 463.269 Q1795.99 463.269 1794.11 463.686 Q1792.26 464.103 1790.31 464.982 L1790.31 447.621 Z\" fill=\"#000000\" fill-rule=\"evenodd\" fill-opacity=\"1\" /><path clip-path=\"url(#clip400)\" d=\"M2252.08 478.246 L2259.72 478.246 L2259.72 451.88 L2251.41 453.547 L2251.41 449.288 L2259.68 447.621 L2264.35 447.621 L2264.35 478.246 L2271.99 478.246 L2271.99 482.181 L2252.08 482.181 L2252.08 478.246 Z\" fill=\"#000000\" fill-rule=\"evenodd\" fill-opacity=\"1\" /><path clip-path=\"url(#clip400)\" d=\"M2291.43 450.7 Q2287.82 450.7 2285.99 454.265 Q2284.19 457.806 2284.19 464.936 Q2284.19 472.042 2285.99 475.607 Q2287.82 479.149 2291.43 479.149 Q2295.07 479.149 2296.87 475.607 Q2298.7 472.042 2298.7 464.936 Q2298.7 457.806 2296.87 454.265 Q2295.07 450.7 2291.43 450.7 M2291.43 446.996 Q2297.24 446.996 2300.3 451.603 Q2303.38 456.186 2303.38 464.936 Q2303.38 473.663 2300.3 478.269 Q2297.24 482.853 2291.43 482.853 Q2285.62 482.853 2282.55 478.269 Q2279.49 473.663 2279.49 464.936 Q2279.49 456.186 2282.55 451.603 Q2285.62 446.996 2291.43 446.996 Z\" fill=\"#000000\" fill-rule=\"evenodd\" fill-opacity=\"1\" /><path clip-path=\"url(#clip400)\" d=\"M2321.6 450.7 Q2317.99 450.7 2316.16 454.265 Q2314.35 457.806 2314.35 464.936 Q2314.35 472.042 2316.16 475.607 Q2317.99 479.149 2321.6 479.149 Q2325.23 479.149 2327.04 475.607 Q2328.86 472.042 2328.86 464.936 Q2328.86 457.806 2327.04 454.265 Q2325.23 450.7 2321.6 450.7 M2321.6 446.996 Q2327.41 446.996 2330.46 451.603 Q2333.54 456.186 2333.54 464.936 Q2333.54 473.663 2330.46 478.269 Q2327.41 482.853 2321.6 482.853 Q2315.79 482.853 2312.71 478.269 Q2309.65 473.663 2309.65 464.936 Q2309.65 456.186 2312.71 451.603 Q2315.79 446.996 2321.6 446.996 Z\" fill=\"#000000\" fill-rule=\"evenodd\" fill-opacity=\"1\" /><polyline clip-path=\"url(#clip402)\" style=\"stroke:#000000; stroke-linecap:butt; stroke-linejoin:round; stroke-width:2; stroke-opacity:0.1; fill:none\" points=\"\n",
       "  222.871,398.615 2352.76,398.615 \n",
       "  \"/>\n",
       "<polyline clip-path=\"url(#clip402)\" style=\"stroke:#000000; stroke-linecap:butt; stroke-linejoin:round; stroke-width:2; stroke-opacity:0.1; fill:none\" points=\"\n",
       "  222.871,316.064 2352.76,316.064 \n",
       "  \"/>\n",
       "<polyline clip-path=\"url(#clip402)\" style=\"stroke:#000000; stroke-linecap:butt; stroke-linejoin:round; stroke-width:2; stroke-opacity:0.1; fill:none\" points=\"\n",
       "  222.871,233.513 2352.76,233.513 \n",
       "  \"/>\n",
       "<polyline clip-path=\"url(#clip402)\" style=\"stroke:#000000; stroke-linecap:butt; stroke-linejoin:round; stroke-width:2; stroke-opacity:0.1; fill:none\" points=\"\n",
       "  222.871,150.961 2352.76,150.961 \n",
       "  \"/>\n",
       "<polyline clip-path=\"url(#clip402)\" style=\"stroke:#000000; stroke-linecap:butt; stroke-linejoin:round; stroke-width:2; stroke-opacity:0.1; fill:none\" points=\"\n",
       "  222.871,68.4102 2352.76,68.4102 \n",
       "  \"/>\n",
       "<polyline clip-path=\"url(#clip400)\" style=\"stroke:#000000; stroke-linecap:butt; stroke-linejoin:round; stroke-width:4; stroke-opacity:1; fill:none\" points=\"\n",
       "  222.871,419.781 222.871,47.2441 \n",
       "  \"/>\n",
       "<polyline clip-path=\"url(#clip400)\" style=\"stroke:#000000; stroke-linecap:butt; stroke-linejoin:round; stroke-width:4; stroke-opacity:1; fill:none\" points=\"\n",
       "  222.871,398.615 241.769,398.615 \n",
       "  \"/>\n",
       "<polyline clip-path=\"url(#clip400)\" style=\"stroke:#000000; stroke-linecap:butt; stroke-linejoin:round; stroke-width:4; stroke-opacity:1; fill:none\" points=\"\n",
       "  222.871,316.064 241.769,316.064 \n",
       "  \"/>\n",
       "<polyline clip-path=\"url(#clip400)\" style=\"stroke:#000000; stroke-linecap:butt; stroke-linejoin:round; stroke-width:4; stroke-opacity:1; fill:none\" points=\"\n",
       "  222.871,233.513 241.769,233.513 \n",
       "  \"/>\n",
       "<polyline clip-path=\"url(#clip400)\" style=\"stroke:#000000; stroke-linecap:butt; stroke-linejoin:round; stroke-width:4; stroke-opacity:1; fill:none\" points=\"\n",
       "  222.871,150.961 241.769,150.961 \n",
       "  \"/>\n",
       "<polyline clip-path=\"url(#clip400)\" style=\"stroke:#000000; stroke-linecap:butt; stroke-linejoin:round; stroke-width:4; stroke-opacity:1; fill:none\" points=\"\n",
       "  222.871,68.4102 241.769,68.4102 \n",
       "  \"/>\n",
       "<path clip-path=\"url(#clip400)\" d=\"M51.3625 399.066 L81.0383 399.066 L81.0383 403.002 L51.3625 403.002 L51.3625 399.066 Z\" fill=\"#000000\" fill-rule=\"evenodd\" fill-opacity=\"1\" /><path clip-path=\"url(#clip400)\" d=\"M101.131 384.414 Q97.5197 384.414 95.691 387.979 Q93.8854 391.52 93.8854 398.65 Q93.8854 405.756 95.691 409.321 Q97.5197 412.863 101.131 412.863 Q104.765 412.863 106.571 409.321 Q108.399 405.756 108.399 398.65 Q108.399 391.52 106.571 387.979 Q104.765 384.414 101.131 384.414 M101.131 380.71 Q106.941 380.71 109.996 385.317 Q113.075 389.9 113.075 398.65 Q113.075 407.377 109.996 411.983 Q106.941 416.566 101.131 416.566 Q95.3206 416.566 92.2419 411.983 Q89.1864 407.377 89.1864 398.65 Q89.1864 389.9 92.2419 385.317 Q95.3206 380.71 101.131 380.71 Z\" fill=\"#000000\" fill-rule=\"evenodd\" fill-opacity=\"1\" /><path clip-path=\"url(#clip400)\" d=\"M121.293 410.015 L126.177 410.015 L126.177 415.895 L121.293 415.895 L121.293 410.015 Z\" fill=\"#000000\" fill-rule=\"evenodd\" fill-opacity=\"1\" /><path clip-path=\"url(#clip400)\" d=\"M146.362 384.414 Q142.751 384.414 140.922 387.979 Q139.117 391.52 139.117 398.65 Q139.117 405.756 140.922 409.321 Q142.751 412.863 146.362 412.863 Q149.996 412.863 151.802 409.321 Q153.63 405.756 153.63 398.65 Q153.63 391.52 151.802 387.979 Q149.996 384.414 146.362 384.414 M146.362 380.71 Q152.172 380.71 155.228 385.317 Q158.306 389.9 158.306 398.65 Q158.306 407.377 155.228 411.983 Q152.172 416.566 146.362 416.566 Q140.552 416.566 137.473 411.983 Q134.418 407.377 134.418 398.65 Q134.418 389.9 137.473 385.317 Q140.552 380.71 146.362 380.71 Z\" fill=\"#000000\" fill-rule=\"evenodd\" fill-opacity=\"1\" /><path clip-path=\"url(#clip400)\" d=\"M170.552 411.96 L186.871 411.96 L186.871 415.895 L164.927 415.895 L164.927 411.96 Q167.589 409.205 172.172 404.576 Q176.778 399.923 177.959 398.58 Q180.204 396.057 181.084 394.321 Q181.987 392.562 181.987 390.872 Q181.987 388.117 180.042 386.381 Q178.121 384.645 175.019 384.645 Q172.82 384.645 170.366 385.409 Q167.936 386.173 165.158 387.724 L165.158 383.002 Q167.982 381.868 170.436 381.289 Q172.89 380.71 174.927 380.71 Q180.297 380.71 183.491 383.395 Q186.686 386.08 186.686 390.571 Q186.686 392.701 185.876 394.622 Q185.089 396.52 182.982 399.113 Q182.403 399.784 179.302 403.002 Q176.2 406.196 170.552 411.96 Z\" fill=\"#000000\" fill-rule=\"evenodd\" fill-opacity=\"1\" /><path clip-path=\"url(#clip400)\" d=\"M50.9921 316.515 L80.6679 316.515 L80.6679 320.45 L50.9921 320.45 L50.9921 316.515 Z\" fill=\"#000000\" fill-rule=\"evenodd\" fill-opacity=\"1\" /><path clip-path=\"url(#clip400)\" d=\"M100.76 301.863 Q97.1493 301.863 95.3206 305.427 Q93.515 308.969 93.515 316.099 Q93.515 323.205 95.3206 326.77 Q97.1493 330.311 100.76 330.311 Q104.395 330.311 106.2 326.77 Q108.029 323.205 108.029 316.099 Q108.029 308.969 106.2 305.427 Q104.395 301.863 100.76 301.863 M100.76 298.159 Q106.571 298.159 109.626 302.765 Q112.705 307.349 112.705 316.099 Q112.705 324.825 109.626 329.432 Q106.571 334.015 100.76 334.015 Q94.9502 334.015 91.8715 329.432 Q88.816 324.825 88.816 316.099 Q88.816 307.349 91.8715 302.765 Q94.9502 298.159 100.76 298.159 Z\" fill=\"#000000\" fill-rule=\"evenodd\" fill-opacity=\"1\" /><path clip-path=\"url(#clip400)\" d=\"M120.922 327.464 L125.807 327.464 L125.807 333.344 L120.922 333.344 L120.922 327.464 Z\" fill=\"#000000\" fill-rule=\"evenodd\" fill-opacity=\"1\" /><path clip-path=\"url(#clip400)\" d=\"M145.992 301.863 Q142.381 301.863 140.552 305.427 Q138.746 308.969 138.746 316.099 Q138.746 323.205 140.552 326.77 Q142.381 330.311 145.992 330.311 Q149.626 330.311 151.431 326.77 Q153.26 323.205 153.26 316.099 Q153.26 308.969 151.431 305.427 Q149.626 301.863 145.992 301.863 M145.992 298.159 Q151.802 298.159 154.857 302.765 Q157.936 307.349 157.936 316.099 Q157.936 324.825 154.857 329.432 Q151.802 334.015 145.992 334.015 Q140.181 334.015 137.103 329.432 Q134.047 324.825 134.047 316.099 Q134.047 307.349 137.103 302.765 Q140.181 298.159 145.992 298.159 Z\" fill=\"#000000\" fill-rule=\"evenodd\" fill-opacity=\"1\" /><path clip-path=\"url(#clip400)\" d=\"M166.964 329.409 L174.603 329.409 L174.603 303.043 L166.292 304.71 L166.292 300.451 L174.556 298.784 L179.232 298.784 L179.232 329.409 L186.871 329.409 L186.871 333.344 L166.964 333.344 L166.964 329.409 Z\" fill=\"#000000\" fill-rule=\"evenodd\" fill-opacity=\"1\" /><path clip-path=\"url(#clip400)\" d=\"M99.5335 219.311 Q95.9224 219.311 94.0937 222.876 Q92.2882 226.418 92.2882 233.547 Q92.2882 240.654 94.0937 244.219 Q95.9224 247.76 99.5335 247.76 Q103.168 247.76 104.973 244.219 Q106.802 240.654 106.802 233.547 Q106.802 226.418 104.973 222.876 Q103.168 219.311 99.5335 219.311 M99.5335 215.608 Q105.344 215.608 108.399 220.214 Q111.478 224.797 111.478 233.547 Q111.478 242.274 108.399 246.881 Q105.344 251.464 99.5335 251.464 Q93.7234 251.464 90.6447 246.881 Q87.5892 242.274 87.5892 233.547 Q87.5892 224.797 90.6447 220.214 Q93.7234 215.608 99.5335 215.608 Z\" fill=\"#000000\" fill-rule=\"evenodd\" fill-opacity=\"1\" /><path clip-path=\"url(#clip400)\" d=\"M119.695 244.913 L124.58 244.913 L124.58 250.793 L119.695 250.793 L119.695 244.913 Z\" fill=\"#000000\" fill-rule=\"evenodd\" fill-opacity=\"1\" /><path clip-path=\"url(#clip400)\" d=\"M144.765 219.311 Q141.154 219.311 139.325 222.876 Q137.519 226.418 137.519 233.547 Q137.519 240.654 139.325 244.219 Q141.154 247.76 144.765 247.76 Q148.399 247.76 150.205 244.219 Q152.033 240.654 152.033 233.547 Q152.033 226.418 150.205 222.876 Q148.399 219.311 144.765 219.311 M144.765 215.608 Q150.575 215.608 153.63 220.214 Q156.709 224.797 156.709 233.547 Q156.709 242.274 153.63 246.881 Q150.575 251.464 144.765 251.464 Q138.955 251.464 135.876 246.881 Q132.82 242.274 132.82 233.547 Q132.82 224.797 135.876 220.214 Q138.955 215.608 144.765 215.608 Z\" fill=\"#000000\" fill-rule=\"evenodd\" fill-opacity=\"1\" /><path clip-path=\"url(#clip400)\" d=\"M174.927 219.311 Q171.316 219.311 169.487 222.876 Q167.681 226.418 167.681 233.547 Q167.681 240.654 169.487 244.219 Q171.316 247.76 174.927 247.76 Q178.561 247.76 180.366 244.219 Q182.195 240.654 182.195 233.547 Q182.195 226.418 180.366 222.876 Q178.561 219.311 174.927 219.311 M174.927 215.608 Q180.737 215.608 183.792 220.214 Q186.871 224.797 186.871 233.547 Q186.871 242.274 183.792 246.881 Q180.737 251.464 174.927 251.464 Q169.116 251.464 166.038 246.881 Q162.982 242.274 162.982 233.547 Q162.982 224.797 166.038 220.214 Q169.116 215.608 174.927 215.608 Z\" fill=\"#000000\" fill-rule=\"evenodd\" fill-opacity=\"1\" /><path clip-path=\"url(#clip400)\" d=\"M100.76 136.76 Q97.1493 136.76 95.3206 140.325 Q93.515 143.867 93.515 150.996 Q93.515 158.103 95.3206 161.667 Q97.1493 165.209 100.76 165.209 Q104.395 165.209 106.2 161.667 Q108.029 158.103 108.029 150.996 Q108.029 143.867 106.2 140.325 Q104.395 136.76 100.76 136.76 M100.76 133.056 Q106.571 133.056 109.626 137.663 Q112.705 142.246 112.705 150.996 Q112.705 159.723 109.626 164.329 Q106.571 168.913 100.76 168.913 Q94.9502 168.913 91.8715 164.329 Q88.816 159.723 88.816 150.996 Q88.816 142.246 91.8715 137.663 Q94.9502 133.056 100.76 133.056 Z\" fill=\"#000000\" fill-rule=\"evenodd\" fill-opacity=\"1\" /><path clip-path=\"url(#clip400)\" d=\"M120.922 162.362 L125.807 162.362 L125.807 168.241 L120.922 168.241 L120.922 162.362 Z\" fill=\"#000000\" fill-rule=\"evenodd\" fill-opacity=\"1\" /><path clip-path=\"url(#clip400)\" d=\"M145.992 136.76 Q142.381 136.76 140.552 140.325 Q138.746 143.867 138.746 150.996 Q138.746 158.103 140.552 161.667 Q142.381 165.209 145.992 165.209 Q149.626 165.209 151.431 161.667 Q153.26 158.103 153.26 150.996 Q153.26 143.867 151.431 140.325 Q149.626 136.76 145.992 136.76 M145.992 133.056 Q151.802 133.056 154.857 137.663 Q157.936 142.246 157.936 150.996 Q157.936 159.723 154.857 164.329 Q151.802 168.913 145.992 168.913 Q140.181 168.913 137.103 164.329 Q134.047 159.723 134.047 150.996 Q134.047 142.246 137.103 137.663 Q140.181 133.056 145.992 133.056 Z\" fill=\"#000000\" fill-rule=\"evenodd\" fill-opacity=\"1\" /><path clip-path=\"url(#clip400)\" d=\"M166.964 164.306 L174.603 164.306 L174.603 137.941 L166.292 139.607 L166.292 135.348 L174.556 133.681 L179.232 133.681 L179.232 164.306 L186.871 164.306 L186.871 168.241 L166.964 168.241 L166.964 164.306 Z\" fill=\"#000000\" fill-rule=\"evenodd\" fill-opacity=\"1\" /><path clip-path=\"url(#clip400)\" d=\"M101.131 54.2089 Q97.5197 54.2089 95.691 57.7737 Q93.8854 61.3153 93.8854 68.4449 Q93.8854 75.5514 95.691 79.1162 Q97.5197 82.6578 101.131 82.6578 Q104.765 82.6578 106.571 79.1162 Q108.399 75.5514 108.399 68.4449 Q108.399 61.3153 106.571 57.7737 Q104.765 54.2089 101.131 54.2089 M101.131 50.5052 Q106.941 50.5052 109.996 55.1117 Q113.075 59.695 113.075 68.4449 Q113.075 77.1717 109.996 81.7782 Q106.941 86.3615 101.131 86.3615 Q95.3206 86.3615 92.2419 81.7782 Q89.1864 77.1717 89.1864 68.4449 Q89.1864 59.695 92.2419 55.1117 Q95.3206 50.5052 101.131 50.5052 Z\" fill=\"#000000\" fill-rule=\"evenodd\" fill-opacity=\"1\" /><path clip-path=\"url(#clip400)\" d=\"M121.293 79.8106 L126.177 79.8106 L126.177 85.6902 L121.293 85.6902 L121.293 79.8106 Z\" fill=\"#000000\" fill-rule=\"evenodd\" fill-opacity=\"1\" /><path clip-path=\"url(#clip400)\" d=\"M146.362 54.2089 Q142.751 54.2089 140.922 57.7737 Q139.117 61.3153 139.117 68.4449 Q139.117 75.5514 140.922 79.1162 Q142.751 82.6578 146.362 82.6578 Q149.996 82.6578 151.802 79.1162 Q153.63 75.5514 153.63 68.4449 Q153.63 61.3153 151.802 57.7737 Q149.996 54.2089 146.362 54.2089 M146.362 50.5052 Q152.172 50.5052 155.228 55.1117 Q158.306 59.695 158.306 68.4449 Q158.306 77.1717 155.228 81.7782 Q152.172 86.3615 146.362 86.3615 Q140.552 86.3615 137.473 81.7782 Q134.418 77.1717 134.418 68.4449 Q134.418 59.695 137.473 55.1117 Q140.552 50.5052 146.362 50.5052 Z\" fill=\"#000000\" fill-rule=\"evenodd\" fill-opacity=\"1\" /><path clip-path=\"url(#clip400)\" d=\"M170.552 81.755 L186.871 81.755 L186.871 85.6902 L164.927 85.6902 L164.927 81.755 Q167.589 79.0004 172.172 74.3708 Q176.778 69.7181 177.959 68.3755 Q180.204 65.8523 181.084 64.1162 Q181.987 62.357 181.987 60.6672 Q181.987 57.9126 180.042 56.1765 Q178.121 54.4404 175.019 54.4404 Q172.82 54.4404 170.366 55.2043 Q167.936 55.9681 165.158 57.5191 L165.158 52.7969 Q167.982 51.6626 170.436 51.0839 Q172.89 50.5052 174.927 50.5052 Q180.297 50.5052 183.491 53.1904 Q186.686 55.8755 186.686 60.3663 Q186.686 62.4959 185.876 64.4172 Q185.089 66.3153 182.982 68.9079 Q182.403 69.5792 179.302 72.7968 Q176.2 75.9912 170.552 81.755 Z\" fill=\"#000000\" fill-rule=\"evenodd\" fill-opacity=\"1\" /><polyline clip-path=\"url(#clip402)\" style=\"stroke:#0000ff; stroke-linecap:butt; stroke-linejoin:round; stroke-width:8; stroke-opacity:1; fill:none\" points=\"\n",
       "  283.151,57.7876 303.447,57.7876 323.743,57.7876 344.039,57.7876 364.336,57.7876 384.632,57.7876 404.928,57.7876 425.224,57.7876 445.521,57.7876 465.817,57.7876 \n",
       "  486.113,57.7876 506.409,57.7876 526.705,57.7876 547.002,57.7876 567.298,57.7876 587.594,57.7876 607.89,57.7876 628.186,57.7876 648.483,57.7876 668.779,57.7876 \n",
       "  689.075,57.7876 709.371,57.7876 729.668,57.7876 749.964,57.7876 770.26,57.7876 790.556,57.7876 810.852,57.7876 831.149,57.7876 851.445,57.7876 871.741,64.2826 \n",
       "  892.037,72.5378 912.333,80.7929 932.63,89.048 952.926,97.3031 973.222,105.558 993.518,113.813 1013.81,122.068 1034.11,130.324 1054.41,138.579 1074.7,146.834 \n",
       "  1095,155.089 1115.3,163.344 1135.59,171.599 1155.89,179.854 1176.18,188.109 1196.48,196.365 1216.78,204.62 1237.07,212.875 1257.37,221.13 1277.67,229.385 \n",
       "  1297.96,237.64 1318.26,245.895 1338.55,254.15 1358.85,262.406 1379.15,270.661 1399.44,278.916 1419.74,287.171 1440.04,295.426 1460.33,303.681 1480.63,311.936 \n",
       "  1500.92,320.191 1521.22,328.447 1541.52,336.702 1561.81,344.957 1582.11,353.212 1602.4,361.467 1622.7,369.722 1643,377.977 1663.29,386.232 1683.59,394.488 \n",
       "  1703.89,402.743 1724.18,409.238 1744.48,409.238 1764.77,409.238 1785.07,409.238 1805.37,409.238 1825.66,409.238 1845.96,409.238 1866.26,409.238 1886.55,409.238 \n",
       "  1906.85,409.238 1927.14,409.238 1947.44,409.238 1967.74,409.238 1988.03,409.238 2008.33,409.238 2028.63,409.238 2048.92,409.238 2069.22,409.238 2089.51,409.238 \n",
       "  2109.81,409.238 2130.11,409.238 2150.4,409.238 2170.7,409.238 2191,409.238 2211.29,409.238 2231.59,409.238 2251.88,409.238 2272.18,409.238 2292.48,409.238 \n",
       "  \n",
       "  \"/>\n",
       "<path clip-path=\"url(#clip400)\" d=\"\n",
       "M293.867 407.363 L789.861 407.363 L789.861 303.683 L293.867 303.683  Z\n",
       "  \" fill=\"#ffffff\" fill-rule=\"evenodd\" fill-opacity=\"1\"/>\n",
       "<polyline clip-path=\"url(#clip400)\" style=\"stroke:#000000; stroke-linecap:butt; stroke-linejoin:round; stroke-width:4; stroke-opacity:1; fill:none\" points=\"\n",
       "  293.867,407.363 789.861,407.363 789.861,303.683 293.867,303.683 293.867,407.363 \n",
       "  \"/>\n",
       "<polyline clip-path=\"url(#clip400)\" style=\"stroke:#0000ff; stroke-linecap:butt; stroke-linejoin:round; stroke-width:4; stroke-opacity:1; fill:none\" points=\"\n",
       "  317.867,355.523 461.867,355.523 \n",
       "  \"/>\n",
       "<path clip-path=\"url(#clip400)\" d=\"M499.27 359.771 Q494.108 359.771 492.117 360.952 Q490.126 362.132 490.126 364.979 Q490.126 367.248 491.608 368.59 Q493.113 369.91 495.682 369.91 Q499.224 369.91 501.353 367.41 Q503.506 364.887 503.506 360.72 L503.506 359.771 L499.27 359.771 M507.765 358.012 L507.765 372.803 L503.506 372.803 L503.506 368.868 Q502.048 371.229 499.872 372.363 Q497.696 373.475 494.548 373.475 Q490.566 373.475 488.205 371.252 Q485.867 369.007 485.867 365.257 Q485.867 360.882 488.784 358.66 Q491.724 356.438 497.534 356.438 L503.506 356.438 L503.506 356.021 Q503.506 353.081 501.562 351.484 Q499.64 349.864 496.145 349.864 Q493.923 349.864 491.816 350.396 Q489.71 350.928 487.765 351.993 L487.765 348.058 Q490.103 347.155 492.302 346.715 Q494.501 346.253 496.585 346.253 Q502.21 346.253 504.987 349.169 Q507.765 352.086 507.765 358.012 Z\" fill=\"#000000\" fill-rule=\"evenodd\" fill-opacity=\"1\" /><path clip-path=\"url(#clip400)\" d=\"M535.196 347.873 L535.196 351.854 Q533.39 350.859 531.561 350.373 Q529.756 349.864 527.904 349.864 Q523.761 349.864 521.469 352.502 Q519.177 355.118 519.177 359.864 Q519.177 364.609 521.469 367.248 Q523.761 369.864 527.904 369.864 Q529.756 369.864 531.561 369.377 Q533.39 368.868 535.196 367.873 L535.196 371.808 Q533.413 372.641 531.492 373.058 Q529.594 373.475 527.441 373.475 Q521.585 373.475 518.136 369.794 Q514.686 366.114 514.686 359.864 Q514.686 353.521 518.159 349.887 Q521.654 346.253 527.719 346.253 Q529.686 346.253 531.561 346.669 Q533.436 347.063 535.196 347.873 Z\" fill=\"#000000\" fill-rule=\"evenodd\" fill-opacity=\"1\" /><path clip-path=\"url(#clip400)\" d=\"M561.26 347.873 L561.26 351.854 Q559.455 350.859 557.626 350.373 Q555.821 349.864 553.969 349.864 Q549.825 349.864 547.534 352.502 Q545.242 355.118 545.242 359.864 Q545.242 364.609 547.534 367.248 Q549.825 369.864 553.969 369.864 Q555.821 369.864 557.626 369.377 Q559.455 368.868 561.26 367.873 L561.26 371.808 Q559.478 372.641 557.557 373.058 Q555.658 373.475 553.506 373.475 Q547.649 373.475 544.2 369.794 Q540.751 366.114 540.751 359.864 Q540.751 353.521 544.223 349.887 Q547.719 346.253 553.783 346.253 Q555.751 346.253 557.626 346.669 Q559.501 347.063 561.26 347.873 Z\" fill=\"#000000\" fill-rule=\"evenodd\" fill-opacity=\"1\" /><path clip-path=\"url(#clip400)\" d=\"M568.668 336.785 L572.927 336.785 L572.927 372.803 L568.668 372.803 L568.668 336.785 Z\" fill=\"#000000\" fill-rule=\"evenodd\" fill-opacity=\"1\" /><path clip-path=\"url(#clip400)\" d=\"M604.015 358.776 L604.015 360.859 L584.431 360.859 Q584.709 365.257 587.07 367.572 Q589.455 369.864 593.691 369.864 Q596.144 369.864 598.436 369.262 Q600.751 368.66 603.019 367.456 L603.019 371.484 Q600.728 372.456 598.32 372.965 Q595.913 373.475 593.436 373.475 Q587.232 373.475 583.598 369.864 Q579.987 366.252 579.987 360.095 Q579.987 353.729 583.413 350.002 Q586.862 346.253 592.695 346.253 Q597.927 346.253 600.959 349.632 Q604.015 352.989 604.015 358.776 M599.755 357.526 Q599.709 354.03 597.788 351.947 Q595.89 349.864 592.742 349.864 Q589.177 349.864 587.024 351.877 Q584.894 353.891 584.57 357.549 L599.755 357.526 Z\" fill=\"#000000\" fill-rule=\"evenodd\" fill-opacity=\"1\" /><path clip-path=\"url(#clip400)\" d=\"M626.028 350.859 Q625.311 350.442 624.454 350.257 Q623.621 350.049 622.603 350.049 Q618.991 350.049 617.047 352.41 Q615.126 354.748 615.126 359.146 L615.126 372.803 L610.843 372.803 L610.843 346.878 L615.126 346.878 L615.126 350.905 Q616.468 348.544 618.621 347.41 Q620.774 346.253 623.853 346.253 Q624.292 346.253 624.825 346.322 Q625.357 346.368 626.005 346.484 L626.028 350.859 Z\" fill=\"#000000\" fill-rule=\"evenodd\" fill-opacity=\"1\" /><path clip-path=\"url(#clip400)\" d=\"M642.278 359.771 Q637.116 359.771 635.126 360.952 Q633.135 362.132 633.135 364.979 Q633.135 367.248 634.616 368.59 Q636.121 369.91 638.69 369.91 Q642.232 369.91 644.362 367.41 Q646.514 364.887 646.514 360.72 L646.514 359.771 L642.278 359.771 M650.774 358.012 L650.774 372.803 L646.514 372.803 L646.514 368.868 Q645.056 371.229 642.88 372.363 Q640.704 373.475 637.556 373.475 Q633.575 373.475 631.214 371.252 Q628.876 369.007 628.876 365.257 Q628.876 360.882 631.792 358.66 Q634.732 356.438 640.542 356.438 L646.514 356.438 L646.514 356.021 Q646.514 353.081 644.57 351.484 Q642.649 349.864 639.153 349.864 Q636.931 349.864 634.825 350.396 Q632.718 350.928 630.774 351.993 L630.774 348.058 Q633.112 347.155 635.311 346.715 Q637.51 346.253 639.593 346.253 Q645.218 346.253 647.996 349.169 Q650.774 352.086 650.774 358.012 Z\" fill=\"#000000\" fill-rule=\"evenodd\" fill-opacity=\"1\" /><path clip-path=\"url(#clip400)\" d=\"M663.76 339.516 L663.76 346.878 L672.533 346.878 L672.533 350.188 L663.76 350.188 L663.76 364.262 Q663.76 367.433 664.616 368.336 Q665.496 369.239 668.158 369.239 L672.533 369.239 L672.533 372.803 L668.158 372.803 Q663.227 372.803 661.352 370.975 Q659.477 369.123 659.477 364.262 L659.477 350.188 L656.352 350.188 L656.352 346.878 L659.477 346.878 L659.477 339.516 L663.76 339.516 Z\" fill=\"#000000\" fill-rule=\"evenodd\" fill-opacity=\"1\" /><path clip-path=\"url(#clip400)\" d=\"M678.135 346.878 L682.394 346.878 L682.394 372.803 L678.135 372.803 L678.135 346.878 M678.135 336.785 L682.394 336.785 L682.394 342.178 L678.135 342.178 L678.135 336.785 Z\" fill=\"#000000\" fill-rule=\"evenodd\" fill-opacity=\"1\" /><path clip-path=\"url(#clip400)\" d=\"M701.352 349.864 Q697.926 349.864 695.936 352.549 Q693.945 355.211 693.945 359.864 Q693.945 364.516 695.912 367.201 Q697.903 369.864 701.352 369.864 Q704.755 369.864 706.746 367.178 Q708.736 364.493 708.736 359.864 Q708.736 355.257 706.746 352.572 Q704.755 349.864 701.352 349.864 M701.352 346.253 Q706.908 346.253 710.079 349.864 Q713.25 353.475 713.25 359.864 Q713.25 366.229 710.079 369.864 Q706.908 373.475 701.352 373.475 Q695.773 373.475 692.602 369.864 Q689.454 366.229 689.454 359.864 Q689.454 353.475 692.602 349.864 Q695.773 346.253 701.352 346.253 Z\" fill=\"#000000\" fill-rule=\"evenodd\" fill-opacity=\"1\" /><path clip-path=\"url(#clip400)\" d=\"M741.861 357.155 L741.861 372.803 L737.602 372.803 L737.602 357.294 Q737.602 353.614 736.167 351.785 Q734.732 349.956 731.861 349.956 Q728.412 349.956 726.421 352.155 Q724.431 354.354 724.431 358.151 L724.431 372.803 L720.148 372.803 L720.148 346.878 L724.431 346.878 L724.431 350.905 Q725.958 348.567 728.019 347.41 Q730.102 346.253 732.81 346.253 Q737.278 346.253 739.57 349.03 Q741.861 351.785 741.861 357.155 Z\" fill=\"#000000\" fill-rule=\"evenodd\" fill-opacity=\"1\" /><path clip-path=\"url(#clip400)\" d=\"\n",
       "M222.871 953.115 L2352.76 953.115 L2352.76 580.577 L222.871 580.577  Z\n",
       "  \" fill=\"#ffffff\" fill-rule=\"evenodd\" fill-opacity=\"1\"/>\n",
       "<defs>\n",
       "  <clipPath id=\"clip403\">\n",
       "    <rect x=\"222\" y=\"580\" width=\"2131\" height=\"374\"/>\n",
       "  </clipPath>\n",
       "</defs>\n",
       "<polyline clip-path=\"url(#clip403)\" style=\"stroke:#000000; stroke-linecap:butt; stroke-linejoin:round; stroke-width:2; stroke-opacity:0.1; fill:none\" points=\"\n",
       "  263.058,953.115 263.058,580.577 \n",
       "  \"/>\n",
       "<polyline clip-path=\"url(#clip403)\" style=\"stroke:#000000; stroke-linecap:butt; stroke-linejoin:round; stroke-width:2; stroke-opacity:0.1; fill:none\" points=\"\n",
       "  765.389,953.115 765.389,580.577 \n",
       "  \"/>\n",
       "<polyline clip-path=\"url(#clip403)\" style=\"stroke:#000000; stroke-linecap:butt; stroke-linejoin:round; stroke-width:2; stroke-opacity:0.1; fill:none\" points=\"\n",
       "  1267.72,953.115 1267.72,580.577 \n",
       "  \"/>\n",
       "<polyline clip-path=\"url(#clip403)\" style=\"stroke:#000000; stroke-linecap:butt; stroke-linejoin:round; stroke-width:2; stroke-opacity:0.1; fill:none\" points=\"\n",
       "  1770.05,953.115 1770.05,580.577 \n",
       "  \"/>\n",
       "<polyline clip-path=\"url(#clip403)\" style=\"stroke:#000000; stroke-linecap:butt; stroke-linejoin:round; stroke-width:2; stroke-opacity:0.1; fill:none\" points=\"\n",
       "  2272.38,953.115 2272.38,580.577 \n",
       "  \"/>\n",
       "<polyline clip-path=\"url(#clip400)\" style=\"stroke:#000000; stroke-linecap:butt; stroke-linejoin:round; stroke-width:4; stroke-opacity:1; fill:none\" points=\"\n",
       "  222.871,953.115 2352.76,953.115 \n",
       "  \"/>\n",
       "<polyline clip-path=\"url(#clip400)\" style=\"stroke:#000000; stroke-linecap:butt; stroke-linejoin:round; stroke-width:4; stroke-opacity:1; fill:none\" points=\"\n",
       "  263.058,953.115 263.058,934.217 \n",
       "  \"/>\n",
       "<polyline clip-path=\"url(#clip400)\" style=\"stroke:#000000; stroke-linecap:butt; stroke-linejoin:round; stroke-width:4; stroke-opacity:1; fill:none\" points=\"\n",
       "  765.389,953.115 765.389,934.217 \n",
       "  \"/>\n",
       "<polyline clip-path=\"url(#clip400)\" style=\"stroke:#000000; stroke-linecap:butt; stroke-linejoin:round; stroke-width:4; stroke-opacity:1; fill:none\" points=\"\n",
       "  1267.72,953.115 1267.72,934.217 \n",
       "  \"/>\n",
       "<polyline clip-path=\"url(#clip400)\" style=\"stroke:#000000; stroke-linecap:butt; stroke-linejoin:round; stroke-width:4; stroke-opacity:1; fill:none\" points=\"\n",
       "  1770.05,953.115 1770.05,934.217 \n",
       "  \"/>\n",
       "<polyline clip-path=\"url(#clip400)\" style=\"stroke:#000000; stroke-linecap:butt; stroke-linejoin:round; stroke-width:4; stroke-opacity:1; fill:none\" points=\"\n",
       "  2272.38,953.115 2272.38,934.217 \n",
       "  \"/>\n",
       "<path clip-path=\"url(#clip400)\" d=\"M263.058 984.033 Q259.446 984.033 257.618 987.598 Q255.812 991.14 255.812 998.269 Q255.812 1005.38 257.618 1008.94 Q259.446 1012.48 263.058 1012.48 Q266.692 1012.48 268.497 1008.94 Q270.326 1005.38 270.326 998.269 Q270.326 991.14 268.497 987.598 Q266.692 984.033 263.058 984.033 M263.058 980.33 Q268.868 980.33 271.923 984.936 Q275.002 989.519 275.002 998.269 Q275.002 1007 271.923 1011.6 Q268.868 1016.19 263.058 1016.19 Q257.247 1016.19 254.169 1011.6 Q251.113 1007 251.113 998.269 Q251.113 989.519 254.169 984.936 Q257.247 980.33 263.058 980.33 Z\" fill=\"#000000\" fill-rule=\"evenodd\" fill-opacity=\"1\" /><path clip-path=\"url(#clip400)\" d=\"M744.66 1011.58 L760.979 1011.58 L760.979 1015.51 L739.035 1015.51 L739.035 1011.58 Q741.697 1008.82 746.28 1004.2 Q750.887 999.542 752.067 998.2 Q754.313 995.677 755.192 993.941 Q756.095 992.181 756.095 990.492 Q756.095 987.737 754.151 986.001 Q752.229 984.265 749.127 984.265 Q746.928 984.265 744.475 985.029 Q742.044 985.792 739.266 987.343 L739.266 982.621 Q742.09 981.487 744.544 980.908 Q746.998 980.33 749.035 980.33 Q754.405 980.33 757.6 983.015 Q760.794 985.7 760.794 990.191 Q760.794 992.32 759.984 994.242 Q759.197 996.14 757.09 998.732 Q756.512 999.404 753.41 1002.62 Q750.308 1005.82 744.66 1011.58 Z\" fill=\"#000000\" fill-rule=\"evenodd\" fill-opacity=\"1\" /><path clip-path=\"url(#clip400)\" d=\"M770.84 980.955 L789.197 980.955 L789.197 984.89 L775.123 984.89 L775.123 993.362 Q776.141 993.015 777.16 992.853 Q778.178 992.667 779.197 992.667 Q784.984 992.667 788.363 995.839 Q791.743 999.01 791.743 1004.43 Q791.743 1010.01 788.271 1013.11 Q784.798 1016.19 778.479 1016.19 Q776.303 1016.19 774.035 1015.82 Q771.789 1015.45 769.382 1014.7 L769.382 1010.01 Q771.465 1011.14 773.687 1011.7 Q775.91 1012.25 778.386 1012.25 Q782.391 1012.25 784.729 1010.14 Q787.067 1008.04 787.067 1004.43 Q787.067 1000.82 784.729 998.709 Q782.391 996.603 778.386 996.603 Q776.511 996.603 774.637 997.019 Q772.785 997.436 770.84 998.316 L770.84 980.955 Z\" fill=\"#000000\" fill-rule=\"evenodd\" fill-opacity=\"1\" /><path clip-path=\"url(#clip400)\" d=\"M1242.42 980.955 L1260.78 980.955 L1260.78 984.89 L1246.7 984.89 L1246.7 993.362 Q1247.72 993.015 1248.74 992.853 Q1249.76 992.667 1250.78 992.667 Q1256.56 992.667 1259.94 995.839 Q1263.32 999.01 1263.32 1004.43 Q1263.32 1010.01 1259.85 1013.11 Q1256.38 1016.19 1250.06 1016.19 Q1247.88 1016.19 1245.61 1015.82 Q1243.37 1015.45 1240.96 1014.7 L1240.96 1010.01 Q1243.04 1011.14 1245.27 1011.7 Q1247.49 1012.25 1249.97 1012.25 Q1253.97 1012.25 1256.31 1010.14 Q1258.65 1008.04 1258.65 1004.43 Q1258.65 1000.82 1256.31 998.709 Q1253.97 996.603 1249.97 996.603 Q1248.09 996.603 1246.22 997.019 Q1244.36 997.436 1242.42 998.316 L1242.42 980.955 Z\" fill=\"#000000\" fill-rule=\"evenodd\" fill-opacity=\"1\" /><path clip-path=\"url(#clip400)\" d=\"M1282.53 984.033 Q1278.92 984.033 1277.1 987.598 Q1275.29 991.14 1275.29 998.269 Q1275.29 1005.38 1277.1 1008.94 Q1278.92 1012.48 1282.53 1012.48 Q1286.17 1012.48 1287.97 1008.94 Q1289.8 1005.38 1289.8 998.269 Q1289.8 991.14 1287.97 987.598 Q1286.17 984.033 1282.53 984.033 M1282.53 980.33 Q1288.35 980.33 1291.4 984.936 Q1294.48 989.519 1294.48 998.269 Q1294.48 1007 1291.4 1011.6 Q1288.35 1016.19 1282.53 1016.19 Q1276.72 1016.19 1273.65 1011.6 Q1270.59 1007 1270.59 998.269 Q1270.59 989.519 1273.65 984.936 Q1276.72 980.33 1282.53 980.33 Z\" fill=\"#000000\" fill-rule=\"evenodd\" fill-opacity=\"1\" /><path clip-path=\"url(#clip400)\" d=\"M1743.91 980.955 L1766.13 980.955 L1766.13 982.945 L1753.58 1015.51 L1748.7 1015.51 L1760.5 984.89 L1743.91 984.89 L1743.91 980.955 Z\" fill=\"#000000\" fill-rule=\"evenodd\" fill-opacity=\"1\" /><path clip-path=\"url(#clip400)\" d=\"M1775.29 980.955 L1793.65 980.955 L1793.65 984.89 L1779.58 984.89 L1779.58 993.362 Q1780.6 993.015 1781.61 992.853 Q1782.63 992.667 1783.65 992.667 Q1789.44 992.667 1792.82 995.839 Q1796.2 999.01 1796.2 1004.43 Q1796.2 1010.01 1792.73 1013.11 Q1789.25 1016.19 1782.93 1016.19 Q1780.76 1016.19 1778.49 1015.82 Q1776.24 1015.45 1773.84 1014.7 L1773.84 1010.01 Q1775.92 1011.14 1778.14 1011.7 Q1780.36 1012.25 1782.84 1012.25 Q1786.85 1012.25 1789.18 1010.14 Q1791.52 1008.04 1791.52 1004.43 Q1791.52 1000.82 1789.18 998.709 Q1786.85 996.603 1782.84 996.603 Q1780.97 996.603 1779.09 997.019 Q1777.24 997.436 1775.29 998.316 L1775.29 980.955 Z\" fill=\"#000000\" fill-rule=\"evenodd\" fill-opacity=\"1\" /><path clip-path=\"url(#clip400)\" d=\"M2231.99 1011.58 L2239.63 1011.58 L2239.63 985.214 L2231.32 986.88 L2231.32 982.621 L2239.58 980.955 L2244.26 980.955 L2244.26 1011.58 L2251.9 1011.58 L2251.9 1015.51 L2231.99 1015.51 L2231.99 1011.58 Z\" fill=\"#000000\" fill-rule=\"evenodd\" fill-opacity=\"1\" /><path clip-path=\"url(#clip400)\" d=\"M2271.34 984.033 Q2267.73 984.033 2265.9 987.598 Q2264.1 991.14 2264.1 998.269 Q2264.1 1005.38 2265.9 1008.94 Q2267.73 1012.48 2271.34 1012.48 Q2274.98 1012.48 2276.78 1008.94 Q2278.61 1005.38 2278.61 998.269 Q2278.61 991.14 2276.78 987.598 Q2274.98 984.033 2271.34 984.033 M2271.34 980.33 Q2277.15 980.33 2280.21 984.936 Q2283.29 989.519 2283.29 998.269 Q2283.29 1007 2280.21 1011.6 Q2277.15 1016.19 2271.34 1016.19 Q2265.53 1016.19 2262.45 1011.6 Q2259.4 1007 2259.4 998.269 Q2259.4 989.519 2262.45 984.936 Q2265.53 980.33 2271.34 980.33 Z\" fill=\"#000000\" fill-rule=\"evenodd\" fill-opacity=\"1\" /><path clip-path=\"url(#clip400)\" d=\"M2301.5 984.033 Q2297.89 984.033 2296.06 987.598 Q2294.26 991.14 2294.26 998.269 Q2294.26 1005.38 2296.06 1008.94 Q2297.89 1012.48 2301.5 1012.48 Q2305.14 1012.48 2306.94 1008.94 Q2308.77 1005.38 2308.77 998.269 Q2308.77 991.14 2306.94 987.598 Q2305.14 984.033 2301.5 984.033 M2301.5 980.33 Q2307.31 980.33 2310.37 984.936 Q2313.45 989.519 2313.45 998.269 Q2313.45 1007 2310.37 1011.6 Q2307.31 1016.19 2301.5 1016.19 Q2295.69 1016.19 2292.61 1011.6 Q2289.56 1007 2289.56 998.269 Q2289.56 989.519 2292.61 984.936 Q2295.69 980.33 2301.5 980.33 Z\" fill=\"#000000\" fill-rule=\"evenodd\" fill-opacity=\"1\" /><polyline clip-path=\"url(#clip403)\" style=\"stroke:#000000; stroke-linecap:butt; stroke-linejoin:round; stroke-width:2; stroke-opacity:0.1; fill:none\" points=\"\n",
       "  222.871,942.571 2352.76,942.571 \n",
       "  \"/>\n",
       "<polyline clip-path=\"url(#clip403)\" style=\"stroke:#000000; stroke-linecap:butt; stroke-linejoin:round; stroke-width:2; stroke-opacity:0.1; fill:none\" points=\"\n",
       "  222.871,872.281 2352.76,872.281 \n",
       "  \"/>\n",
       "<polyline clip-path=\"url(#clip403)\" style=\"stroke:#000000; stroke-linecap:butt; stroke-linejoin:round; stroke-width:2; stroke-opacity:0.1; fill:none\" points=\"\n",
       "  222.871,801.991 2352.76,801.991 \n",
       "  \"/>\n",
       "<polyline clip-path=\"url(#clip403)\" style=\"stroke:#000000; stroke-linecap:butt; stroke-linejoin:round; stroke-width:2; stroke-opacity:0.1; fill:none\" points=\"\n",
       "  222.871,731.701 2352.76,731.701 \n",
       "  \"/>\n",
       "<polyline clip-path=\"url(#clip403)\" style=\"stroke:#000000; stroke-linecap:butt; stroke-linejoin:round; stroke-width:2; stroke-opacity:0.1; fill:none\" points=\"\n",
       "  222.871,661.411 2352.76,661.411 \n",
       "  \"/>\n",
       "<polyline clip-path=\"url(#clip403)\" style=\"stroke:#000000; stroke-linecap:butt; stroke-linejoin:round; stroke-width:2; stroke-opacity:0.1; fill:none\" points=\"\n",
       "  222.871,591.121 2352.76,591.121 \n",
       "  \"/>\n",
       "<polyline clip-path=\"url(#clip400)\" style=\"stroke:#000000; stroke-linecap:butt; stroke-linejoin:round; stroke-width:4; stroke-opacity:1; fill:none\" points=\"\n",
       "  222.871,953.115 222.871,580.577 \n",
       "  \"/>\n",
       "<polyline clip-path=\"url(#clip400)\" style=\"stroke:#000000; stroke-linecap:butt; stroke-linejoin:round; stroke-width:4; stroke-opacity:1; fill:none\" points=\"\n",
       "  222.871,942.571 241.769,942.571 \n",
       "  \"/>\n",
       "<polyline clip-path=\"url(#clip400)\" style=\"stroke:#000000; stroke-linecap:butt; stroke-linejoin:round; stroke-width:4; stroke-opacity:1; fill:none\" points=\"\n",
       "  222.871,872.281 241.769,872.281 \n",
       "  \"/>\n",
       "<polyline clip-path=\"url(#clip400)\" style=\"stroke:#000000; stroke-linecap:butt; stroke-linejoin:round; stroke-width:4; stroke-opacity:1; fill:none\" points=\"\n",
       "  222.871,801.991 241.769,801.991 \n",
       "  \"/>\n",
       "<polyline clip-path=\"url(#clip400)\" style=\"stroke:#000000; stroke-linecap:butt; stroke-linejoin:round; stroke-width:4; stroke-opacity:1; fill:none\" points=\"\n",
       "  222.871,731.701 241.769,731.701 \n",
       "  \"/>\n",
       "<polyline clip-path=\"url(#clip400)\" style=\"stroke:#000000; stroke-linecap:butt; stroke-linejoin:round; stroke-width:4; stroke-opacity:1; fill:none\" points=\"\n",
       "  222.871,661.411 241.769,661.411 \n",
       "  \"/>\n",
       "<polyline clip-path=\"url(#clip400)\" style=\"stroke:#000000; stroke-linecap:butt; stroke-linejoin:round; stroke-width:4; stroke-opacity:1; fill:none\" points=\"\n",
       "  222.871,591.121 241.769,591.121 \n",
       "  \"/>\n",
       "<path clip-path=\"url(#clip400)\" d=\"M174.927 928.37 Q171.316 928.37 169.487 931.935 Q167.681 935.476 167.681 942.606 Q167.681 949.712 169.487 953.277 Q171.316 956.819 174.927 956.819 Q178.561 956.819 180.366 953.277 Q182.195 949.712 182.195 942.606 Q182.195 935.476 180.366 931.935 Q178.561 928.37 174.927 928.37 M174.927 924.666 Q180.737 924.666 183.792 929.272 Q186.871 933.856 186.871 942.606 Q186.871 951.333 183.792 955.939 Q180.737 960.522 174.927 960.522 Q169.116 960.522 166.038 955.939 Q162.982 951.333 162.982 942.606 Q162.982 933.856 166.038 929.272 Q169.116 924.666 174.927 924.666 Z\" fill=\"#000000\" fill-rule=\"evenodd\" fill-opacity=\"1\" /><path clip-path=\"url(#clip400)\" d=\"M135.575 885.626 L143.214 885.626 L143.214 859.26 L134.904 860.927 L134.904 856.668 L143.168 855.001 L147.843 855.001 L147.843 885.626 L155.482 885.626 L155.482 889.561 L135.575 889.561 L135.575 885.626 Z\" fill=\"#000000\" fill-rule=\"evenodd\" fill-opacity=\"1\" /><path clip-path=\"url(#clip400)\" d=\"M174.927 858.08 Q171.316 858.08 169.487 861.644 Q167.681 865.186 167.681 872.316 Q167.681 879.422 169.487 882.987 Q171.316 886.529 174.927 886.529 Q178.561 886.529 180.366 882.987 Q182.195 879.422 182.195 872.316 Q182.195 865.186 180.366 861.644 Q178.561 858.08 174.927 858.08 M174.927 854.376 Q180.737 854.376 183.792 858.982 Q186.871 863.566 186.871 872.316 Q186.871 881.043 183.792 885.649 Q180.737 890.232 174.927 890.232 Q169.116 890.232 166.038 885.649 Q162.982 881.043 162.982 872.316 Q162.982 863.566 166.038 858.982 Q169.116 854.376 174.927 854.376 Z\" fill=\"#000000\" fill-rule=\"evenodd\" fill-opacity=\"1\" /><path clip-path=\"url(#clip400)\" d=\"M138.793 815.336 L155.112 815.336 L155.112 819.271 L133.168 819.271 L133.168 815.336 Q135.83 812.581 140.413 807.952 Q145.019 803.299 146.2 801.956 Q148.445 799.433 149.325 797.697 Q150.228 795.938 150.228 794.248 Q150.228 791.493 148.283 789.757 Q146.362 788.021 143.26 788.021 Q141.061 788.021 138.607 788.785 Q136.177 789.549 133.399 791.1 L133.399 786.378 Q136.223 785.243 138.677 784.665 Q141.131 784.086 143.168 784.086 Q148.538 784.086 151.732 786.771 Q154.927 789.456 154.927 793.947 Q154.927 796.077 154.117 797.998 Q153.33 799.896 151.223 802.489 Q150.644 803.16 147.543 806.378 Q144.441 809.572 138.793 815.336 Z\" fill=\"#000000\" fill-rule=\"evenodd\" fill-opacity=\"1\" /><path clip-path=\"url(#clip400)\" d=\"M174.927 787.79 Q171.316 787.79 169.487 791.354 Q167.681 794.896 167.681 802.026 Q167.681 809.132 169.487 812.697 Q171.316 816.239 174.927 816.239 Q178.561 816.239 180.366 812.697 Q182.195 809.132 182.195 802.026 Q182.195 794.896 180.366 791.354 Q178.561 787.79 174.927 787.79 M174.927 784.086 Q180.737 784.086 183.792 788.692 Q186.871 793.276 186.871 802.026 Q186.871 810.753 183.792 815.359 Q180.737 819.942 174.927 819.942 Q169.116 819.942 166.038 815.359 Q162.982 810.753 162.982 802.026 Q162.982 793.276 166.038 788.692 Q169.116 784.086 174.927 784.086 Z\" fill=\"#000000\" fill-rule=\"evenodd\" fill-opacity=\"1\" /><path clip-path=\"url(#clip400)\" d=\"M148.931 730.347 Q152.288 731.064 154.163 733.333 Q156.061 735.601 156.061 738.935 Q156.061 744.05 152.543 746.851 Q149.024 749.652 142.543 749.652 Q140.367 749.652 138.052 749.212 Q135.76 748.796 133.306 747.939 L133.306 743.425 Q135.251 744.56 137.566 745.138 Q139.881 745.717 142.404 745.717 Q146.802 745.717 149.093 743.981 Q151.408 742.245 151.408 738.935 Q151.408 735.879 149.255 734.166 Q147.126 732.43 143.306 732.43 L139.279 732.43 L139.279 728.588 L143.492 728.588 Q146.941 728.588 148.769 727.222 Q150.598 725.833 150.598 723.24 Q150.598 720.578 148.7 719.166 Q146.825 717.731 143.306 717.731 Q141.385 717.731 139.186 718.148 Q136.987 718.564 134.348 719.444 L134.348 715.277 Q137.01 714.537 139.325 714.166 Q141.663 713.796 143.723 713.796 Q149.047 713.796 152.149 716.227 Q155.251 718.634 155.251 722.754 Q155.251 725.625 153.607 727.615 Q151.964 729.583 148.931 730.347 Z\" fill=\"#000000\" fill-rule=\"evenodd\" fill-opacity=\"1\" /><path clip-path=\"url(#clip400)\" d=\"M174.927 717.5 Q171.316 717.5 169.487 721.064 Q167.681 724.606 167.681 731.736 Q167.681 738.842 169.487 742.407 Q171.316 745.949 174.927 745.949 Q178.561 745.949 180.366 742.407 Q182.195 738.842 182.195 731.736 Q182.195 724.606 180.366 721.064 Q178.561 717.5 174.927 717.5 M174.927 713.796 Q180.737 713.796 183.792 718.402 Q186.871 722.986 186.871 731.736 Q186.871 740.463 183.792 745.069 Q180.737 749.652 174.927 749.652 Q169.116 749.652 166.038 745.069 Q162.982 740.463 162.982 731.736 Q162.982 722.986 166.038 718.402 Q169.116 713.796 174.927 713.796 Z\" fill=\"#000000\" fill-rule=\"evenodd\" fill-opacity=\"1\" /><path clip-path=\"url(#clip400)\" d=\"M147.612 648.205 L135.806 666.654 L147.612 666.654 L147.612 648.205 M146.385 644.131 L152.265 644.131 L152.265 666.654 L157.195 666.654 L157.195 670.543 L152.265 670.543 L152.265 678.691 L147.612 678.691 L147.612 670.543 L132.01 670.543 L132.01 666.029 L146.385 644.131 Z\" fill=\"#000000\" fill-rule=\"evenodd\" fill-opacity=\"1\" /><path clip-path=\"url(#clip400)\" d=\"M174.927 647.21 Q171.316 647.21 169.487 650.774 Q167.681 654.316 167.681 661.446 Q167.681 668.552 169.487 672.117 Q171.316 675.659 174.927 675.659 Q178.561 675.659 180.366 672.117 Q182.195 668.552 182.195 661.446 Q182.195 654.316 180.366 650.774 Q178.561 647.21 174.927 647.21 M174.927 643.506 Q180.737 643.506 183.792 648.112 Q186.871 652.696 186.871 661.446 Q186.871 670.172 183.792 674.779 Q180.737 679.362 174.927 679.362 Q169.116 679.362 166.038 674.779 Q162.982 670.172 162.982 661.446 Q162.982 652.696 166.038 648.112 Q169.116 643.506 174.927 643.506 Z\" fill=\"#000000\" fill-rule=\"evenodd\" fill-opacity=\"1\" /><path clip-path=\"url(#clip400)\" d=\"M134.811 573.841 L153.168 573.841 L153.168 577.776 L139.094 577.776 L139.094 586.248 Q140.112 585.901 141.131 585.739 Q142.149 585.554 143.168 585.554 Q148.955 585.554 152.334 588.725 Q155.714 591.896 155.714 597.313 Q155.714 602.892 152.242 605.994 Q148.769 609.072 142.45 609.072 Q140.274 609.072 138.006 608.702 Q135.76 608.331 133.353 607.591 L133.353 602.892 Q135.436 604.026 137.658 604.582 Q139.881 605.137 142.357 605.137 Q146.362 605.137 148.7 603.031 Q151.038 600.924 151.038 597.313 Q151.038 593.702 148.7 591.595 Q146.362 589.489 142.357 589.489 Q140.482 589.489 138.607 589.906 Q136.756 590.322 134.811 591.202 L134.811 573.841 Z\" fill=\"#000000\" fill-rule=\"evenodd\" fill-opacity=\"1\" /><path clip-path=\"url(#clip400)\" d=\"M174.927 576.92 Q171.316 576.92 169.487 580.484 Q167.681 584.026 167.681 591.156 Q167.681 598.262 169.487 601.827 Q171.316 605.369 174.927 605.369 Q178.561 605.369 180.366 601.827 Q182.195 598.262 182.195 591.156 Q182.195 584.026 180.366 580.484 Q178.561 576.92 174.927 576.92 M174.927 573.216 Q180.737 573.216 183.792 577.822 Q186.871 582.406 186.871 591.156 Q186.871 599.882 183.792 604.489 Q180.737 609.072 174.927 609.072 Q169.116 609.072 166.038 604.489 Q162.982 599.882 162.982 591.156 Q162.982 582.406 166.038 577.822 Q169.116 573.216 174.927 573.216 Z\" fill=\"#000000\" fill-rule=\"evenodd\" fill-opacity=\"1\" /><polyline clip-path=\"url(#clip403)\" style=\"stroke:#ff0000; stroke-linecap:butt; stroke-linejoin:round; stroke-width:8; stroke-opacity:1; fill:none\" points=\"\n",
       "  283.151,942.571 303.244,942.571 323.337,942.421 343.431,942.122 363.524,941.673 383.617,941.075 403.71,940.327 423.804,939.429 443.897,938.382 463.99,937.185 \n",
       "  484.083,935.838 504.177,934.342 524.27,932.696 544.363,930.9 564.456,928.955 584.55,926.86 604.643,924.616 624.736,922.222 644.829,919.678 664.923,916.985 \n",
       "  685.016,914.142 705.109,911.15 725.202,908.008 745.296,904.716 765.389,901.275 785.482,897.684 805.575,893.943 825.669,890.053 845.762,886.013 865.855,881.823 \n",
       "  885.948,877.484 906.042,873.001 926.135,868.381 946.228,863.63 966.321,858.757 986.415,853.768 1006.51,848.67 1026.6,843.469 1046.69,838.174 1066.79,832.791 \n",
       "  1086.88,827.328 1106.97,821.79 1127.07,816.186 1147.16,810.522 1167.25,804.805 1187.35,799.042 1207.44,793.241 1227.53,787.408 1247.63,781.551 1267.72,775.676 \n",
       "  1287.81,769.79 1307.91,763.901 1328,758.016 1348.09,752.141 1368.19,746.284 1388.28,740.451 1408.37,734.65 1428.47,728.887 1448.56,723.17 1468.65,717.506 \n",
       "  1488.75,711.902 1508.84,706.364 1528.93,700.901 1549.03,695.518 1569.12,690.223 1589.21,685.022 1609.31,679.924 1629.4,674.935 1649.49,670.062 1669.59,665.311 \n",
       "  1689.68,660.691 1709.77,656.208 1729.87,651.869 1749.96,647.679 1770.05,643.639 1790.14,639.749 1810.24,636.008 1830.33,632.417 1850.42,628.976 1870.52,625.684 \n",
       "  1890.61,622.542 1910.7,619.55 1930.8,616.707 1950.89,614.014 1970.98,611.47 1991.08,609.076 2011.17,606.832 2031.26,604.737 2051.36,602.792 2071.45,600.996 \n",
       "  2091.54,599.35 2111.64,597.854 2131.73,596.507 2151.82,595.31 2171.92,594.263 2192.01,593.365 2212.1,592.617 2232.2,592.019 2252.29,591.57 2272.38,591.271 \n",
       "  2292.48,591.121 \n",
       "  \"/>\n",
       "<path clip-path=\"url(#clip400)\" d=\"\n",
       "M293.867 696.675 L713.311 696.675 L713.311 592.995 L293.867 592.995  Z\n",
       "  \" fill=\"#ffffff\" fill-rule=\"evenodd\" fill-opacity=\"1\"/>\n",
       "<polyline clip-path=\"url(#clip400)\" style=\"stroke:#000000; stroke-linecap:butt; stroke-linejoin:round; stroke-width:4; stroke-opacity:1; fill:none\" points=\"\n",
       "  293.867,696.675 713.311,696.675 713.311,592.995 293.867,592.995 293.867,696.675 \n",
       "  \"/>\n",
       "<polyline clip-path=\"url(#clip400)\" style=\"stroke:#ff0000; stroke-linecap:butt; stroke-linejoin:round; stroke-width:4; stroke-opacity:1; fill:none\" points=\"\n",
       "  317.867,644.835 461.867,644.835 \n",
       "  \"/>\n",
       "<path clip-path=\"url(#clip400)\" d=\"M490.15 658.226 L490.15 671.976 L485.867 671.976 L485.867 636.19 L490.15 636.19 L490.15 640.125 Q491.492 637.81 493.529 636.699 Q495.589 635.565 498.437 635.565 Q503.159 635.565 506.099 639.315 Q509.062 643.065 509.062 649.176 Q509.062 655.287 506.099 659.037 Q503.159 662.787 498.437 662.787 Q495.589 662.787 493.529 661.676 Q491.492 660.541 490.15 658.226 M504.64 649.176 Q504.64 644.477 502.696 641.815 Q500.775 639.129 497.395 639.129 Q494.015 639.129 492.071 641.815 Q490.15 644.477 490.15 649.176 Q490.15 653.875 492.071 656.56 Q494.015 659.222 497.395 659.222 Q500.775 659.222 502.696 656.56 Q504.64 653.875 504.64 649.176 Z\" fill=\"#000000\" fill-rule=\"evenodd\" fill-opacity=\"1\" /><path clip-path=\"url(#clip400)\" d=\"M526.168 639.176 Q522.742 639.176 520.751 641.861 Q518.761 644.523 518.761 649.176 Q518.761 653.828 520.728 656.514 Q522.719 659.176 526.168 659.176 Q529.571 659.176 531.561 656.49 Q533.552 653.805 533.552 649.176 Q533.552 644.569 531.561 641.884 Q529.571 639.176 526.168 639.176 M526.168 635.565 Q531.723 635.565 534.895 639.176 Q538.066 642.787 538.066 649.176 Q538.066 655.541 534.895 659.176 Q531.723 662.787 526.168 662.787 Q520.589 662.787 517.418 659.176 Q514.27 655.541 514.27 649.176 Q514.27 642.787 517.418 639.176 Q520.589 635.565 526.168 635.565 Z\" fill=\"#000000\" fill-rule=\"evenodd\" fill-opacity=\"1\" /><path clip-path=\"url(#clip400)\" d=\"M561.654 636.953 L561.654 640.981 Q559.848 640.055 557.904 639.592 Q555.959 639.129 553.876 639.129 Q550.705 639.129 549.108 640.102 Q547.534 641.074 547.534 643.018 Q547.534 644.5 548.668 645.356 Q549.802 646.189 553.228 646.953 L554.686 647.277 Q559.223 648.25 561.121 650.032 Q563.043 651.791 563.043 654.963 Q563.043 658.574 560.172 660.68 Q557.325 662.787 552.325 662.787 Q550.242 662.787 547.973 662.37 Q545.728 661.976 543.228 661.166 L543.228 656.768 Q545.589 657.995 547.881 658.62 Q550.172 659.222 552.418 659.222 Q555.427 659.222 557.047 658.203 Q558.668 657.162 558.668 655.287 Q558.668 653.551 557.487 652.625 Q556.33 651.699 552.371 650.842 L550.89 650.495 Q546.932 649.662 545.172 647.949 Q543.413 646.213 543.413 643.203 Q543.413 639.546 546.006 637.555 Q548.598 635.565 553.367 635.565 Q555.728 635.565 557.811 635.912 Q559.895 636.259 561.654 636.953 Z\" fill=\"#000000\" fill-rule=\"evenodd\" fill-opacity=\"1\" /><path clip-path=\"url(#clip400)\" d=\"M569.825 636.19 L574.084 636.19 L574.084 662.115 L569.825 662.115 L569.825 636.19 M569.825 626.097 L574.084 626.097 L574.084 631.49 L569.825 631.49 L569.825 626.097 Z\" fill=\"#000000\" fill-rule=\"evenodd\" fill-opacity=\"1\" /><path clip-path=\"url(#clip400)\" d=\"M587.209 628.828 L587.209 636.19 L595.982 636.19 L595.982 639.5 L587.209 639.5 L587.209 653.574 Q587.209 656.745 588.066 657.648 Q588.945 658.551 591.607 658.551 L595.982 658.551 L595.982 662.115 L591.607 662.115 Q586.677 662.115 584.802 660.287 Q582.927 658.435 582.927 653.574 L582.927 639.5 L579.802 639.5 L579.802 636.19 L582.927 636.19 L582.927 628.828 L587.209 628.828 Z\" fill=\"#000000\" fill-rule=\"evenodd\" fill-opacity=\"1\" /><path clip-path=\"url(#clip400)\" d=\"M601.584 636.19 L605.843 636.19 L605.843 662.115 L601.584 662.115 L601.584 636.19 M601.584 626.097 L605.843 626.097 L605.843 631.49 L601.584 631.49 L601.584 626.097 Z\" fill=\"#000000\" fill-rule=\"evenodd\" fill-opacity=\"1\" /><path clip-path=\"url(#clip400)\" d=\"M624.802 639.176 Q621.376 639.176 619.385 641.861 Q617.394 644.523 617.394 649.176 Q617.394 653.828 619.362 656.514 Q621.353 659.176 624.802 659.176 Q628.204 659.176 630.195 656.49 Q632.186 653.805 632.186 649.176 Q632.186 644.569 630.195 641.884 Q628.204 639.176 624.802 639.176 M624.802 635.565 Q630.357 635.565 633.528 639.176 Q636.7 642.787 636.7 649.176 Q636.7 655.541 633.528 659.176 Q630.357 662.787 624.802 662.787 Q619.223 662.787 616.052 659.176 Q612.904 655.541 612.904 649.176 Q612.904 642.787 616.052 639.176 Q619.223 635.565 624.802 635.565 Z\" fill=\"#000000\" fill-rule=\"evenodd\" fill-opacity=\"1\" /><path clip-path=\"url(#clip400)\" d=\"M665.311 646.467 L665.311 662.115 L661.051 662.115 L661.051 646.606 Q661.051 642.926 659.616 641.097 Q658.181 639.268 655.311 639.268 Q651.862 639.268 649.871 641.467 Q647.88 643.666 647.88 647.463 L647.88 662.115 L643.598 662.115 L643.598 636.19 L647.88 636.19 L647.88 640.217 Q649.408 637.879 651.468 636.722 Q653.551 635.565 656.26 635.565 Q660.727 635.565 663.019 638.342 Q665.311 641.097 665.311 646.467 Z\" fill=\"#000000\" fill-rule=\"evenodd\" fill-opacity=\"1\" /><path clip-path=\"url(#clip400)\" d=\"\n",
       "M222.871 1486.45 L2352.76 1486.45 L2352.76 1113.91 L222.871 1113.91  Z\n",
       "  \" fill=\"#ffffff\" fill-rule=\"evenodd\" fill-opacity=\"1\"/>\n",
       "<defs>\n",
       "  <clipPath id=\"clip404\">\n",
       "    <rect x=\"222\" y=\"1113\" width=\"2131\" height=\"374\"/>\n",
       "  </clipPath>\n",
       "</defs>\n",
       "<polyline clip-path=\"url(#clip404)\" style=\"stroke:#000000; stroke-linecap:butt; stroke-linejoin:round; stroke-width:2; stroke-opacity:0.1; fill:none\" points=\"\n",
       "  263.058,1486.45 263.058,1113.91 \n",
       "  \"/>\n",
       "<polyline clip-path=\"url(#clip404)\" style=\"stroke:#000000; stroke-linecap:butt; stroke-linejoin:round; stroke-width:2; stroke-opacity:0.1; fill:none\" points=\"\n",
       "  765.389,1486.45 765.389,1113.91 \n",
       "  \"/>\n",
       "<polyline clip-path=\"url(#clip404)\" style=\"stroke:#000000; stroke-linecap:butt; stroke-linejoin:round; stroke-width:2; stroke-opacity:0.1; fill:none\" points=\"\n",
       "  1267.72,1486.45 1267.72,1113.91 \n",
       "  \"/>\n",
       "<polyline clip-path=\"url(#clip404)\" style=\"stroke:#000000; stroke-linecap:butt; stroke-linejoin:round; stroke-width:2; stroke-opacity:0.1; fill:none\" points=\"\n",
       "  1770.05,1486.45 1770.05,1113.91 \n",
       "  \"/>\n",
       "<polyline clip-path=\"url(#clip404)\" style=\"stroke:#000000; stroke-linecap:butt; stroke-linejoin:round; stroke-width:2; stroke-opacity:0.1; fill:none\" points=\"\n",
       "  2272.38,1486.45 2272.38,1113.91 \n",
       "  \"/>\n",
       "<polyline clip-path=\"url(#clip400)\" style=\"stroke:#000000; stroke-linecap:butt; stroke-linejoin:round; stroke-width:4; stroke-opacity:1; fill:none\" points=\"\n",
       "  222.871,1486.45 2352.76,1486.45 \n",
       "  \"/>\n",
       "<polyline clip-path=\"url(#clip400)\" style=\"stroke:#000000; stroke-linecap:butt; stroke-linejoin:round; stroke-width:4; stroke-opacity:1; fill:none\" points=\"\n",
       "  263.058,1486.45 263.058,1467.55 \n",
       "  \"/>\n",
       "<polyline clip-path=\"url(#clip400)\" style=\"stroke:#000000; stroke-linecap:butt; stroke-linejoin:round; stroke-width:4; stroke-opacity:1; fill:none\" points=\"\n",
       "  765.389,1486.45 765.389,1467.55 \n",
       "  \"/>\n",
       "<polyline clip-path=\"url(#clip400)\" style=\"stroke:#000000; stroke-linecap:butt; stroke-linejoin:round; stroke-width:4; stroke-opacity:1; fill:none\" points=\"\n",
       "  1267.72,1486.45 1267.72,1467.55 \n",
       "  \"/>\n",
       "<polyline clip-path=\"url(#clip400)\" style=\"stroke:#000000; stroke-linecap:butt; stroke-linejoin:round; stroke-width:4; stroke-opacity:1; fill:none\" points=\"\n",
       "  1770.05,1486.45 1770.05,1467.55 \n",
       "  \"/>\n",
       "<polyline clip-path=\"url(#clip400)\" style=\"stroke:#000000; stroke-linecap:butt; stroke-linejoin:round; stroke-width:4; stroke-opacity:1; fill:none\" points=\"\n",
       "  2272.38,1486.45 2272.38,1467.55 \n",
       "  \"/>\n",
       "<path clip-path=\"url(#clip400)\" d=\"M263.058 1517.37 Q259.446 1517.37 257.618 1520.93 Q255.812 1524.47 255.812 1531.6 Q255.812 1538.71 257.618 1542.27 Q259.446 1545.82 263.058 1545.82 Q266.692 1545.82 268.497 1542.27 Q270.326 1538.71 270.326 1531.6 Q270.326 1524.47 268.497 1520.93 Q266.692 1517.37 263.058 1517.37 M263.058 1513.66 Q268.868 1513.66 271.923 1518.27 Q275.002 1522.85 275.002 1531.6 Q275.002 1540.33 271.923 1544.94 Q268.868 1549.52 263.058 1549.52 Q257.247 1549.52 254.169 1544.94 Q251.113 1540.33 251.113 1531.6 Q251.113 1522.85 254.169 1518.27 Q257.247 1513.66 263.058 1513.66 Z\" fill=\"#000000\" fill-rule=\"evenodd\" fill-opacity=\"1\" /><path clip-path=\"url(#clip400)\" d=\"M744.66 1544.91 L760.979 1544.91 L760.979 1548.85 L739.035 1548.85 L739.035 1544.91 Q741.697 1542.16 746.28 1537.53 Q750.887 1532.88 752.067 1531.53 Q754.313 1529.01 755.192 1527.27 Q756.095 1525.51 756.095 1523.82 Q756.095 1521.07 754.151 1519.33 Q752.229 1517.6 749.127 1517.6 Q746.928 1517.6 744.475 1518.36 Q742.044 1519.13 739.266 1520.68 L739.266 1515.95 Q742.09 1514.82 744.544 1514.24 Q746.998 1513.66 749.035 1513.66 Q754.405 1513.66 757.6 1516.35 Q760.794 1519.03 760.794 1523.52 Q760.794 1525.65 759.984 1527.57 Q759.197 1529.47 757.09 1532.07 Q756.512 1532.74 753.41 1535.95 Q750.308 1539.15 744.66 1544.91 Z\" fill=\"#000000\" fill-rule=\"evenodd\" fill-opacity=\"1\" /><path clip-path=\"url(#clip400)\" d=\"M770.84 1514.29 L789.197 1514.29 L789.197 1518.22 L775.123 1518.22 L775.123 1526.7 Q776.141 1526.35 777.16 1526.19 Q778.178 1526 779.197 1526 Q784.984 1526 788.363 1529.17 Q791.743 1532.34 791.743 1537.76 Q791.743 1543.34 788.271 1546.44 Q784.798 1549.52 778.479 1549.52 Q776.303 1549.52 774.035 1549.15 Q771.789 1548.78 769.382 1548.04 L769.382 1543.34 Q771.465 1544.47 773.687 1545.03 Q775.91 1545.58 778.386 1545.58 Q782.391 1545.58 784.729 1543.48 Q787.067 1541.37 787.067 1537.76 Q787.067 1534.15 784.729 1532.04 Q782.391 1529.94 778.386 1529.94 Q776.511 1529.94 774.637 1530.35 Q772.785 1530.77 770.84 1531.65 L770.84 1514.29 Z\" fill=\"#000000\" fill-rule=\"evenodd\" fill-opacity=\"1\" /><path clip-path=\"url(#clip400)\" d=\"M1242.42 1514.29 L1260.78 1514.29 L1260.78 1518.22 L1246.7 1518.22 L1246.7 1526.7 Q1247.72 1526.35 1248.74 1526.19 Q1249.76 1526 1250.78 1526 Q1256.56 1526 1259.94 1529.17 Q1263.32 1532.34 1263.32 1537.76 Q1263.32 1543.34 1259.85 1546.44 Q1256.38 1549.52 1250.06 1549.52 Q1247.88 1549.52 1245.61 1549.15 Q1243.37 1548.78 1240.96 1548.04 L1240.96 1543.34 Q1243.04 1544.47 1245.27 1545.03 Q1247.49 1545.58 1249.97 1545.58 Q1253.97 1545.58 1256.31 1543.48 Q1258.65 1541.37 1258.65 1537.76 Q1258.65 1534.15 1256.31 1532.04 Q1253.97 1529.94 1249.97 1529.94 Q1248.09 1529.94 1246.22 1530.35 Q1244.36 1530.77 1242.42 1531.65 L1242.42 1514.29 Z\" fill=\"#000000\" fill-rule=\"evenodd\" fill-opacity=\"1\" /><path clip-path=\"url(#clip400)\" d=\"M1282.53 1517.37 Q1278.92 1517.37 1277.1 1520.93 Q1275.29 1524.47 1275.29 1531.6 Q1275.29 1538.71 1277.1 1542.27 Q1278.92 1545.82 1282.53 1545.82 Q1286.17 1545.82 1287.97 1542.27 Q1289.8 1538.71 1289.8 1531.6 Q1289.8 1524.47 1287.97 1520.93 Q1286.17 1517.37 1282.53 1517.37 M1282.53 1513.66 Q1288.35 1513.66 1291.4 1518.27 Q1294.48 1522.85 1294.48 1531.6 Q1294.48 1540.33 1291.4 1544.94 Q1288.35 1549.52 1282.53 1549.52 Q1276.72 1549.52 1273.65 1544.94 Q1270.59 1540.33 1270.59 1531.6 Q1270.59 1522.85 1273.65 1518.27 Q1276.72 1513.66 1282.53 1513.66 Z\" fill=\"#000000\" fill-rule=\"evenodd\" fill-opacity=\"1\" /><path clip-path=\"url(#clip400)\" d=\"M1743.91 1514.29 L1766.13 1514.29 L1766.13 1516.28 L1753.58 1548.85 L1748.7 1548.85 L1760.5 1518.22 L1743.91 1518.22 L1743.91 1514.29 Z\" fill=\"#000000\" fill-rule=\"evenodd\" fill-opacity=\"1\" /><path clip-path=\"url(#clip400)\" d=\"M1775.29 1514.29 L1793.65 1514.29 L1793.65 1518.22 L1779.58 1518.22 L1779.58 1526.7 Q1780.6 1526.35 1781.61 1526.19 Q1782.63 1526 1783.65 1526 Q1789.44 1526 1792.82 1529.17 Q1796.2 1532.34 1796.2 1537.76 Q1796.2 1543.34 1792.73 1546.44 Q1789.25 1549.52 1782.93 1549.52 Q1780.76 1549.52 1778.49 1549.15 Q1776.24 1548.78 1773.84 1548.04 L1773.84 1543.34 Q1775.92 1544.47 1778.14 1545.03 Q1780.36 1545.58 1782.84 1545.58 Q1786.85 1545.58 1789.18 1543.48 Q1791.52 1541.37 1791.52 1537.76 Q1791.52 1534.15 1789.18 1532.04 Q1786.85 1529.94 1782.84 1529.94 Q1780.97 1529.94 1779.09 1530.35 Q1777.24 1530.77 1775.29 1531.65 L1775.29 1514.29 Z\" fill=\"#000000\" fill-rule=\"evenodd\" fill-opacity=\"1\" /><path clip-path=\"url(#clip400)\" d=\"M2231.99 1544.91 L2239.63 1544.91 L2239.63 1518.55 L2231.32 1520.21 L2231.32 1515.95 L2239.58 1514.29 L2244.26 1514.29 L2244.26 1544.91 L2251.9 1544.91 L2251.9 1548.85 L2231.99 1548.85 L2231.99 1544.91 Z\" fill=\"#000000\" fill-rule=\"evenodd\" fill-opacity=\"1\" /><path clip-path=\"url(#clip400)\" d=\"M2271.34 1517.37 Q2267.73 1517.37 2265.9 1520.93 Q2264.1 1524.47 2264.1 1531.6 Q2264.1 1538.71 2265.9 1542.27 Q2267.73 1545.82 2271.34 1545.82 Q2274.98 1545.82 2276.78 1542.27 Q2278.61 1538.71 2278.61 1531.6 Q2278.61 1524.47 2276.78 1520.93 Q2274.98 1517.37 2271.34 1517.37 M2271.34 1513.66 Q2277.15 1513.66 2280.21 1518.27 Q2283.29 1522.85 2283.29 1531.6 Q2283.29 1540.33 2280.21 1544.94 Q2277.15 1549.52 2271.34 1549.52 Q2265.53 1549.52 2262.45 1544.94 Q2259.4 1540.33 2259.4 1531.6 Q2259.4 1522.85 2262.45 1518.27 Q2265.53 1513.66 2271.34 1513.66 Z\" fill=\"#000000\" fill-rule=\"evenodd\" fill-opacity=\"1\" /><path clip-path=\"url(#clip400)\" d=\"M2301.5 1517.37 Q2297.89 1517.37 2296.06 1520.93 Q2294.26 1524.47 2294.26 1531.6 Q2294.26 1538.71 2296.06 1542.27 Q2297.89 1545.82 2301.5 1545.82 Q2305.14 1545.82 2306.94 1542.27 Q2308.77 1538.71 2308.77 1531.6 Q2308.77 1524.47 2306.94 1520.93 Q2305.14 1517.37 2301.5 1517.37 M2301.5 1513.66 Q2307.31 1513.66 2310.37 1518.27 Q2313.45 1522.85 2313.45 1531.6 Q2313.45 1540.33 2310.37 1544.94 Q2307.31 1549.52 2301.5 1549.52 Q2295.69 1549.52 2292.61 1544.94 Q2289.56 1540.33 2289.56 1531.6 Q2289.56 1522.85 2292.61 1518.27 Q2295.69 1513.66 2301.5 1513.66 Z\" fill=\"#000000\" fill-rule=\"evenodd\" fill-opacity=\"1\" /><polyline clip-path=\"url(#clip404)\" style=\"stroke:#000000; stroke-linecap:butt; stroke-linejoin:round; stroke-width:2; stroke-opacity:0.1; fill:none\" points=\"\n",
       "  222.871,1475.9 2352.76,1475.9 \n",
       "  \"/>\n",
       "<polyline clip-path=\"url(#clip404)\" style=\"stroke:#000000; stroke-linecap:butt; stroke-linejoin:round; stroke-width:2; stroke-opacity:0.1; fill:none\" points=\"\n",
       "  222.871,1392.01 2352.76,1392.01 \n",
       "  \"/>\n",
       "<polyline clip-path=\"url(#clip404)\" style=\"stroke:#000000; stroke-linecap:butt; stroke-linejoin:round; stroke-width:2; stroke-opacity:0.1; fill:none\" points=\"\n",
       "  222.871,1308.11 2352.76,1308.11 \n",
       "  \"/>\n",
       "<polyline clip-path=\"url(#clip404)\" style=\"stroke:#000000; stroke-linecap:butt; stroke-linejoin:round; stroke-width:2; stroke-opacity:0.1; fill:none\" points=\"\n",
       "  222.871,1224.21 2352.76,1224.21 \n",
       "  \"/>\n",
       "<polyline clip-path=\"url(#clip404)\" style=\"stroke:#000000; stroke-linecap:butt; stroke-linejoin:round; stroke-width:2; stroke-opacity:0.1; fill:none\" points=\"\n",
       "  222.871,1140.32 2352.76,1140.32 \n",
       "  \"/>\n",
       "<polyline clip-path=\"url(#clip400)\" style=\"stroke:#000000; stroke-linecap:butt; stroke-linejoin:round; stroke-width:4; stroke-opacity:1; fill:none\" points=\"\n",
       "  222.871,1486.45 222.871,1113.91 \n",
       "  \"/>\n",
       "<polyline clip-path=\"url(#clip400)\" style=\"stroke:#000000; stroke-linecap:butt; stroke-linejoin:round; stroke-width:4; stroke-opacity:1; fill:none\" points=\"\n",
       "  222.871,1475.9 241.769,1475.9 \n",
       "  \"/>\n",
       "<polyline clip-path=\"url(#clip400)\" style=\"stroke:#000000; stroke-linecap:butt; stroke-linejoin:round; stroke-width:4; stroke-opacity:1; fill:none\" points=\"\n",
       "  222.871,1392.01 241.769,1392.01 \n",
       "  \"/>\n",
       "<polyline clip-path=\"url(#clip400)\" style=\"stroke:#000000; stroke-linecap:butt; stroke-linejoin:round; stroke-width:4; stroke-opacity:1; fill:none\" points=\"\n",
       "  222.871,1308.11 241.769,1308.11 \n",
       "  \"/>\n",
       "<polyline clip-path=\"url(#clip400)\" style=\"stroke:#000000; stroke-linecap:butt; stroke-linejoin:round; stroke-width:4; stroke-opacity:1; fill:none\" points=\"\n",
       "  222.871,1224.21 241.769,1224.21 \n",
       "  \"/>\n",
       "<polyline clip-path=\"url(#clip400)\" style=\"stroke:#000000; stroke-linecap:butt; stroke-linejoin:round; stroke-width:4; stroke-opacity:1; fill:none\" points=\"\n",
       "  222.871,1140.32 241.769,1140.32 \n",
       "  \"/>\n",
       "<path clip-path=\"url(#clip400)\" d=\"M129.695 1461.7 Q126.084 1461.7 124.256 1465.27 Q122.45 1468.81 122.45 1475.94 Q122.45 1483.05 124.256 1486.61 Q126.084 1490.15 129.695 1490.15 Q133.33 1490.15 135.135 1486.61 Q136.964 1483.05 136.964 1475.94 Q136.964 1468.81 135.135 1465.27 Q133.33 1461.7 129.695 1461.7 M129.695 1458 Q135.506 1458 138.561 1462.61 Q141.64 1467.19 141.64 1475.94 Q141.64 1484.67 138.561 1489.27 Q135.506 1493.86 129.695 1493.86 Q123.885 1493.86 120.807 1489.27 Q117.751 1484.67 117.751 1475.94 Q117.751 1467.19 120.807 1462.61 Q123.885 1458 129.695 1458 Z\" fill=\"#000000\" fill-rule=\"evenodd\" fill-opacity=\"1\" /><path clip-path=\"url(#clip400)\" d=\"M149.857 1487.3 L154.742 1487.3 L154.742 1493.18 L149.857 1493.18 L149.857 1487.3 Z\" fill=\"#000000\" fill-rule=\"evenodd\" fill-opacity=\"1\" /><path clip-path=\"url(#clip400)\" d=\"M174.927 1461.7 Q171.316 1461.7 169.487 1465.27 Q167.681 1468.81 167.681 1475.94 Q167.681 1483.05 169.487 1486.61 Q171.316 1490.15 174.927 1490.15 Q178.561 1490.15 180.366 1486.61 Q182.195 1483.05 182.195 1475.94 Q182.195 1468.81 180.366 1465.27 Q178.561 1461.7 174.927 1461.7 M174.927 1458 Q180.737 1458 183.792 1462.61 Q186.871 1467.19 186.871 1475.94 Q186.871 1484.67 183.792 1489.27 Q180.737 1493.86 174.927 1493.86 Q169.116 1493.86 166.038 1489.27 Q162.982 1484.67 162.982 1475.94 Q162.982 1467.19 166.038 1462.61 Q169.116 1458 174.927 1458 Z\" fill=\"#000000\" fill-rule=\"evenodd\" fill-opacity=\"1\" /><path clip-path=\"url(#clip400)\" d=\"M131.293 1377.81 Q127.682 1377.81 125.853 1381.37 Q124.047 1384.91 124.047 1392.04 Q124.047 1399.15 125.853 1402.71 Q127.682 1406.26 131.293 1406.26 Q134.927 1406.26 136.732 1402.71 Q138.561 1399.15 138.561 1392.04 Q138.561 1384.91 136.732 1381.37 Q134.927 1377.81 131.293 1377.81 M131.293 1374.1 Q137.103 1374.1 140.158 1378.71 Q143.237 1383.29 143.237 1392.04 Q143.237 1400.77 140.158 1405.38 Q137.103 1409.96 131.293 1409.96 Q125.482 1409.96 122.404 1405.38 Q119.348 1400.77 119.348 1392.04 Q119.348 1383.29 122.404 1378.71 Q125.482 1374.1 131.293 1374.1 Z\" fill=\"#000000\" fill-rule=\"evenodd\" fill-opacity=\"1\" /><path clip-path=\"url(#clip400)\" d=\"M151.455 1403.41 L156.339 1403.41 L156.339 1409.29 L151.455 1409.29 L151.455 1403.41 Z\" fill=\"#000000\" fill-rule=\"evenodd\" fill-opacity=\"1\" /><path clip-path=\"url(#clip400)\" d=\"M170.552 1405.35 L186.871 1405.35 L186.871 1409.29 L164.927 1409.29 L164.927 1405.35 Q167.589 1402.6 172.172 1397.97 Q176.778 1393.32 177.959 1391.97 Q180.204 1389.45 181.084 1387.71 Q181.987 1385.95 181.987 1384.26 Q181.987 1381.51 180.042 1379.77 Q178.121 1378.04 175.019 1378.04 Q172.82 1378.04 170.366 1378.8 Q167.936 1379.57 165.158 1381.12 L165.158 1376.39 Q167.982 1375.26 170.436 1374.68 Q172.89 1374.1 174.927 1374.1 Q180.297 1374.1 183.491 1376.79 Q186.686 1379.47 186.686 1383.96 Q186.686 1386.09 185.876 1388.01 Q185.089 1389.91 182.982 1392.51 Q182.403 1393.18 179.302 1396.39 Q176.2 1399.59 170.552 1405.35 Z\" fill=\"#000000\" fill-rule=\"evenodd\" fill-opacity=\"1\" /><path clip-path=\"url(#clip400)\" d=\"M129.209 1293.91 Q125.598 1293.91 123.77 1297.47 Q121.964 1301.02 121.964 1308.15 Q121.964 1315.25 123.77 1318.82 Q125.598 1322.36 129.209 1322.36 Q132.844 1322.36 134.649 1318.82 Q136.478 1315.25 136.478 1308.15 Q136.478 1301.02 134.649 1297.47 Q132.844 1293.91 129.209 1293.91 M129.209 1290.21 Q135.019 1290.21 138.075 1294.81 Q141.154 1299.4 141.154 1308.15 Q141.154 1316.87 138.075 1321.48 Q135.019 1326.06 129.209 1326.06 Q123.399 1326.06 120.32 1321.48 Q117.265 1316.87 117.265 1308.15 Q117.265 1299.4 120.32 1294.81 Q123.399 1290.21 129.209 1290.21 Z\" fill=\"#000000\" fill-rule=\"evenodd\" fill-opacity=\"1\" /><path clip-path=\"url(#clip400)\" d=\"M149.371 1319.51 L154.255 1319.51 L154.255 1325.39 L149.371 1325.39 L149.371 1319.51 Z\" fill=\"#000000\" fill-rule=\"evenodd\" fill-opacity=\"1\" /><path clip-path=\"url(#clip400)\" d=\"M177.288 1294.91 L165.482 1313.35 L177.288 1313.35 L177.288 1294.91 M176.061 1290.83 L181.94 1290.83 L181.94 1313.35 L186.871 1313.35 L186.871 1317.24 L181.94 1317.24 L181.94 1325.39 L177.288 1325.39 L177.288 1317.24 L161.686 1317.24 L161.686 1312.73 L176.061 1290.83 Z\" fill=\"#000000\" fill-rule=\"evenodd\" fill-opacity=\"1\" /><path clip-path=\"url(#clip400)\" d=\"M129.533 1210.01 Q125.922 1210.01 124.094 1213.58 Q122.288 1217.12 122.288 1224.25 Q122.288 1231.36 124.094 1234.92 Q125.922 1238.46 129.533 1238.46 Q133.168 1238.46 134.973 1234.92 Q136.802 1231.36 136.802 1224.25 Q136.802 1217.12 134.973 1213.58 Q133.168 1210.01 129.533 1210.01 M129.533 1206.31 Q135.344 1206.31 138.399 1210.92 Q141.478 1215.5 141.478 1224.25 Q141.478 1232.98 138.399 1237.58 Q135.344 1242.17 129.533 1242.17 Q123.723 1242.17 120.645 1237.58 Q117.589 1232.98 117.589 1224.25 Q117.589 1215.5 120.645 1210.92 Q123.723 1206.31 129.533 1206.31 Z\" fill=\"#000000\" fill-rule=\"evenodd\" fill-opacity=\"1\" /><path clip-path=\"url(#clip400)\" d=\"M149.695 1235.61 L154.58 1235.61 L154.58 1241.49 L149.695 1241.49 L149.695 1235.61 Z\" fill=\"#000000\" fill-rule=\"evenodd\" fill-opacity=\"1\" /><path clip-path=\"url(#clip400)\" d=\"M175.343 1222.35 Q172.195 1222.35 170.343 1224.5 Q168.515 1226.66 168.515 1230.41 Q168.515 1234.13 170.343 1236.31 Q172.195 1238.46 175.343 1238.46 Q178.491 1238.46 180.32 1236.31 Q182.172 1234.13 182.172 1230.41 Q182.172 1226.66 180.32 1224.5 Q178.491 1222.35 175.343 1222.35 M184.626 1207.7 L184.626 1211.96 Q182.866 1211.12 181.061 1210.68 Q179.278 1210.24 177.519 1210.24 Q172.89 1210.24 170.436 1213.37 Q168.005 1216.49 167.658 1222.81 Q169.024 1220.8 171.084 1219.74 Q173.144 1218.65 175.621 1218.65 Q180.829 1218.65 183.839 1221.82 Q186.871 1224.97 186.871 1230.41 Q186.871 1235.73 183.723 1238.95 Q180.575 1242.17 175.343 1242.17 Q169.348 1242.17 166.177 1237.58 Q163.005 1232.98 163.005 1224.25 Q163.005 1216.05 166.894 1211.19 Q170.783 1206.31 177.334 1206.31 Q179.093 1206.31 180.876 1206.66 Q182.681 1207 184.626 1207.7 Z\" fill=\"#000000\" fill-rule=\"evenodd\" fill-opacity=\"1\" /><path clip-path=\"url(#clip400)\" d=\"M129.788 1126.12 Q126.177 1126.12 124.348 1129.68 Q122.543 1133.22 122.543 1140.35 Q122.543 1147.46 124.348 1151.02 Q126.177 1154.57 129.788 1154.57 Q133.422 1154.57 135.228 1151.02 Q137.056 1147.46 137.056 1140.35 Q137.056 1133.22 135.228 1129.68 Q133.422 1126.12 129.788 1126.12 M129.788 1122.41 Q135.598 1122.41 138.654 1127.02 Q141.732 1131.6 141.732 1140.35 Q141.732 1149.08 138.654 1153.69 Q135.598 1158.27 129.788 1158.27 Q123.978 1158.27 120.899 1153.69 Q117.844 1149.08 117.844 1140.35 Q117.844 1131.6 120.899 1127.02 Q123.978 1122.41 129.788 1122.41 Z\" fill=\"#000000\" fill-rule=\"evenodd\" fill-opacity=\"1\" /><path clip-path=\"url(#clip400)\" d=\"M149.95 1151.72 L154.834 1151.72 L154.834 1157.6 L149.95 1157.6 L149.95 1151.72 Z\" fill=\"#000000\" fill-rule=\"evenodd\" fill-opacity=\"1\" /><path clip-path=\"url(#clip400)\" d=\"M175.019 1141.19 Q171.686 1141.19 169.765 1142.97 Q167.866 1144.75 167.866 1147.88 Q167.866 1151 169.765 1152.78 Q171.686 1154.57 175.019 1154.57 Q178.353 1154.57 180.274 1152.78 Q182.195 1150.98 182.195 1147.88 Q182.195 1144.75 180.274 1142.97 Q178.376 1141.19 175.019 1141.19 M170.343 1139.2 Q167.334 1138.45 165.644 1136.39 Q163.978 1134.33 163.978 1131.37 Q163.978 1127.23 166.917 1124.82 Q169.88 1122.41 175.019 1122.41 Q180.181 1122.41 183.121 1124.82 Q186.061 1127.23 186.061 1131.37 Q186.061 1134.33 184.371 1136.39 Q182.704 1138.45 179.718 1139.2 Q183.098 1139.98 184.973 1142.27 Q186.871 1144.57 186.871 1147.88 Q186.871 1152.9 183.792 1155.58 Q180.737 1158.27 175.019 1158.27 Q169.302 1158.27 166.223 1155.58 Q163.167 1152.9 163.167 1147.88 Q163.167 1144.57 165.066 1142.27 Q166.964 1139.98 170.343 1139.2 M168.63 1131.81 Q168.63 1134.5 170.297 1136 Q171.987 1137.51 175.019 1137.51 Q178.028 1137.51 179.718 1136 Q181.431 1134.5 181.431 1131.81 Q181.431 1129.13 179.718 1127.62 Q178.028 1126.12 175.019 1126.12 Q171.987 1126.12 170.297 1127.62 Q168.63 1129.13 168.63 1131.81 Z\" fill=\"#000000\" fill-rule=\"evenodd\" fill-opacity=\"1\" /><polyline clip-path=\"url(#clip404)\" style=\"stroke:#000000; stroke-linecap:butt; stroke-linejoin:round; stroke-width:8; stroke-opacity:1; fill:none\" points=\"\n",
       "  283.151,1475.9 303.244,1466.97 323.337,1458.05 343.431,1449.12 363.524,1440.19 383.617,1431.26 403.71,1422.33 423.804,1413.4 443.897,1404.47 463.99,1395.54 \n",
       "  484.083,1386.61 504.177,1377.68 524.27,1368.75 544.363,1359.82 564.456,1350.89 584.55,1341.96 604.643,1333.03 624.736,1324.1 644.829,1315.17 664.923,1306.24 \n",
       "  685.016,1297.32 705.109,1288.39 725.202,1279.46 745.296,1270.53 765.389,1261.6 785.482,1252.67 805.575,1243.74 825.669,1234.81 845.762,1225.88 865.855,1216.95 \n",
       "  885.948,1208.35 906.042,1200.17 926.135,1192.41 946.228,1185.07 966.321,1178.15 986.415,1171.65 1006.51,1165.56 1026.6,1159.9 1046.69,1154.66 1066.79,1149.83 \n",
       "  1086.88,1145.43 1106.97,1141.44 1127.07,1137.88 1147.16,1134.73 1167.25,1132 1187.35,1129.7 1207.44,1127.81 1227.53,1126.34 1247.63,1125.29 1267.72,1124.66 \n",
       "  1287.81,1124.45 1307.91,1124.66 1328,1125.29 1348.09,1126.34 1368.19,1127.81 1388.28,1129.7 1408.37,1132 1428.47,1134.73 1448.56,1137.88 1468.65,1141.44 \n",
       "  1488.75,1145.43 1508.84,1149.83 1528.93,1154.66 1549.03,1159.9 1569.12,1165.56 1589.21,1171.65 1609.31,1178.15 1629.4,1185.07 1649.49,1192.41 1669.59,1200.17 \n",
       "  1689.68,1208.35 1709.77,1216.95 1729.87,1225.88 1749.96,1234.81 1770.05,1243.74 1790.14,1252.67 1810.24,1261.6 1830.33,1270.53 1850.42,1279.46 1870.52,1288.39 \n",
       "  1890.61,1297.32 1910.7,1306.24 1930.8,1315.17 1950.89,1324.1 1970.98,1333.03 1991.08,1341.96 2011.17,1350.89 2031.26,1359.82 2051.36,1368.75 2071.45,1377.68 \n",
       "  2091.54,1386.61 2111.64,1395.54 2131.73,1404.47 2151.82,1413.4 2171.92,1422.33 2192.01,1431.26 2212.1,1440.19 2232.2,1449.12 2252.29,1458.05 2272.38,1466.97 \n",
       "  2292.48,1475.9 \n",
       "  \"/>\n",
       "<path clip-path=\"url(#clip400)\" d=\"\n",
       "M293.867 1230.01 L716.32 1230.01 L716.32 1126.33 L293.867 1126.33  Z\n",
       "  \" fill=\"#ffffff\" fill-rule=\"evenodd\" fill-opacity=\"1\"/>\n",
       "<polyline clip-path=\"url(#clip400)\" style=\"stroke:#000000; stroke-linecap:butt; stroke-linejoin:round; stroke-width:4; stroke-opacity:1; fill:none\" points=\"\n",
       "  293.867,1230.01 716.32,1230.01 716.32,1126.33 293.867,1126.33 293.867,1230.01 \n",
       "  \"/>\n",
       "<polyline clip-path=\"url(#clip400)\" style=\"stroke:#000000; stroke-linecap:butt; stroke-linejoin:round; stroke-width:4; stroke-opacity:1; fill:none\" points=\"\n",
       "  317.867,1178.17 461.867,1178.17 \n",
       "  \"/>\n",
       "<path clip-path=\"url(#clip400)\" d=\"M485.867 1169.52 L490.381 1169.52 L498.483 1191.28 L506.585 1169.52 L511.099 1169.52 L501.376 1195.45 L495.589 1195.45 L485.867 1169.52 Z\" fill=\"#000000\" fill-rule=\"evenodd\" fill-opacity=\"1\" /><path clip-path=\"url(#clip400)\" d=\"M539.154 1181.42 L539.154 1183.5 L519.571 1183.5 Q519.848 1187.9 522.21 1190.22 Q524.594 1192.51 528.83 1192.51 Q531.284 1192.51 533.575 1191.91 Q535.89 1191.31 538.159 1190.1 L538.159 1194.13 Q535.867 1195.1 533.46 1195.61 Q531.052 1196.12 528.575 1196.12 Q522.372 1196.12 518.737 1192.51 Q515.126 1188.9 515.126 1182.74 Q515.126 1176.37 518.552 1172.65 Q522.001 1168.9 527.835 1168.9 Q533.066 1168.9 536.098 1172.28 Q539.154 1175.63 539.154 1181.42 M534.895 1180.17 Q534.848 1176.68 532.927 1174.59 Q531.029 1172.51 527.881 1172.51 Q524.316 1172.51 522.163 1174.52 Q520.034 1176.54 519.71 1180.19 L534.895 1180.17 Z\" fill=\"#000000\" fill-rule=\"evenodd\" fill-opacity=\"1\" /><path clip-path=\"url(#clip400)\" d=\"M546.145 1159.43 L550.404 1159.43 L550.404 1195.45 L546.145 1195.45 L546.145 1159.43 Z\" fill=\"#000000\" fill-rule=\"evenodd\" fill-opacity=\"1\" /><path clip-path=\"url(#clip400)\" d=\"M569.362 1172.51 Q565.936 1172.51 563.945 1175.19 Q561.955 1177.86 561.955 1182.51 Q561.955 1187.16 563.922 1189.85 Q565.913 1192.51 569.362 1192.51 Q572.765 1192.51 574.756 1189.82 Q576.746 1187.14 576.746 1182.51 Q576.746 1177.9 574.756 1175.22 Q572.765 1172.51 569.362 1172.51 M569.362 1168.9 Q574.918 1168.9 578.089 1172.51 Q581.26 1176.12 581.26 1182.51 Q581.26 1188.87 578.089 1192.51 Q574.918 1196.12 569.362 1196.12 Q563.783 1196.12 560.612 1192.51 Q557.464 1188.87 557.464 1182.51 Q557.464 1176.12 560.612 1172.51 Q563.783 1168.9 569.362 1168.9 Z\" fill=\"#000000\" fill-rule=\"evenodd\" fill-opacity=\"1\" /><path clip-path=\"url(#clip400)\" d=\"M606.978 1170.52 L606.978 1174.5 Q605.172 1173.5 603.343 1173.02 Q601.538 1172.51 599.686 1172.51 Q595.543 1172.51 593.251 1175.15 Q590.959 1177.76 590.959 1182.51 Q590.959 1187.25 593.251 1189.89 Q595.543 1192.51 599.686 1192.51 Q601.538 1192.51 603.343 1192.02 Q605.172 1191.51 606.978 1190.52 L606.978 1194.45 Q605.195 1195.29 603.274 1195.7 Q601.376 1196.12 599.223 1196.12 Q593.367 1196.12 589.918 1192.44 Q586.469 1188.76 586.469 1182.51 Q586.469 1176.17 589.941 1172.53 Q593.436 1168.9 599.501 1168.9 Q601.468 1168.9 603.343 1169.31 Q605.218 1169.71 606.978 1170.52 Z\" fill=\"#000000\" fill-rule=\"evenodd\" fill-opacity=\"1\" /><path clip-path=\"url(#clip400)\" d=\"M614.385 1169.52 L618.644 1169.52 L618.644 1195.45 L614.385 1195.45 L614.385 1169.52 M614.385 1159.43 L618.644 1159.43 L618.644 1164.82 L614.385 1164.82 L614.385 1159.43 Z\" fill=\"#000000\" fill-rule=\"evenodd\" fill-opacity=\"1\" /><path clip-path=\"url(#clip400)\" d=\"M631.769 1162.16 L631.769 1169.52 L640.542 1169.52 L640.542 1172.83 L631.769 1172.83 L631.769 1186.91 Q631.769 1190.08 632.626 1190.98 Q633.505 1191.88 636.167 1191.88 L640.542 1191.88 L640.542 1195.45 L636.167 1195.45 Q631.237 1195.45 629.362 1193.62 Q627.487 1191.77 627.487 1186.91 L627.487 1172.83 L624.362 1172.83 L624.362 1169.52 L627.487 1169.52 L627.487 1162.16 L631.769 1162.16 Z\" fill=\"#000000\" fill-rule=\"evenodd\" fill-opacity=\"1\" /><path clip-path=\"url(#clip400)\" d=\"M656.931 1197.86 Q655.126 1202.49 653.413 1203.9 Q651.7 1205.31 648.829 1205.31 L645.427 1205.31 L645.427 1201.74 L647.927 1201.74 Q649.686 1201.74 650.658 1200.91 Q651.63 1200.08 652.811 1196.98 L653.575 1195.03 L643.089 1169.52 L647.602 1169.52 L655.704 1189.8 L663.806 1169.52 L668.32 1169.52 L656.931 1197.86 Z\" fill=\"#000000\" fill-rule=\"evenodd\" fill-opacity=\"1\" /></svg>\n"
      ]
     },
     "execution_count": 18,
     "metadata": {},
     "output_type": "execute_result"
    }
   ],
   "source": [
    "l = @layout [a; b ;c]\n",
    "p1 = plot([1:T], a_sol, label = \"accleration\", lw = 2, color = \"blue\", legend =:bottomleft)\n",
    "p2 = plot([1:T+1], x_sol, label = \"position\", lw = 2, color = \"red\", legend =:topleft)\n",
    "p3 = plot([1:T+1], v_sol, label = \"velocity\", lw = 2, color = \"black\", legend =:topleft)\n",
    "plot(p1, p2, p3, layout = l)"
   ]
  },
  {
   "cell_type": "code",
   "execution_count": 2,
   "metadata": {},
   "outputs": [],
   "source": [
    "using Pkg"
   ]
  },
  {
   "cell_type": "code",
   "execution_count": 3,
   "metadata": {},
   "outputs": [],
   "source": [
    "Pkg.status()"
   ]
  },
  {
   "cell_type": "code",
   "execution_count": 20,
   "metadata": {},
   "outputs": [
    {
     "data": {
      "text/plain": [
       "true"
      ]
     },
     "execution_count": 20,
     "metadata": {},
     "output_type": "execute_result"
    }
   ],
   "source": [
    "# Getting dual information\n",
    "has_duals(rocket_model)"
   ]
  },
  {
   "cell_type": "code",
   "execution_count": 25,
   "metadata": {},
   "outputs": [
    {
     "data": {
      "text/plain": [
       "100-element Vector{Float64}:\n",
       " -0.024040796503156832\n",
       " -0.0235551238465274\n",
       " -0.02306945118989797\n",
       " -0.02258377853326854\n",
       " -0.02209810587663911\n",
       " -0.021612433220009677\n",
       " -0.021126760563380247\n",
       " -0.020641087906750816\n",
       " -0.020155415250121385\n",
       " -0.019669742593491954\n",
       " -0.019184069936862523\n",
       " -0.018698397280233092\n",
       " -0.01821272462360366\n",
       "  ⋮\n",
       "  0.018698397280233123\n",
       "  0.019184069936862554\n",
       "  0.019669742593491985\n",
       "  0.020155415250121416\n",
       "  0.020641087906750847\n",
       "  0.021126760563380278\n",
       "  0.02161243322000971\n",
       "  0.02209810587663914\n",
       "  0.02258377853326857\n",
       "  0.023069451189898\n",
       "  0.023555123846527432\n",
       "  0.024040796503156863"
      ]
     },
     "execution_count": 25,
     "metadata": {},
     "output_type": "execute_result"
    }
   ],
   "source": [
    "# optimal dual variable correpsonding to  dynamic_model_speed constraints\n",
    "[dual(dynamic_model_speed[t]) for t in 1:T]"
   ]
  },
  {
   "cell_type": "code",
   "execution_count": null,
   "metadata": {},
   "outputs": [],
   "source": []
  }
 ],
 "metadata": {
  "kernelspec": {
   "display_name": "Julia 1.6.5",
   "language": "julia",
   "name": "julia-1.6"
  },
  "language_info": {
   "file_extension": ".jl",
   "mimetype": "application/julia",
   "name": "julia",
   "version": "1.6.5"
  },
  "latex_envs": {
   "LaTeX_envs_menu_present": true,
   "autoclose": false,
   "autocomplete": true,
   "bibliofile": "biblio.bib",
   "cite_by": "apalike",
   "current_citInitial": 1,
   "eqLabelWithNumbers": true,
   "eqNumInitial": 1,
   "hotkeys": {
    "equation": "Ctrl-E",
    "itemize": "Ctrl-I"
   },
   "labels_anchors": false,
   "latex_user_defs": false,
   "report_style_numbering": false,
   "user_envs_cfg": false
  },
  "toc": {
   "base_numbering": 1,
   "nav_menu": {},
   "number_sections": true,
   "sideBar": true,
   "skip_h1_title": false,
   "title_cell": "Table of Contents",
   "title_sidebar": "Contents",
   "toc_cell": false,
   "toc_position": {},
   "toc_section_display": true,
   "toc_window_display": false
  },
  "varInspector": {
   "cols": {
    "lenName": 16,
    "lenType": 16,
    "lenVar": 40
   },
   "kernels_config": {
    "python": {
     "delete_cmd_postfix": "",
     "delete_cmd_prefix": "del ",
     "library": "var_list.py",
     "varRefreshCmd": "print(var_dic_list())"
    },
    "r": {
     "delete_cmd_postfix": ") ",
     "delete_cmd_prefix": "rm(",
     "library": "var_list.r",
     "varRefreshCmd": "cat(var_dic_list()) "
    }
   },
   "types_to_exclude": [
    "module",
    "function",
    "builtin_function_or_method",
    "instance",
    "_Feature"
   ],
   "window_display": false
  }
 },
 "nbformat": 4,
 "nbformat_minor": 4
}
