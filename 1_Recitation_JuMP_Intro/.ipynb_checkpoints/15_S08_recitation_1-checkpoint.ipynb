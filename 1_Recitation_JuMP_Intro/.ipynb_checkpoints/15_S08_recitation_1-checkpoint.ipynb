{
 "cells": [
  {
   "cell_type": "markdown",
   "metadata": {},
   "source": [
    "Solving convex+optimization problems using `Julia`\n",
    "\n",
    "## Topics\n",
    "* Reasons for using Julia\n",
    "* What kind of optimization problems we will solve in this course?\n",
    "* Difference between convex and nonconvex optimization\n",
    "* Solving different type of convex optimization problems\n",
    "* Working with differentiable nonconvex optimization problem"
   ]
  },
  {
   "cell_type": "markdown",
   "metadata": {},
   "source": [
    "## Reasons for using `Julia`+`JuMP`\n",
    "\n",
    "### Reasons for using `Julia`\n",
    "#### Why Julia?\n",
    "* Developed at MIT\n",
    "* Very fast (speed similar to C)\n",
    "* Reproducible\n",
    "* Dynamically typed\n",
    "\n",
    "#### Why JuMP?\n",
    "* Developed at MIT ORC by three PhD students: I. Dunning, J. Huchette, M. Lubin\n",
    "* Very user-friendly\n",
    "* Syntax very similar to the mathematical description of an optimization problem\n",
    "* Speed is as good as or better than commercial modelling language like AMPL, GAMS\n",
    "* Solver independent code: same code will run for both commercial and open-source solvers\n",
    "* Very easy to implement solver callback and problem modification"
   ]
  },
  {
   "cell_type": "markdown",
   "metadata": {},
   "source": [
    "## Types of optimization problems in this course\n",
    "We will solve the following (and more) types of optimization problems in Julia:\n",
    "* Linear optimization problems\n",
    "* Mixed-integer linear optimization problems\n",
    "* Convex optimization problems\n",
    "* Differentiable nonconvex optimization problems"
   ]
  },
  {
   "cell_type": "markdown",
   "metadata": {},
   "source": [
    "When it comes to solving an optimization problems efficiently, the first thing to consider is if it is convex or not."
   ]
  },
  {
   "cell_type": "markdown",
   "metadata": {},
   "source": [
    "Convex optimization problems are defined through the notion of convex set.\n",
    "\n",
    "**Convex set**\n",
    "\n",
    "<img src=\"img/convex_set.png\" alt=\"Drawing1\" style=\"width: 700px;\"/>\n",
    "\n",
    "**Convex function**\n",
    "\n",
    "A function  is convex if and only if the region above its graph is a convex set.\n",
    "\n",
    "\n",
    "<img src=\"img/convex_function.png\" alt=\"Drawing1\" style=\"width: 500px;\"/>\n",
    "\n",
    "## Standard form of a convex optimization problem\n",
    "\n",
    "A general convex optimization problem has\n",
    "the following form:\n",
    "$$\n",
    "\\begin{array}{ll}\n",
    "\\underset{x\\in\\mathbf{R}^{d}}{\\mbox{minimize}} & f_{0}(x)\\\\\n",
    "\\mbox{subject to} & a_{i}^{\\top}x=b_{i},\\quad i=1,\\ldots,p,\\\\\n",
    " & f_{i}(x)\\leq0,\\quad i=1,\\ldots,m.\n",
    "\\end{array}\n",
    "$$\n",
    " where the equality constraints are linear and the functions $f_{0},f_{1},\\ldots,f_{m}$\n",
    "are convex. "
   ]
  },
  {
   "cell_type": "markdown",
   "metadata": {},
   "source": [
    "## Convex optimization\n",
    "\n",
    "* a subclass of optimization problems that includes LP as special case\n",
    "\n",
    "\n",
    "* convex problems can look very difficult (nonlinear, even\n",
    "nondifferentiable), but like LP can be solved very efficiently\n",
    "\n",
    "\n",
    "* convex problems come up more often than was once thought\n",
    "\n",
    "\n",
    "* many applications recently discovered in control, combinatorial\n",
    "optimization, signal processing, communications, circuit design,\n",
    "machine learning, statistics, finance, . . ."
   ]
  },
  {
   "cell_type": "markdown",
   "metadata": {},
   "source": [
    "## Example of convex optimization: Linear programs\n",
    "\n",
    "A linear program (or linear optimization problems) can have a form such as:\n",
    "\n",
    "$$\n",
    "\\begin{array}{ll}\n",
    "\\underset{x\\in\\mathbf{R}^{d}}{\\mbox{minimize}} & c^{\\top}x\\\\\n",
    "\\mbox{subject to} & Ax=b,\\\\\n",
    " & Cx\\geq d.\n",
    "\\end{array}\n",
    "$$\n",
    "\n",
    "Shows up when we are modeling system that can be completely described by linear equalities and inequalities."
   ]
  },
  {
   "cell_type": "markdown",
   "metadata": {},
   "source": [
    "## Example of nonconvex optimization: mixed-integer linear programs (MILP) \n",
    "\n",
    "$$\n",
    "\\begin{array}{ll}\n",
    "\\underset{x,y}{\\mbox{minimize}} & c^{\\top}x+d^{\\top}y\\\\\n",
    "\\mbox{subject to} & Ax+By=b,\\\\\n",
    " & Cx+Dy\\geq f,\\\\\n",
    " & x\\succeq0,\\\\\n",
    " & x\\in\\mathbf{R}^{d},\\\\\n",
    " & y\\in \\mathbf{Z}^{n}.\n",
    "\\end{array}\n",
    "$$\n",
    "\n",
    "* Nonconvex, but \"practically tractable\" in many situations\n",
    "* MILP solvers have gained a speed-up factor of 2 trillion in the last 40 years!\n",
    "* Wide modeling capability\n",
    "* Usually shows up in situations where\n",
    "  * modeling do/don't do decisions\n",
    "  * logical conditions\n",
    "  * implications (if something happens do this)\n",
    "  * either/or"
   ]
  },
  {
   "cell_type": "markdown",
   "metadata": {},
   "source": [
    "### Getting started with Julia"
   ]
  },
  {
   "cell_type": "code",
   "execution_count": 1,
   "metadata": {},
   "outputs": [
    {
     "name": "stdout",
     "output_type": "stream",
     "text": [
      "Hello World!\n"
     ]
    }
   ],
   "source": [
    "println(\"Hello World!\")"
   ]
  },
  {
   "cell_type": "markdown",
   "metadata": {},
   "source": [
    "# Representing vectors in Julia\n",
    " \n",
    " * A column vector, $y=(y_1, y_2, \\ldots, y_n)= \\begin{pmatrix}\n",
    "  y_1 \\\\\n",
    "   y_2 \\\\\n",
    "   . \\\\\n",
    "   . \\\\\n",
    "   y_n\n",
    " \\end{pmatrix} \\in \\mathbb{R}^n$ will be written in Julia as `[y[1];y[2];...;y[n]]`. \n",
    " \n",
    " For example to create column vector $\\begin{pmatrix}\n",
    "  3 \\\\\n",
    "   2.4 \\\\\n",
    "   9.1 \\\\\n",
    " \\end{pmatrix}$  use: `[3; 2.4; 9.1]`.\n",
    "\n",
    " "
   ]
  },
  {
   "cell_type": "code",
   "execution_count": 2,
   "metadata": {},
   "outputs": [
    {
     "data": {
      "text/plain": [
       "3-element Vector{Float64}:\n",
       " 3.0\n",
       " 2.4\n",
       " 9.1"
      ]
     },
     "execution_count": 2,
     "metadata": {},
     "output_type": "execute_result"
    }
   ],
   "source": [
    "col_vect = [3; 2.4; 9.1]"
   ]
  },
  {
   "cell_type": "markdown",
   "metadata": {},
   "source": [
    " \n",
    " * A row vector, $z=(z_1 \\; z_2 \\; \\ldots \\; z_n) \\in \\mathbb{R}^{1 \\times n}$ will be written in Julia as `[z[1] y[2]...z[n]]`. \n",
    " \n",
    " For example to create row vector $(1.2 \\; 3.5 \\; 8.21)$  use: `[1.2 3.5 8.21]`."
   ]
  },
  {
   "cell_type": "code",
   "execution_count": 3,
   "metadata": {},
   "outputs": [
    {
     "data": {
      "text/plain": [
       "1×3 Matrix{Float64}:\n",
       " 1.2  3.5  8.21"
      ]
     },
     "execution_count": 3,
     "metadata": {},
     "output_type": "execute_result"
    }
   ],
   "source": [
    "row_vect = [1.2 3.5 8.21]"
   ]
  },
  {
   "cell_type": "markdown",
   "metadata": {},
   "source": [
    "* To create a $m \\times n$ matrix \n",
    "\n",
    "$$\n",
    "A = \\begin{pmatrix}\n",
    "  A_{11} & A_{12} & A_{13} & \\ldots &A_{1n} \\\\\n",
    "  \\ldots & \\ldots & \\ldots & \\ldots & \\ldots  \\\\\n",
    "  A_{m1} & A_{m2} & A_{m3} & \\ldots & A_{mn}\n",
    " \\end{pmatrix}\n",
    "$$\n",
    "\n",
    "write:\n",
    " \n",
    " `[A[1,1] A[1,2] A[1,3]... A[1,n];`\n",
    " ` ... ; `\n",
    "  `A[m,1] A[m,2] ... A[m,n]]`.\n",
    "  \n",
    "  So the matrix \n",
    "  \n",
    "  $$\n",
    "  A = \\begin{pmatrix}\n",
    "  1 & 1 & 9 & 5 \\\\\n",
    "  3 & 5 & 0 & 8 \\\\\n",
    "  2 & 0 & 6 & 13\n",
    " \\end{pmatrix}\n",
    " $$ \n",
    " \n",
    " is represented in Julia as: \n",
    " \n",
    "  `A= [\n",
    "     1 1 9 5;\n",
    "     3 5 0 8;\n",
    "     2 0 6 13\n",
    "    ]`"
   ]
  },
  {
   "cell_type": "code",
   "execution_count": 4,
   "metadata": {},
   "outputs": [
    {
     "data": {
      "text/plain": [
       "3×4 Matrix{Int64}:\n",
       " 1  1  9   5\n",
       " 3  5  0   8\n",
       " 2  0  6  13"
      ]
     },
     "execution_count": 4,
     "metadata": {},
     "output_type": "execute_result"
    }
   ],
   "source": [
    "Amat = [\n",
    "     1 1 9 5;\n",
    "     3 5 0 8;\n",
    "     2 0 6 13\n",
    "    ]"
   ]
  },
  {
   "cell_type": "markdown",
   "metadata": {},
   "source": [
    "## Solving a linar optimization problems step by step in `Julia+JuMP` "
   ]
  },
  {
   "cell_type": "markdown",
   "metadata": {},
   "source": [
    "\n",
    "Let's see one simple example of how to solve a simple linear optimization problem in `Julia+JuMP`.\n",
    "$$\n",
    "\\begin{aligned}\n",
    "& \\text{minimize} && c^T x + d^T y\\\\\n",
    "& \\text{subject to} && A x + B y= f \\\\\n",
    " &                   && x \\geq 0, \\; 0 \\leq y \\leq 1 \\\\\n",
    " &                   && x \\in \\mathbf{R}^n, y \\in {\\mathbf{R}}^p.\n",
    "\\end{aligned}\n",
    "$$"
   ]
  },
  {
   "cell_type": "markdown",
   "metadata": {},
   "source": [
    "Let us solve the problem step by step."
   ]
  },
  {
   "cell_type": "markdown",
   "metadata": {},
   "source": [
    "First, we load the problem data, that gives us the values of $c,d,A,B$ for this problem instance."
   ]
  },
  {
   "cell_type": "code",
   "execution_count": 15,
   "metadata": {},
   "outputs": [],
   "source": [
    "# Load the data\n",
    "include(\"img//mip_data.jl\");"
   ]
  },
  {
   "cell_type": "code",
   "execution_count": 16,
   "metadata": {},
   "outputs": [
    {
     "data": {
      "text/plain": [
       "(13, 15)"
      ]
     },
     "execution_count": 16,
     "metadata": {},
     "output_type": "execute_result"
    }
   ],
   "source": [
    "m, n"
   ]
  },
  {
   "cell_type": "markdown",
   "metadata": {},
   "source": [
    "We load the packages first."
   ]
  },
  {
   "cell_type": "code",
   "execution_count": 17,
   "metadata": {},
   "outputs": [],
   "source": [
    "using JuMP, Gurobi"
   ]
  },
  {
   "cell_type": "markdown",
   "metadata": {},
   "source": [
    "Declare the optimization model, which will contain some objective to be optimized over some constraints. "
   ]
  },
  {
   "cell_type": "code",
   "execution_count": 18,
   "metadata": {},
   "outputs": [
    {
     "name": "stdout",
     "output_type": "stream",
     "text": [
      "Set parameter TokenServer to value \"flexlm\"\n"
     ]
    },
    {
     "data": {
      "text/plain": [
       "A JuMP Model\n",
       "Feasibility problem with:\n",
       "Variables: 0\n",
       "Model mode: AUTOMATIC\n",
       "CachingOptimizer state: EMPTY_OPTIMIZER\n",
       "Solver name: Gurobi"
      ]
     },
     "execution_count": 18,
     "metadata": {},
     "output_type": "execute_result"
    }
   ],
   "source": [
    "LPModel =  Model(Gurobi.Optimizer)"
   ]
  },
  {
   "cell_type": "markdown",
   "metadata": {},
   "source": [
    "Declare the variable $x \\geq 0$."
   ]
  },
  {
   "cell_type": "code",
   "execution_count": 19,
   "metadata": {},
   "outputs": [
    {
     "data": {
      "text/plain": [
       "15-element Vector{VariableRef}:\n",
       " x[1]\n",
       " x[2]\n",
       " x[3]\n",
       " x[4]\n",
       " x[5]\n",
       " x[6]\n",
       " x[7]\n",
       " x[8]\n",
       " x[9]\n",
       " x[10]\n",
       " x[11]\n",
       " x[12]\n",
       " x[13]\n",
       " x[14]\n",
       " x[15]"
      ]
     },
     "execution_count": 19,
     "metadata": {},
     "output_type": "execute_result"
    }
   ],
   "source": [
    " @variable(LPModel, x[1:n] >=0)"
   ]
  },
  {
   "cell_type": "markdown",
   "metadata": {},
   "source": [
    "Declare the model $y$ that satisfies $0 \\leq y \\leq 1$."
   ]
  },
  {
   "cell_type": "code",
   "execution_count": 20,
   "metadata": {},
   "outputs": [
    {
     "data": {
      "text/plain": [
       "15-element Vector{VariableRef}:\n",
       " y[1]\n",
       " y[2]\n",
       " y[3]\n",
       " y[4]\n",
       " y[5]\n",
       " y[6]\n",
       " y[7]\n",
       " y[8]\n",
       " y[9]\n",
       " y[10]\n",
       " y[11]\n",
       " y[12]\n",
       " y[13]\n",
       " y[14]\n",
       " y[15]"
      ]
     },
     "execution_count": 20,
     "metadata": {},
     "output_type": "execute_result"
    }
   ],
   "source": [
    " @variable(LPModel, 0<= y[1:n] <= 1)"
   ]
  },
  {
   "cell_type": "markdown",
   "metadata": {},
   "source": [
    "Let us now add the objective $c^T x + d^T y$ to be minimized."
   ]
  },
  {
   "cell_type": "code",
   "execution_count": 21,
   "metadata": {},
   "outputs": [
    {
     "data": {
      "text/latex": [
       "$$ 0.5509762512952924 x_{1} + 0.8301894840196344 x_{2} + 0.232206040486789 x_{3} + 1.393135672910711 x_{4} + 1.8424788005687465 x_{5} + 0.2809901994866778 x_{6} + 0.061642781427148165 x_{7} + 0.27957901049796585 x_{8} + 0.5029564153246902 x_{9} + 1.6571128316959116 x_{10} + 1.9845201668903614 x_{11} + 1.0714598154112318 x_{12} + 0.1961692232512833 x_{13} + 0.3175828833102234 x_{14} + 0.8711819390889186 x_{15} + 2.0223177663654193 y_{1} + 0.9428269115949712 y_{2} + 0.9103775465116974 y_{3} + 0.6179267803651766 y_{4} + 0.6492970400376368 y_{5} + 0.6030128378052168 y_{6} + 0.5322794124977765 y_{7} + 1.2122056218797066 y_{8} + 0.6184661362908869 y_{9} + 0.4227992283182034 y_{10} + 0.7303206991029539 y_{11} + 0.20831525933957853 y_{12} + 0.037796848867822794 y_{13} + 1.2202732838671742 y_{14} $$"
      ],
      "text/plain": [
       "0.5509762512952924 x[1] + 0.8301894840196344 x[2] + 0.232206040486789 x[3] + 1.393135672910711 x[4] + 1.8424788005687465 x[5] + 0.2809901994866778 x[6] + 0.061642781427148165 x[7] + 0.27957901049796585 x[8] + 0.5029564153246902 x[9] + 1.6571128316959116 x[10] + 1.9845201668903614 x[11] + 1.0714598154112318 x[12] + 0.1961692232512833 x[13] + 0.3175828833102234 x[14] + 0.8711819390889186 x[15] + 2.0223177663654193 y[1] + 0.9428269115949712 y[2] + 0.9103775465116974 y[3] + 0.6179267803651766 y[4] + 0.6492970400376368 y[5] + 0.6030128378052168 y[6] + 0.5322794124977765 y[7] + 1.2122056218797066 y[8] + 0.6184661362908869 y[9] + 0.4227992283182034 y[10] + 0.7303206991029539 y[11] + 0.20831525933957853 y[12] + 0.037796848867822794 y[13] + 1.2202732838671742 y[14]"
      ]
     },
     "execution_count": 21,
     "metadata": {},
     "output_type": "execute_result"
    }
   ],
   "source": [
    "@objective(LPModel, Min, sum(c[i] * x[i] for i in 1:n)+sum(d[i]*y[i] for i in 1:p))"
   ]
  },
  {
   "cell_type": "markdown",
   "metadata": {},
   "source": [
    "Now let us add the constraint $Ax+By = f$, which can be written component-wise: $\\sum_{j = 1}{A_{i,j}}$\n",
    "\n",
    "\\begin{align*}\n",
    "Ax+By & =f\\\\\n",
    "\\Leftrightarrow\\sum_{j=1}^{n}A_{i,j}x_{j}+\\sum_{j=1}^{p}B_{i,j}y_{j} & =f_{i},\\quad i=1,\\ldots,m.\n",
    "\\end{align*}"
   ]
  },
  {
   "cell_type": "code",
   "execution_count": 22,
   "metadata": {},
   "outputs": [],
   "source": [
    "@constraint(LPModel, \n",
    "            EqConstraint[i in 1:m], # giving the constraints a name\n",
    "            sum(A[i,j]*x[j] for j in 1:n)+ sum(B[i,j]*y[j] for j in 1:p) == f[i]);"
   ]
  },
  {
   "cell_type": "code",
   "execution_count": 24,
   "metadata": {},
   "outputs": [
    {
     "data": {
      "text/latex": [
       "EqConstraint[13] : $ 0.4348686635667252 x_{1} + 0.26207114203908605 x_{2} + 0.10608352468034264 x_{3} - 0.7736101711627924 x_{4} - 0.596103516713363 x_{5} + 1.531930114586695 x_{6} + 0.5406525539116989 x_{7} + 0.5302200323089336 x_{8} - 0.18027442167387409 x_{9} - 0.48771025286038244 x_{10} + 1.1868490688287754 x_{11} + 0.8330393272529665 x_{12} + 1.0319751228154166 x_{13} + 0.9310588129824178 x_{14} + 1.2735820607702226 x_{15} + 0.16004477645815982 y_{1} + 1.5601322010060445 y_{2} + 0.10040572219537999 y_{3} + 0.9175621491693008 y_{4} - 2.098681372260666 y_{5} + 2.1935364594644935 y_{6} - 0.8382218383381359 y_{7} - 0.3210330067563132 y_{8} + 1.042037395799759 y_{9} + 2.6074254635126444 y_{10} + 0.5924196531042532 y_{11} + 0.34579511540304153 y_{12} + 1.376057492488348 y_{13} + 0.307455943087994 y_{14} = 7.761292956425351 $"
      ],
      "text/plain": [
       "EqConstraint[13] : 0.4348686635667252 x[1] + 0.26207114203908605 x[2] + 0.10608352468034264 x[3] - 0.7736101711627924 x[4] - 0.596103516713363 x[5] + 1.531930114586695 x[6] + 0.5406525539116989 x[7] + 0.5302200323089336 x[8] - 0.18027442167387409 x[9] - 0.48771025286038244 x[10] + 1.1868490688287754 x[11] + 0.8330393272529665 x[12] + 1.0319751228154166 x[13] + 0.9310588129824178 x[14] + 1.2735820607702226 x[15] + 0.16004477645815982 y[1] + 1.5601322010060445 y[2] + 0.10040572219537999 y[3] + 0.9175621491693008 y[4] - 2.098681372260666 y[5] + 2.1935364594644935 y[6] - 0.8382218383381359 y[7] - 0.3210330067563132 y[8] + 1.042037395799759 y[9] + 2.6074254635126444 y[10] + 0.5924196531042532 y[11] + 0.34579511540304153 y[12] + 1.376057492488348 y[13] + 0.307455943087994 y[14] = 7.761292956425351"
      ]
     },
     "execution_count": 24,
     "metadata": {},
     "output_type": "execute_result"
    }
   ],
   "source": [
    "EqConstraint[m]"
   ]
  },
  {
   "cell_type": "markdown",
   "metadata": {},
   "source": [
    "Okay, so we are done building the model. Now we solve it. "
   ]
  },
  {
   "cell_type": "code",
   "execution_count": 25,
   "metadata": {},
   "outputs": [
    {
     "name": "stdout",
     "output_type": "stream",
     "text": [
      "Gurobi Optimizer version 9.5.0 build v9.5.0rc5 (linux64)\n",
      "Thread count: 48 physical cores, 96 logical processors, using up to 32 threads\n",
      "Optimize a model with 13 rows, 30 columns and 377 nonzeros\n",
      "Model fingerprint: 0xdc817079\n",
      "Coefficient statistics:\n",
      "  Matrix range     [6e-03, 3e+00]\n",
      "  Objective range  [4e-02, 2e+00]\n",
      "  Bounds range     [1e+00, 1e+00]\n",
      "  RHS range        [5e-01, 8e+00]\n",
      "Presolve removed 0 rows and 1 columns\n",
      "Presolve time: 0.04s\n",
      "Presolved: 13 rows, 29 columns, 377 nonzeros\n",
      "\n",
      "Iteration    Objective       Primal Inf.    Dual Inf.      Time\n",
      "       0    0.0000000e+00   1.330362e+01   0.000000e+00      0s\n",
      "      18    6.5761951e+00   0.000000e+00   0.000000e+00      0s\n",
      "\n",
      "Solved in 18 iterations and 0.09 seconds (0.00 work units)\n",
      "Optimal objective  6.576195084e+00\n",
      "\n",
      "User-callback calls 59, time in user-callback 0.00 sec\n"
     ]
    }
   ],
   "source": [
    "optimize!(LPModel)"
   ]
  },
  {
   "cell_type": "markdown",
   "metadata": {},
   "source": [
    "Let us check the optimal value of the optimization problem."
   ]
  },
  {
   "cell_type": "code",
   "execution_count": 26,
   "metadata": {},
   "outputs": [
    {
     "data": {
      "text/plain": [
       "6.576195083646106"
      ]
     },
     "execution_count": 26,
     "metadata": {},
     "output_type": "execute_result"
    }
   ],
   "source": [
    "p_star = objective_value(LPModel)"
   ]
  },
  {
   "cell_type": "markdown",
   "metadata": {},
   "source": [
    "Optimal values of the variable $x$ and $y$ can be extracted using the command `value`."
   ]
  },
  {
   "cell_type": "code",
   "execution_count": 27,
   "metadata": {},
   "outputs": [
    {
     "data": {
      "text/plain": [
       "15-element Vector{Float64}:\n",
       " 0.6613742614999617\n",
       " 1.732952318640925\n",
       " 0.13322211875637366\n",
       " 0.0\n",
       " 0.0\n",
       " 0.0\n",
       " 0.46060646729508165\n",
       " 0.16334204996154222\n",
       " 0.819062983718398\n",
       " 0.0\n",
       " 0.0\n",
       " 0.8498879231579908\n",
       " 0.0\n",
       " 1.3606419651643644\n",
       " 0.0"
      ]
     },
     "execution_count": 27,
     "metadata": {},
     "output_type": "execute_result"
    }
   ],
   "source": [
    "x_star = value.(x) # the operator . before value means give value of each component of x in a vector"
   ]
  },
  {
   "cell_type": "code",
   "execution_count": 28,
   "metadata": {},
   "outputs": [
    {
     "data": {
      "text/plain": [
       "15-element Vector{Float64}:\n",
       " 0.0\n",
       " 0.0\n",
       " 1.0\n",
       " 0.9397251932715204\n",
       " 0.0\n",
       " 0.4179466610992165\n",
       " 0.9618947789563785\n",
       " 0.0\n",
       " 0.3452270320033348\n",
       " 1.0\n",
       " 0.0\n",
       " 0.0\n",
       " 0.583012449048198\n",
       " 0.0\n",
       " 0.0"
      ]
     },
     "execution_count": 28,
     "metadata": {},
     "output_type": "execute_result"
    }
   ],
   "source": [
    "y_star = value.(y)"
   ]
  },
  {
   "cell_type": "markdown",
   "metadata": {},
   "source": [
    "### Solving mixed-integer linear programs (MILP)\n",
    "\n",
    "Let us consider the following MILP: \n",
    "\n",
    "$$\n",
    "\\begin{aligned}\n",
    "& \\text{minimize} && c^T x + d^T y\\\\\n",
    "& \\text{subject to} && A x + B y= f \\\\\n",
    " &                   && x \\geq 0, y \\geq 0 \\\\\n",
    " &                   && x \\in \\mathbb{R}^n, y \\in {\\{0,1\\}}^p,\n",
    "\\end{aligned}\n",
    "$$\n",
    "\n",
    "where $x,y$ are the decision variables, and the problem data is $A \\in \\mathbb{R}^{m \\times n}, B \\in \\mathbb{R}^{m \\times p}, c \\in \\mathbb{R}^n, d \\in \\mathbb{R}^p, f \\in \\mathbb{R}^m$. This is almost the same as before, except, we want $y$ to be a binary variable in this case. \n",
    "\n",
    "The `Julia` code would be almost identical, except, we will declare that $y$ is a binary variable. "
   ]
  },
  {
   "cell_type": "code",
   "execution_count": 29,
   "metadata": {},
   "outputs": [
    {
     "name": "stdout",
     "output_type": "stream",
     "text": [
      "Set parameter TokenServer to value \"flexlm\"\n",
      "Gurobi Optimizer version 9.5.0 build v9.5.0rc5 (linux64)\n",
      "Thread count: 48 physical cores, 96 logical processors, using up to 32 threads\n",
      "Optimize a model with 13 rows, 29 columns and 377 nonzeros\n",
      "Model fingerprint: 0x283aaa28\n",
      "Variable types: 15 continuous, 14 integer (14 binary)\n",
      "Coefficient statistics:\n",
      "  Matrix range     [6e-03, 3e+00]\n",
      "  Objective range  [4e-02, 2e+00]\n",
      "  Bounds range     [0e+00, 0e+00]\n",
      "  RHS range        [5e-01, 8e+00]\n",
      "Presolve time: 0.01s\n",
      "Presolved: 13 rows, 29 columns, 360 nonzeros\n",
      "Variable types: 15 continuous, 14 integer (14 binary)\n",
      "\n",
      "Root relaxation: objective 6.576195e+00, 18 iterations, 0.00 seconds (0.00 work units)\n",
      "\n",
      "    Nodes    |    Current Node    |     Objective Bounds      |     Work\n",
      " Expl Unexpl |  Obj  Depth IntInf | Incumbent    BestBd   Gap | It/Node Time\n",
      "\n",
      "     0     0    6.57620    0    5          -    6.57620      -     -    0s\n",
      "H    0     0                      11.4692035    6.57620  42.7%     -    0s\n",
      "     0     0    7.39062    0    5   11.46920    7.39062  35.6%     -    0s\n",
      "     0     0    7.90062    0    5   11.46920    7.90062  31.1%     -    0s\n",
      "     0     0    8.29667    0    5   11.46920    8.29667  27.7%     -    0s\n",
      "     0     0    8.67267    0    5   11.46920    8.67267  24.4%     -    0s\n",
      "     0     0    9.23798    0    6   11.46920    9.23798  19.5%     -    0s\n",
      "     0     0    9.33064    0    7   11.46920    9.33064  18.6%     -    0s\n",
      "     0     0    9.54603    0    5   11.46920    9.54603  16.8%     -    0s\n",
      "     0     0    9.54603    0    5   11.46920    9.54603  16.8%     -    0s\n",
      "     0     2    9.54603    0    5   11.46920    9.54603  16.8%     -    0s\n",
      "\n",
      "Cutting planes:\n",
      "  Gomory: 2\n",
      "  MIR: 2\n",
      "  Inf proof: 5\n",
      "\n",
      "Explored 103 nodes (390 simplex iterations) in 0.18 seconds (0.01 work units)\n",
      "Thread count was 32 (of 96 available processors)\n",
      "\n",
      "Solution count 1: 11.4692 \n",
      "\n",
      "Optimal solution found (tolerance 1.00e-04)\n",
      "Best objective 1.146920353965e+01, best bound 1.146920353965e+01, gap 0.0000%\n",
      "\n",
      "User-callback calls 469, time in user-callback 0.00 sec\n"
     ]
    }
   ],
   "source": [
    "sfMipModel =  Model(Gurobi.Optimizer)\n",
    "@variable(sfMipModel, x[1:n] >=0)\n",
    "@variable(sfMipModel, y[1:p] >= 0, Bin)\n",
    "@objective(sfMipModel, Min, sum(c[i] * x[i] for i in 1:n)+sum(d[i]*y[i] for i in 1:p))\n",
    "@constraint(sfMipModel, \n",
    "            MIPEqConstraint[i in 1:m], # giving the constraints a name\n",
    "            sum(A[i,j]*x[j] for j in 1:n)+ sum(B[i,j]*y[j] for j in 1:p) == f[i]);\n",
    "optimize!(sfMipModel)"
   ]
  },
  {
   "cell_type": "code",
   "execution_count": 32,
   "metadata": {},
   "outputs": [
    {
     "data": {
      "text/plain": [
       "11.469203539650847"
      ]
     },
     "execution_count": 32,
     "metadata": {},
     "output_type": "execute_result"
    }
   ],
   "source": [
    "p_star_MIP = objective_value(sfMipModel)"
   ]
  },
  {
   "cell_type": "code",
   "execution_count": 33,
   "metadata": {},
   "outputs": [
    {
     "data": {
      "text/plain": [
       "15-element Vector{Float64}:\n",
       " 0.9899474320258845\n",
       " 0.9642308227536944\n",
       " 0.5868159949777181\n",
       " 0.4630020993740833\n",
       " 0.9010538376061349\n",
       " 0.5631434853865575\n",
       " 0.22579295802635738\n",
       " 0.6532009804572239\n",
       " 1.522323821550686\n",
       " 0.0\n",
       " 0.5494325305168111\n",
       " 1.1917506578662445\n",
       " 0.0\n",
       " 0.8500168300331308\n",
       " 0.8154952228571304"
      ]
     },
     "execution_count": 33,
     "metadata": {},
     "output_type": "execute_result"
    }
   ],
   "source": [
    "x_star_MIP = value.(x)"
   ]
  },
  {
   "cell_type": "code",
   "execution_count": 34,
   "metadata": {},
   "outputs": [
    {
     "data": {
      "text/plain": [
       "14-element Vector{Float64}:\n",
       " -0.0\n",
       " -0.0\n",
       "  1.0\n",
       "  1.0\n",
       " -0.0\n",
       " -0.0\n",
       "  1.0\n",
       " -0.0\n",
       " -0.0\n",
       "  1.0\n",
       "  1.0\n",
       " -0.0\n",
       " -0.0\n",
       " -0.0"
      ]
     },
     "execution_count": 34,
     "metadata": {},
     "output_type": "execute_result"
    }
   ],
   "source": [
    "y_sol_MIP = value.(y)"
   ]
  },
  {
   "cell_type": "markdown",
   "metadata": {},
   "source": [
    "## Situations where mixed-integer linear programming models show up\n",
    "\n",
    "Usually shows up in situations where\n",
    "  * modeling do/don't do decisions\n",
    "  * logical conditions\n",
    "  * implications (if something happens do this)\n",
    "  * either/or\n",
    "        \n",
    "### Modeling \"or\" condition using MIP\n",
    "Modeling logical or statements:\n",
    "\n",
    "If we have a constraint such as: \n",
    "$$\n",
    "\\bigvee_{i=1,\\ldots,m}(a_{i}^{\\top}x\\geq b_{i}),\n",
    "$$\n",
    " which means atleast one of $\\{a_{i}^{\\top}x\\geq b_{i}\\}_{i\\in\\{1,\\ldots,m\\}}$.\n",
    "We model this through big-M constraint as follows: \n",
    "\n",
    "\n",
    "\\begin{align*}\n",
    " & y_{i}\\in\\{0,1\\},\\; \\quad i=1,\\ldots,m,\\\\\n",
    " & a_{i}^{\\top}x\\geq b_{i}-M(1-y_{i}),\\; \\quad i=1,\\ldots,m,\\\\\n",
    " & \\sum_{i=1}^{m}y_{i}\\geq1.\n",
    " \\end{align*}\n",
    "\n",
    "\n",
    " Here the big-M is assumed to be a very large positive number. The\n",
    "variable $y_{i}$ corresponds to the activation of the constraint\n",
    "$a_{i}^{\\top}x\\geq b_{i}$. Say, $y_{j}=1$ then $a_{j}^{\\top}x\\geq b_{j}-M(1-y_{j})=b_{j}$\n",
    "which means that the constraint $a_{j}^{\\top}x\\geq b_{j}$ is activated.\n",
    "Note that the system of inequalities ensure that atleast one of the\n",
    "$y_{i}$s will be $1$, hence atleast one of $a_{i}^{\\top}x\\geq b_{i}$\n",
    "will be activated.\n",
    "\n",
    "### Modeling implication statment:\n",
    "\n",
    "Remember that the logical argument $P\\Rightarrow Q$ is equivalent\n",
    "to $\\lnot P\\vee Q$ (``not $P$'' or Q), \\emph{i.e.}, atleast one\n",
    "of $Q$ or $\\lnot P$ will happen. \n",
    "\n",
    "So $a^{\\top}x\\geq b\\Rightarrow d^{\\top}x\\geq f$ is equivalent to\n",
    "\n",
    "\n",
    "\\begin{align*}\n",
    " & \\lnot(a^{\\top}x\\geq b)\\vee(d^{\\top}x\\geq f)\\\\\n",
    "\\Leftrightarrow & (a^{\\top}x<b)\\vee(d^{\\top}x\\geq f)\\\\\n",
    "\\Leftrightarrow & (a^{\\top}x\\leq b-\\epsilon)\\vee(d^{\\top}x\\geq f)\\\\\n",
    "\\Leftrightarrow & (-a^{\\top}x\\geq-b+\\epsilon)\\vee(d^{\\top}x\\geq f),\n",
    "\\end{align*}\n",
    "\n",
    "where $\\epsilon$ is a very small positive number. Then we proceed in a similar fashion for modeling ``or'' statements.        "
   ]
  },
  {
   "cell_type": "markdown",
   "metadata": {},
   "source": [
    "## Working with differentiable nonconvex optimization problem\n",
    "\n",
    "We consider the nonconvex problem: \n",
    "\n",
    "$$\n",
    "\\begin{array}{ll}\n",
    "\\underset{x\\in\\mathbf{R}^{d}}{\\mbox{minimize}} & f_{0}(x)\\\\\n",
    "\\mbox{subject to} & f_{i}(x)\\leq0,\\quad i=1,\\ldots,m,\\\\\n",
    " & h_{i}(x)=0,\\quad j=1,\\ldots,p.\n",
    "\\end{array}\n",
    "$$\n",
    "\n",
    "\n",
    "where $f_{0}$ and $f_{i}$ are possibly nonconvex, $h_{i}$ are\n",
    "possibly non-affine. \n",
    "\n",
    "* In absence of any special structure, these problems cannot be solved to certifiable global optimality in a tractable fashion. \n",
    "* Under certain technical conditions, interior-point based solvers such as `Ipopt`, `KNITRO` may be able to find a locally optimal solution. But they do not come with any gurantee. \n",
    "* In this course, we will limit our focus on problems for which interior-point based solvers are able to find a locally optimal point rather easily. The optimization problem in `DICE` is one such problem. \n",
    "\n",
    "<img src=\"img/local_min.png\" alt=\"Drawing1\" style=\"width: 700px;\"/>"
   ]
  },
  {
   "cell_type": "markdown",
   "metadata": {},
   "source": [
    "### Solving a nonlinear optimization problem"
   ]
  },
  {
   "cell_type": "markdown",
   "metadata": {},
   "source": [
    "We want to solve the following bilinear problem:\n",
    "$$\n",
    "\\begin{array}{ll}\n",
    "\\textrm{maximize} & x_{1}x_d - x_2 x_{d-1}\\\\\n",
    "\\textrm{subject to} & \\sum_{i=1}^{d}x_{i}\\leq10\\\\\n",
    " & x_{i}x_{i+1}\\leq2,\\quad i=1,\\ldots,d-1\\\\\n",
    " & \\sum_{i=1}^{d-1}x_{i}x_{i+1}=1\\\\\n",
    " & x\\geq0,\n",
    "\\end{array}\n",
    "$$\n",
    "where $x\\in\\mathbf{R}^d$ is the decision variables. Here $d=10$. \n"
   ]
  },
  {
   "cell_type": "markdown",
   "metadata": {},
   "source": [
    "####  Solve to local optimality using `Ipopt`"
   ]
  },
  {
   "cell_type": "code",
   "execution_count": 76,
   "metadata": {},
   "outputs": [
    {
     "data": {
      "text/plain": [
       "A JuMP Model\n",
       "Feasibility problem with:\n",
       "Variables: 0\n",
       "Model mode: AUTOMATIC\n",
       "CachingOptimizer state: EMPTY_OPTIMIZER\n",
       "Solver name: Ipopt"
      ]
     },
     "execution_count": 76,
     "metadata": {},
     "output_type": "execute_result"
    }
   ],
   "source": [
    "using Ipopt\n",
    "nonlinear_model = Model(Ipopt.Optimizer)"
   ]
  },
  {
   "cell_type": "code",
   "execution_count": 77,
   "metadata": {},
   "outputs": [
    {
     "data": {
      "text/plain": [
       "10"
      ]
     },
     "execution_count": 77,
     "metadata": {},
     "output_type": "execute_result"
    }
   ],
   "source": [
    "d = 10"
   ]
  },
  {
   "cell_type": "code",
   "execution_count": 78,
   "metadata": {},
   "outputs": [
    {
     "data": {
      "text/plain": [
       "10-element Vector{VariableRef}:\n",
       " x[1]\n",
       " x[2]\n",
       " x[3]\n",
       " x[4]\n",
       " x[5]\n",
       " x[6]\n",
       " x[7]\n",
       " x[8]\n",
       " x[9]\n",
       " x[10]"
      ]
     },
     "execution_count": 78,
     "metadata": {},
     "output_type": "execute_result"
    }
   ],
   "source": [
    "# declare the variable along with the non-negativity constraitn\n",
    "@variable(nonlinear_model, x[1:d] >=0 )"
   ]
  },
  {
   "cell_type": "code",
   "execution_count": 79,
   "metadata": {},
   "outputs": [
    {
     "data": {
      "text/latex": [
       "$$ x_{1}\\times x_{10} - x_{9}\\times x_{2} $$"
      ],
      "text/plain": [
       "x[1]*x[10] - x[9]*x[2]"
      ]
     },
     "execution_count": 79,
     "metadata": {},
     "output_type": "execute_result"
    }
   ],
   "source": [
    "# add objective\n",
    "@objective(nonlinear_model, Max, x[1]*x[d] - x[2]*x[d-1])"
   ]
  },
  {
   "cell_type": "code",
   "execution_count": 80,
   "metadata": {},
   "outputs": [
    {
     "data": {
      "text/latex": [
       "$$ x_{1} + x_{2} + x_{3} + x_{4} + x_{5} + x_{6} + x_{7} + x_{8} + x_{9} + x_{10} \\leq 10.0 $$"
      ],
      "text/plain": [
       "x[1] + x[2] + x[3] + x[4] + x[5] + x[6] + x[7] + x[8] + x[9] + x[10] ≤ 10.0"
      ]
     },
     "execution_count": 80,
     "metadata": {},
     "output_type": "execute_result"
    }
   ],
   "source": [
    "# add the constraint Σx[i] <= 10\n",
    "@constraint(nonlinear_model, sum(x[i] for i in 1:d) <= 10)"
   ]
  },
  {
   "cell_type": "code",
   "execution_count": 81,
   "metadata": {},
   "outputs": [
    {
     "data": {
      "text/plain": [
       "9-element Vector{ConstraintRef{Model, MathOptInterface.ConstraintIndex{MathOptInterface.ScalarQuadraticFunction{Float64}, MathOptInterface.LessThan{Float64}}, ScalarShape}}:\n",
       " bilin_ineq[1] : x[1]*x[2] ≤ 2.0\n",
       " bilin_ineq[2] : x[2]*x[3] ≤ 2.0\n",
       " bilin_ineq[3] : x[3]*x[4] ≤ 2.0\n",
       " bilin_ineq[4] : x[4]*x[5] ≤ 2.0\n",
       " bilin_ineq[5] : x[5]*x[6] ≤ 2.0\n",
       " bilin_ineq[6] : x[6]*x[7] ≤ 2.0\n",
       " bilin_ineq[7] : x[7]*x[8] ≤ 2.0\n",
       " bilin_ineq[8] : x[8]*x[9] ≤ 2.0\n",
       " bilin_ineq[9] : x[9]*x[10] ≤ 2.0"
      ]
     },
     "execution_count": 81,
     "metadata": {},
     "output_type": "execute_result"
    }
   ],
   "source": [
    "# add the bilinear inequality constraint ∀i  x[i]x[i+1] <= 2\n",
    "@constraint(nonlinear_model, bilin_ineq[i in 1:d-1], x[i]*x[i+1] <= 2)"
   ]
  },
  {
   "cell_type": "code",
   "execution_count": 82,
   "metadata": {},
   "outputs": [
    {
     "data": {
      "text/latex": [
       "$$ x_{1}\\times x_{2} + x_{2}\\times x_{3} + x_{3}\\times x_{4} + x_{4}\\times x_{5} + x_{5}\\times x_{6} + x_{6}\\times x_{7} + x_{7}\\times x_{8} + x_{8}\\times x_{9} + x_{9}\\times x_{10} = 1.0 $$"
      ],
      "text/plain": [
       "x[1]*x[2] + x[2]*x[3] + x[3]*x[4] + x[4]*x[5] + x[5]*x[6] + x[6]*x[7] + x[7]*x[8] + x[8]*x[9] + x[9]*x[10] = 1.0"
      ]
     },
     "execution_count": 82,
     "metadata": {},
     "output_type": "execute_result"
    }
   ],
   "source": [
    "# add the bilinear equality constraint ∑_{i} x[i]x[i+1] == 1\n",
    "@constraint(nonlinear_model, sum(x[i]*x[i+1] for i in 1:d-1) == 1)"
   ]
  },
  {
   "cell_type": "code",
   "execution_count": 83,
   "metadata": {},
   "outputs": [
    {
     "name": "stdout",
     "output_type": "stream",
     "text": [
      "This is Ipopt version 3.14.4, running with linear solver MUMPS 5.4.1.\n",
      "\n",
      "Number of nonzeros in equality constraint Jacobian...:       18\n",
      "Number of nonzeros in inequality constraint Jacobian.:       28\n",
      "Number of nonzeros in Lagrangian Hessian.............:       20\n",
      "\n",
      "Total number of variables............................:       10\n",
      "                     variables with only lower bounds:       10\n",
      "                variables with lower and upper bounds:        0\n",
      "                     variables with only upper bounds:        0\n",
      "Total number of equality constraints.................:        1\n",
      "Total number of inequality constraints...............:       10\n",
      "        inequality constraints with only lower bounds:        0\n",
      "   inequality constraints with lower and upper bounds:        0\n",
      "        inequality constraints with only upper bounds:       10\n",
      "\n",
      "iter    objective    inf_pr   inf_du lg(mu)  ||d||  lg(rg) alpha_du alpha_pr  ls\n",
      "   0  0.0000000e+00 9.99e-01 8.40e-03  -1.0 0.00e+00    -  0.00e+00 0.00e+00   0\n",
      "   1 -8.6187060e-01 8.66e+00 1.18e+04  -1.0 5.30e+01    -  1.71e-03 1.85e-01f  1\n",
      "   2  3.4389351e-01 2.29e+00 3.63e+04  -1.0 3.62e+00   4.0 2.71e-02 1.00e+00f  1\n",
      "   3  1.6872250e+00 4.24e-01 2.93e+05  -1.0 1.57e+00   5.3 8.25e-01 8.62e-01h  1\n",
      "   4  1.6955027e+00 4.15e-01 3.06e+05  -1.0 1.94e-01   6.7 1.00e+00 2.19e-02h  1\n",
      "   5  1.6955972e+00 4.15e-01 3.06e+05  -1.0 1.99e-01   6.2 1.00e+00 2.75e-04h  1\n",
      "   6  1.7417795e+00 3.65e-01 1.22e+06  -1.0 2.78e-01   6.6 1.00e+00 1.19e-01h  1\n",
      "   7  2.0810454e+00 2.59e-02 3.37e+05  -1.0 2.50e-01   6.1 1.00e+00 1.00e+00f  1\n",
      "   8  2.0643918e+00 9.02e-05 6.91e+04  -1.0 1.92e-02   6.6 9.77e-01 1.00e+00f  1\n",
      "   9  2.0643386e+00 5.08e-10 3.00e+01  -1.0 2.50e-05   6.1 1.00e+00 1.00e+00f  1\n",
      "iter    objective    inf_pr   inf_du lg(mu)  ||d||  lg(rg) alpha_du alpha_pr  ls\n",
      "  10  2.0641865e+00 1.34e-06 5.98e+02  -1.0 1.50e-03   5.6 1.00e+00 1.00e+00f  1\n",
      "  11  2.0642003e+00 3.21e-09 8.03e+00  -1.0 6.05e-05   5.1 1.00e+00 1.00e+00f  1\n",
      "  12  2.0641972e+00 2.57e-07 2.73e+01  -1.0 6.16e-04   4.6 1.00e+00 1.00e+00f  1\n",
      "  13  2.0643000e+00 5.06e-07 1.18e+01  -1.0 8.01e-04   4.2 1.00e+00 1.00e+00f  1\n",
      "  14  2.0646730e+00 2.73e-06 8.78e+00  -1.0 1.78e-03   3.7 1.00e+00 1.00e+00f  1\n",
      "  15  2.0660585e+00 8.79e-06 4.60e+00  -1.0 2.81e-03   3.2 1.00e+00 1.00e+00f  1\n",
      "  16  2.0705356e+00 3.96e-05 2.82e+00  -1.0 5.17e-03   2.7 1.00e+00 1.00e+00f  1\n",
      "  17  2.0846480e+00 1.67e-04 1.51e+00  -1.0 8.35e-03   2.3 1.00e+00 1.00e+00f  1\n",
      "  18  2.1280539e+00 8.31e-04 8.39e-01  -1.0 1.41e-02   1.8 1.00e+00 1.00e+00f  1\n",
      "  19  2.2826419e+00 8.63e-04 1.01e+00  -1.7 4.98e-02   1.3 1.00e+00 1.00e+00f  1\n",
      "iter    objective    inf_pr   inf_du lg(mu)  ||d||  lg(rg) alpha_du alpha_pr  ls\n",
      "  20  2.8288978e+00 4.86e-03 1.12e+00  -1.7 1.66e-01   0.8 1.00e+00 1.00e+00f  1\n",
      "  21  4.9913863e+00 1.58e-02 1.48e+00  -1.7 7.06e-01   0.4 1.00e+00 7.70e-01f  1\n",
      "  22  6.3588134e+00 3.68e-03 1.82e+00  -1.7 5.05e+00  -0.1 5.07e-01 5.62e-02f  1\n",
      "  23  9.4650109e+00 4.68e-02 2.10e+00  -1.7 1.05e+00   0.3 1.00e+00 1.00e+00f  1\n",
      "  24  2.4031861e+01 3.32e-01 3.22e+00  -1.7 6.15e+00  -0.2 7.98e-01 5.56e-01f  1\n",
      "  25  2.4201946e+01 3.31e-01 8.83e+00  -1.7 1.81e+01  -0.7 1.00e+00 1.89e-03f  1\n",
      "  26  2.3849501e+01 2.40e-03 3.32e-01  -1.7 3.54e-02    -  9.56e-01 1.00e+00h  1\n",
      "  27  2.3839160e+01 2.77e-07 1.01e-04  -1.7 1.35e-03  -1.1 1.00e+00 1.00e+00h  1\n",
      "  28  2.3978546e+01 7.67e-05 4.26e-04  -3.8 1.42e-02    -  1.00e+00 1.00e+00f  1\n",
      "  29  2.3979146e+01 1.60e-10 1.21e-05  -5.7 6.10e-05  -0.7 1.00e+00 1.00e+00h  1\n",
      "iter    objective    inf_pr   inf_du lg(mu)  ||d||  lg(rg) alpha_du alpha_pr  ls\n",
      "  30  2.3979158e+01 6.44e-13 6.94e-07  -8.6 1.31e-06  -0.3 1.00e+00 1.00e+00h  1\n",
      "  31  2.3979158e+01 0.00e+00 7.04e-13  -8.6 4.14e-12  -0.8 1.00e+00 1.00e+00h  1\n",
      "\n",
      "Number of Iterations....: 31\n",
      "\n",
      "                                   (scaled)                 (unscaled)\n",
      "Objective...............:  -2.3979158397589021e+01    2.3979158397589021e+01\n",
      "Dual infeasibility......:   7.0411923563874830e-13    7.0411923563874830e-13\n",
      "Constraint violation....:   0.0000000000000000e+00    0.0000000000000000e+00\n",
      "Variable bound violation:   9.4992545393549850e-09    9.4992545393549850e-09\n",
      "Complementarity.........:   2.5059068066346233e-09    2.5059068066346233e-09\n",
      "Overall NLP error.......:   2.5059068066346233e-09    2.5059068066346233e-09\n",
      "\n",
      "\n",
      "Number of objective function evaluations             = 32\n",
      "Number of objective gradient evaluations             = 32\n",
      "Number of equality constraint evaluations            = 32\n",
      "Number of inequality constraint evaluations          = 32\n",
      "Number of equality constraint Jacobian evaluations   = 32\n",
      "Number of inequality constraint Jacobian evaluations = 32\n",
      "Number of Lagrangian Hessian evaluations             = 31\n",
      "Total seconds in IPOPT                               = 0.980\n",
      "\n",
      "EXIT: Optimal Solution Found.\n"
     ]
    }
   ],
   "source": [
    "optimize!(nonlinear_model)"
   ]
  },
  {
   "cell_type": "code",
   "execution_count": 84,
   "metadata": {},
   "outputs": [
    {
     "data": {
      "text/plain": [
       "LOCALLY_SOLVED::TerminationStatusCode = 4"
      ]
     },
     "execution_count": 84,
     "metadata": {},
     "output_type": "execute_result"
    }
   ],
   "source": [
    "status = JuMP.termination_status(nonlinear_model)"
   ]
  },
  {
   "cell_type": "code",
   "execution_count": 85,
   "metadata": {},
   "outputs": [
    {
     "data": {
      "text/plain": [
       "10-element Vector{Float64}:\n",
       "  4.897915841356219\n",
       "  0.10208423688023696\n",
       " -9.488373496687378e-9\n",
       " -9.499254539353531e-9\n",
       " -9.499254539354985e-9\n",
       " -9.499254539354985e-9\n",
       " -9.499254539353531e-9\n",
       " -9.488373496687372e-9\n",
       "  0.10208423688029296\n",
       "  4.89791584135627"
      ]
     },
     "execution_count": 85,
     "metadata": {},
     "output_type": "execute_result"
    }
   ],
   "source": [
    "x_nonlin_sol = value.(x)"
   ]
  },
  {
   "cell_type": "code",
   "execution_count": 86,
   "metadata": {},
   "outputs": [
    {
     "data": {
      "text/plain": [
       "23.97915839758902"
      ]
     },
     "execution_count": 86,
     "metadata": {},
     "output_type": "execute_result"
    }
   ],
   "source": [
    "obj_value_nonlin = objective_value(nonlinear_model)"
   ]
  },
  {
   "cell_type": "markdown",
   "metadata": {},
   "source": [
    "### Solve to global optimality using `Gurobi`\n",
    "The last nonlinear problem is also a nonconvex quadratic problem, which `Gurobi` can now solve to certifiable global optimality using branch-and-bound based algorithm, computing this takes (much) longer than computing a locally optimal solution. \n",
    "\n",
    "Let us solve the problem to global optimality now. "
   ]
  },
  {
   "cell_type": "code",
   "execution_count": 87,
   "metadata": {},
   "outputs": [
    {
     "name": "stdout",
     "output_type": "stream",
     "text": [
      "Set parameter TokenServer to value \"flexlm\"\n"
     ]
    },
    {
     "data": {
      "text/plain": [
       "A JuMP Model\n",
       "Feasibility problem with:\n",
       "Variables: 0\n",
       "Model mode: AUTOMATIC\n",
       "CachingOptimizer state: EMPTY_OPTIMIZER\n",
       "Solver name: Gurobi"
      ]
     },
     "execution_count": 87,
     "metadata": {},
     "output_type": "execute_result"
    }
   ],
   "source": [
    "nonlinear_model_G = Model(Gurobi.Optimizer)"
   ]
  },
  {
   "cell_type": "code",
   "execution_count": 88,
   "metadata": {},
   "outputs": [
    {
     "name": "stdout",
     "output_type": "stream",
     "text": [
      "Set parameter NonConvex to value 2\n"
     ]
    }
   ],
   "source": [
    "set_optimizer_attribute(nonlinear_model_G, \"NonConvex\", 2) # telling Gurobi that the problem is nonconvex"
   ]
  },
  {
   "cell_type": "code",
   "execution_count": 89,
   "metadata": {},
   "outputs": [
    {
     "data": {
      "text/plain": [
       "10-element Vector{VariableRef}:\n",
       " x[1]\n",
       " x[2]\n",
       " x[3]\n",
       " x[4]\n",
       " x[5]\n",
       " x[6]\n",
       " x[7]\n",
       " x[8]\n",
       " x[9]\n",
       " x[10]"
      ]
     },
     "execution_count": 89,
     "metadata": {},
     "output_type": "execute_result"
    }
   ],
   "source": [
    "# declare the variable along with the non-negativity constraint\n",
    "@variable(nonlinear_model_G, x[1:d] >=0 )"
   ]
  },
  {
   "cell_type": "code",
   "execution_count": 90,
   "metadata": {},
   "outputs": [
    {
     "data": {
      "text/latex": [
       "$$ x_{1}\\times x_{10} - x_{9}\\times x_{2} $$"
      ],
      "text/plain": [
       "x[1]*x[10] - x[9]*x[2]"
      ]
     },
     "execution_count": 90,
     "metadata": {},
     "output_type": "execute_result"
    }
   ],
   "source": [
    "# add objective\n",
    "@objective(nonlinear_model_G, Max, x[1]*x[d] - x[2]*x[d-1])"
   ]
  },
  {
   "cell_type": "code",
   "execution_count": 91,
   "metadata": {},
   "outputs": [
    {
     "data": {
      "text/latex": [
       "$$ x_{1} + x_{2} + x_{3} + x_{4} + x_{5} + x_{6} + x_{7} + x_{8} + x_{9} + x_{10} \\leq 10.0 $$"
      ],
      "text/plain": [
       "x[1] + x[2] + x[3] + x[4] + x[5] + x[6] + x[7] + x[8] + x[9] + x[10] ≤ 10.0"
      ]
     },
     "execution_count": 91,
     "metadata": {},
     "output_type": "execute_result"
    }
   ],
   "source": [
    "# add the constraint Σx[i] <= 10\n",
    "@constraint(nonlinear_model_G, sum(x[i] for i in 1:d) <= 10)"
   ]
  },
  {
   "cell_type": "code",
   "execution_count": 92,
   "metadata": {},
   "outputs": [
    {
     "data": {
      "text/plain": [
       "9-element Vector{ConstraintRef{Model, MathOptInterface.ConstraintIndex{MathOptInterface.ScalarQuadraticFunction{Float64}, MathOptInterface.LessThan{Float64}}, ScalarShape}}:\n",
       " bilin_ineq_G[1] : x[1]*x[2] ≤ 2.0\n",
       " bilin_ineq_G[2] : x[2]*x[3] ≤ 2.0\n",
       " bilin_ineq_G[3] : x[3]*x[4] ≤ 2.0\n",
       " bilin_ineq_G[4] : x[4]*x[5] ≤ 2.0\n",
       " bilin_ineq_G[5] : x[5]*x[6] ≤ 2.0\n",
       " bilin_ineq_G[6] : x[6]*x[7] ≤ 2.0\n",
       " bilin_ineq_G[7] : x[7]*x[8] ≤ 2.0\n",
       " bilin_ineq_G[8] : x[8]*x[9] ≤ 2.0\n",
       " bilin_ineq_G[9] : x[9]*x[10] ≤ 2.0"
      ]
     },
     "execution_count": 92,
     "metadata": {},
     "output_type": "execute_result"
    }
   ],
   "source": [
    "# add the bilinear inequality constraint ∀i  x[i]x[i+1] <= 2\n",
    "@constraint(nonlinear_model_G, bilin_ineq_G[i in 1:d-1], x[i]*x[i+1] <= 2)"
   ]
  },
  {
   "cell_type": "code",
   "execution_count": 93,
   "metadata": {},
   "outputs": [
    {
     "data": {
      "text/latex": [
       "$$ x_{1}\\times x_{2} + x_{2}\\times x_{3} + x_{3}\\times x_{4} + x_{4}\\times x_{5} + x_{5}\\times x_{6} + x_{6}\\times x_{7} + x_{7}\\times x_{8} + x_{8}\\times x_{9} + x_{9}\\times x_{10} = 1.0 $$"
      ],
      "text/plain": [
       "x[1]*x[2] + x[2]*x[3] + x[3]*x[4] + x[4]*x[5] + x[5]*x[6] + x[6]*x[7] + x[7]*x[8] + x[8]*x[9] + x[9]*x[10] = 1.0"
      ]
     },
     "execution_count": 93,
     "metadata": {},
     "output_type": "execute_result"
    }
   ],
   "source": [
    "# add the bilinear equality constraint ∑_{i} x[i]x[i+1] == 1\n",
    "@constraint(nonlinear_model_G, sum(x[i]*x[i+1] for i in 1:d-1) == 1)"
   ]
  },
  {
   "cell_type": "code",
   "execution_count": 94,
   "metadata": {},
   "outputs": [
    {
     "name": "stdout",
     "output_type": "stream",
     "text": [
      "Set parameter NonConvex to value 2\n",
      "Gurobi Optimizer version 9.5.0 build v9.5.0rc5 (linux64)\n",
      "Thread count: 48 physical cores, 96 logical processors, using up to 32 threads\n",
      "Optimize a model with 1 rows, 10 columns and 10 nonzeros\n",
      "Model fingerprint: 0x7855f5df\n",
      "Model has 2 quadratic objective terms\n",
      "Model has 10 quadratic constraints\n",
      "Coefficient statistics:\n",
      "  Matrix range     [1e+00, 1e+00]\n",
      "  QMatrix range    [1e+00, 1e+00]\n",
      "  Objective range  [0e+00, 0e+00]\n",
      "  QObjective range [2e+00, 2e+00]\n",
      "  Bounds range     [0e+00, 0e+00]\n",
      "  RHS range        [1e+01, 1e+01]\n",
      "  QRHS range       [1e+00, 2e+00]\n",
      "\n",
      "Continuous model is non-convex -- solving as a MIP\n",
      "\n",
      "Presolve time: 0.00s\n",
      "Presolved: 61 rows, 22 columns, 120 nonzeros\n",
      "Presolved model has 20 bilinear constraint(s)\n",
      "Variable types: 22 continuous, 0 integer (0 binary)\n",
      "\n",
      "Root relaxation: objective 4.955556e+01, 22 iterations, 0.00 seconds (0.00 work units)\n",
      "\n",
      "    Nodes    |    Current Node    |     Objective Bounds      |     Work\n",
      " Expl Unexpl |  Obj  Depth IntInf | Incumbent    BestBd   Gap | It/Node Time\n",
      "\n",
      "     0     0   49.55556    0   11          -   49.55556      -     -    0s\n",
      "H    0     0                      23.9791576   49.55556   107%     -    0s\n",
      "     0     0   24.99322    0   10   23.97916   24.99322  4.23%     -    0s\n",
      "     0     0   24.99231    0    8   23.97916   24.99231  4.23%     -    0s\n",
      "     0     0   24.99029    0   10   23.97916   24.99029  4.22%     -    0s\n",
      "     0     0   24.99026    0   11   23.97916   24.99026  4.22%     -    0s\n",
      "     0     2   24.99026    0   11   23.97916   24.99026  4.22%     -    0s\n",
      "H    5     6                      23.9946925   24.95311  3.99%  11.0    0s\n",
      "*   37    10               7      23.9961128   24.05999  0.27%   6.5    0s\n",
      "*   45    12               8      23.9972011   24.01419  0.07%   5.6    0s\n",
      "*   50    12               9      23.9980299   24.01286  0.06%   5.3    0s\n",
      "*   57    12               9      23.9998195   24.01286  0.05%   4.8    0s\n",
      "*   78    12              11      23.9999121   24.01056  0.04%   3.8    0s\n",
      "H   79    12                      23.9999616   24.01056  0.04%   3.7    0s\n",
      "*  115    24              14      23.9999868   24.00780  0.03%   2.6    0s\n",
      "*  138    16              16      23.9999919   24.00632  0.03%   2.2    0s\n",
      "*  187    45              18      23.9999931   24.00507  0.02%   1.7    0s\n",
      "*  196    45              18      23.9999967   24.00507  0.02%   1.6    0s\n",
      "*  205    57              19      23.9999967   24.00451  0.02%   1.5    0s\n",
      "*  230    57              20      23.9999979   24.00451  0.02%   1.4    0s\n",
      "*  245    57              20      23.9999993   24.00451  0.02%   1.3    0s\n",
      "*  287    65              23      23.9999996   24.00399  0.02%   1.1    0s\n",
      "*  300    65              22      24.0000001   24.00399  0.02%   1.0    0s\n",
      "*  321    44              23      24.0000002   24.00352  0.01%   1.0    0s\n",
      "*  325    44              24      24.0000004   24.00352  0.01%   1.0    0s\n",
      "\n",
      "Cutting planes:\n",
      "  RLT: 12\n",
      "\n",
      "Explored 445 nodes (368 simplex iterations) in 0.04 seconds (0.01 work units)\n",
      "Thread count was 32 (of 96 available processors)\n",
      "\n",
      "Solution count 10: 24 24 24 ... 24\n",
      "\n",
      "Optimal solution found (tolerance 1.00e-04)\n",
      "Best objective 2.399999999809e+01, best bound 2.400193320131e+01, gap 0.0081%\n",
      "\n",
      "User-callback calls 1129, time in user-callback 0.00 sec\n"
     ]
    }
   ],
   "source": [
    "optimize!(nonlinear_model_G)"
   ]
  },
  {
   "cell_type": "code",
   "execution_count": 95,
   "metadata": {},
   "outputs": [
    {
     "data": {
      "text/plain": [
       "OPTIMAL::TerminationStatusCode = 1"
      ]
     },
     "execution_count": 95,
     "metadata": {},
     "output_type": "execute_result"
    }
   ],
   "source": [
    "status = JuMP.termination_status(nonlinear_model_G)"
   ]
  },
  {
   "cell_type": "code",
   "execution_count": 96,
   "metadata": {},
   "outputs": [
    {
     "data": {
      "text/plain": [
       "10-element Vector{Float64}:\n",
       " 4.799957489590821\n",
       " 0.0\n",
       " 0.0\n",
       " 0.0\n",
       " 0.0\n",
       " 0.0\n",
       " 0.0\n",
       " 0.0\n",
       " 0.19999822873895245\n",
       " 5.000044281670227"
      ]
     },
     "execution_count": 96,
     "metadata": {},
     "output_type": "execute_result"
    }
   ],
   "source": [
    "x_nonlin_sol_G = value.(x)"
   ]
  },
  {
   "cell_type": "code",
   "execution_count": 97,
   "metadata": {},
   "outputs": [
    {
     "data": {
      "text/plain": [
       "23.99999999808876"
      ]
     },
     "execution_count": 97,
     "metadata": {},
     "output_type": "execute_result"
    }
   ],
   "source": [
    "obj_value_nonlin_G = objective_value(nonlinear_model_G)"
   ]
  },
  {
   "cell_type": "markdown",
   "metadata": {},
   "source": [
    "### Modeling beyond quadratic and linear via `NLobjective` and `NLconstraint`\n",
    "Consider the problem \n",
    "\n",
    "$$\n",
    "\\begin{array}{ll}\n",
    "\\underset{x\\in\\mathbf{R}^{8},y\\in\\mathbf{R}^{3}}{\\mbox{minimize}} & \\delta+\\sum_{i=1}^{3}\\frac{2D_{i}}{1+e^{2y_{i}}}\\\\\n",
    "\\mbox{subject to} & y_{i}= \\alpha_{i}+\\sum_{i=1}^{3}\\sum_{j=1}^{8}W_{ij}\\log(x_{i})\\\\\n",
    " & 1\\leq x\\leq2\n",
    "\\end{array}\n",
    "$$\n",
    "\n",
    "which is again a nonlinear problem. Unlike the previous example, the constraints and objective are not merely nonconvex quadratic. To model this in `JuMP`, we need to utilize the `NLobjective` and `NLconstraint`."
   ]
  },
  {
   "cell_type": "code",
   "execution_count": 98,
   "metadata": {},
   "outputs": [
    {
     "data": {
      "text/plain": [
       "-0.46"
      ]
     },
     "execution_count": 98,
     "metadata": {},
     "output_type": "execute_result"
    }
   ],
   "source": [
    "# Problem data\n",
    "\n",
    "W = [ 0.54  -1.97  0.09  -2.14  1.01  -0.58  0.45  0.26;\n",
    "     -0.81  -0.74  0.63  -1.60 -0.56  -1.05  1.23  0.93;\n",
    "     -0.11  -0.38 -1.19   0.43  1.21   2.78 -0.06  0.40]\n",
    "\n",
    "\n",
    "D = [-0.91 0.11 0.52]\n",
    "\n",
    "α = [-2.698 0.012 2.926]\n",
    "\n",
    "δ = -0.46"
   ]
  },
  {
   "cell_type": "code",
   "execution_count": 103,
   "metadata": {},
   "outputs": [
    {
     "data": {
      "text/plain": [
       "A JuMP Model\n",
       "Feasibility problem with:\n",
       "Variables: 0\n",
       "Model mode: AUTOMATIC\n",
       "CachingOptimizer state: EMPTY_OPTIMIZER\n",
       "Solver name: Ipopt"
      ]
     },
     "execution_count": 103,
     "metadata": {},
     "output_type": "execute_result"
    }
   ],
   "source": [
    "nl_model_3 = Model(Ipopt.Optimizer)"
   ]
  },
  {
   "cell_type": "code",
   "execution_count": 104,
   "metadata": {},
   "outputs": [
    {
     "data": {
      "text/plain": [
       "8-element Vector{VariableRef}:\n",
       " x[1]\n",
       " x[2]\n",
       " x[3]\n",
       " x[4]\n",
       " x[5]\n",
       " x[6]\n",
       " x[7]\n",
       " x[8]"
      ]
     },
     "execution_count": 104,
     "metadata": {},
     "output_type": "execute_result"
    }
   ],
   "source": [
    "@variable(nl_model_3, 1 <= x[1:8] <= 2)"
   ]
  },
  {
   "cell_type": "code",
   "execution_count": 105,
   "metadata": {},
   "outputs": [
    {
     "data": {
      "text/plain": [
       "3-element Vector{VariableRef}:\n",
       " y[1]\n",
       " y[2]\n",
       " y[3]"
      ]
     },
     "execution_count": 105,
     "metadata": {},
     "output_type": "execute_result"
    }
   ],
   "source": [
    "@variable(nl_model_3, y[1:3])"
   ]
  },
  {
   "cell_type": "code",
   "execution_count": 107,
   "metadata": {},
   "outputs": [],
   "source": [
    "@NLobjective(nl_model_3, Min, δ + sum(D[i]*(2/(1+exp(2*y[i]))) for i in 1:3))"
   ]
  },
  {
   "cell_type": "code",
   "execution_count": 108,
   "metadata": {},
   "outputs": [
    {
     "data": {
      "text/plain": [
       "3-element Vector{NonlinearConstraintRef{ScalarShape}}:\n",
       " y[1] - (-2.698 + (0.54 * log(x[1]) + -1.97 * log(x[1]) + 0.09 * log(x[1]) + -2.14 * log(x[1]) + 1.01 * log(x[1]) + -0.58 * log(x[1]) + 0.45 * log(x[1]) + 0.26 * log(x[1]))) = 0\n",
       " y[2] - (0.012 + (-0.81 * log(x[2]) + -0.74 * log(x[2]) + 0.63 * log(x[2]) + -1.6 * log(x[2]) + -0.56 * log(x[2]) + -1.05 * log(x[2]) + 1.23 * log(x[2]) + 0.93 * log(x[2]))) = 0\n",
       " y[3] - (2.926 + (-0.11 * log(x[3]) + -0.38 * log(x[3]) + -1.19 * log(x[3]) + 0.43 * log(x[3]) + 1.21 * log(x[3]) + 2.78 * log(x[3]) + -0.06 * log(x[3]) + 0.4 * log(x[3]))) = 0"
      ]
     },
     "execution_count": 108,
     "metadata": {},
     "output_type": "execute_result"
    }
   ],
   "source": [
    "@NLconstraint(nl_model_3, nl_model_3_eq_con[i in 1:3], y[i] == α[i] + sum(W[i,j]*log(x[i]) for j in 1:8))"
   ]
  },
  {
   "cell_type": "code",
   "execution_count": 109,
   "metadata": {},
   "outputs": [
    {
     "name": "stdout",
     "output_type": "stream",
     "text": [
      "This is Ipopt version 3.14.4, running with linear solver MUMPS 5.4.1.\n",
      "\n",
      "Number of nonzeros in equality constraint Jacobian...:        6\n",
      "Number of nonzeros in inequality constraint Jacobian.:        0\n",
      "Number of nonzeros in Lagrangian Hessian.............:        6\n",
      "\n",
      "Total number of variables............................:       11\n",
      "                     variables with only lower bounds:        0\n",
      "                variables with lower and upper bounds:        8\n",
      "                     variables with only upper bounds:        0\n",
      "Total number of equality constraints.................:        3\n",
      "Total number of inequality constraints...............:        0\n",
      "        inequality constraints with only lower bounds:        0\n",
      "   inequality constraints with lower and upper bounds:        0\n",
      "        inequality constraints with only upper bounds:        0\n",
      "\n",
      "iter    objective    inf_pr   inf_du lg(mu)  ||d||  lg(rg) alpha_du alpha_pr  ls\n",
      "   0 -7.4000000e-01 2.96e+00 7.67e-01  -1.0 0.00e+00    -  0.00e+00 0.00e+00   0\n",
      "   1 -2.1429078e+00 1.81e-02 1.17e+00  -1.0 3.30e+00    -  3.48e-01 1.00e+00f  1\n",
      "   2 -2.1328924e+00 5.25e-02 4.29e-01  -1.0 5.17e-01    -  1.00e+00 1.00e+00f  1\n",
      "   3 -2.1412192e+00 1.60e-03 5.28e-04  -1.7 8.34e-02    -  1.00e+00 1.00e+00h  1\n",
      "   4 -2.1674900e+00 1.62e-02 6.39e-03  -3.8 2.81e-01    -  8.50e-01 8.60e-01h  1\n",
      "   5 -2.1698069e+00 9.21e-03 7.44e-04  -3.8 2.13e-01    -  8.52e-01 1.00e+00h  1\n",
      "   6 -2.1703708e+00 1.51e-02 2.25e-04  -3.8 3.11e-01    -  1.00e+00 1.00e+00h  1\n",
      "   7 -2.1705995e+00 9.66e-03 5.04e-05  -3.8 2.35e-01    -  1.00e+00 1.00e+00h  1\n",
      "   8 -2.1706379e+00 8.81e-04 1.84e-06  -3.8 6.46e-02    -  1.00e+00 1.00e+00h  1\n",
      "   9 -2.1708897e+00 4.19e-03 1.54e-05  -5.7 1.63e-01    -  8.98e-01 1.00e+00h  1\n",
      "iter    objective    inf_pr   inf_du lg(mu)  ||d||  lg(rg) alpha_du alpha_pr  ls\n",
      "  10 -2.1709396e+00 4.82e-03 7.65e-06  -5.7 1.71e-01    -  1.00e+00 1.00e+00h  1\n",
      "  11 -2.1709501e+00 1.12e-03 1.22e-06  -5.7 7.89e-02    -  1.00e+00 1.00e+00h  1\n",
      "  12 -2.1709508e+00 1.13e-05 9.22e-09  -5.7 7.24e-03    -  1.00e+00 1.00e+00h  1\n",
      "  13 -2.1709561e+00 6.23e-05 6.62e-08  -8.6 1.96e-02    -  9.89e-01 1.00e+00h  1\n",
      "  14 -2.1709562e+00 2.39e-07 2.22e-10  -8.6 1.15e-03    -  1.00e+00 1.00e+00h  1\n",
      "  15 -2.1709562e+00 1.08e-12 9.19e-16  -8.6 2.34e-06    -  1.00e+00 1.00e+00h  1\n",
      "\n",
      "Number of Iterations....: 15\n",
      "\n",
      "                                   (scaled)                 (unscaled)\n",
      "Objective...............:  -2.1709562308325712e+00   -2.1709562308325712e+00\n",
      "Dual infeasibility......:   9.1871226338274825e-16    9.1871226338274825e-16\n",
      "Constraint violation....:   1.0835776720341528e-12    1.0835776720341528e-12\n",
      "Variable bound violation:   0.0000000000000000e+00    0.0000000000000000e+00\n",
      "Complementarity.........:   2.5059040213335280e-09    2.5059040213335280e-09\n",
      "Overall NLP error.......:   2.5059040213335280e-09    2.5059040213335280e-09\n",
      "\n",
      "\n",
      "Number of objective function evaluations             = 16\n",
      "Number of objective gradient evaluations             = 16\n",
      "Number of equality constraint evaluations            = 16\n",
      "Number of inequality constraint evaluations          = 0\n",
      "Number of equality constraint Jacobian evaluations   = 16\n",
      "Number of inequality constraint Jacobian evaluations = 0\n",
      "Number of Lagrangian Hessian evaluations             = 15\n",
      "Total seconds in IPOPT                               = 1.060\n",
      "\n",
      "EXIT: Optimal Solution Found.\n"
     ]
    }
   ],
   "source": [
    "optimize!(nl_model_3)"
   ]
  },
  {
   "cell_type": "code",
   "execution_count": 110,
   "metadata": {},
   "outputs": [
    {
     "data": {
      "text/plain": [
       "LOCALLY_SOLVED::TerminationStatusCode = 4"
      ]
     },
     "execution_count": 110,
     "metadata": {},
     "output_type": "execute_result"
    }
   ],
   "source": [
    "status = JuMP.termination_status(nl_model_3)"
   ]
  },
  {
   "cell_type": "code",
   "execution_count": 111,
   "metadata": {},
   "outputs": [
    {
     "data": {
      "text/plain": [
       "8-element Vector{Float64}:\n",
       " 1.9999966926489139\n",
       " 1.0000000015655948\n",
       " 1.999980556869727\n",
       " 1.500000005\n",
       " 1.500000005\n",
       " 1.500000005\n",
       " 1.500000005\n",
       " 1.500000005"
      ]
     },
     "execution_count": 111,
     "metadata": {},
     "output_type": "execute_result"
    }
   ],
   "source": [
    "x_star_3 = value.(x)"
   ]
  },
  {
   "cell_type": "code",
   "execution_count": 112,
   "metadata": {},
   "outputs": [
    {
     "data": {
      "text/plain": [
       "3-element Vector{Float64}:\n",
       " -4.319960532906301\n",
       "  0.011999996915778266\n",
       "  5.060863373559551"
      ]
     },
     "execution_count": 112,
     "metadata": {},
     "output_type": "execute_result"
    }
   ],
   "source": [
    "y_star_3 = value.(y)"
   ]
  },
  {
   "cell_type": "code",
   "execution_count": null,
   "metadata": {},
   "outputs": [],
   "source": []
  }
 ],
 "metadata": {
  "kernelspec": {
   "display_name": "Julia 1.8.0",
   "language": "julia",
   "name": "julia-1.8"
  },
  "language_info": {
   "file_extension": ".jl",
   "mimetype": "application/julia",
   "name": "julia",
   "version": "1.8.0"
  }
 },
 "nbformat": 4,
 "nbformat_minor": 4
}
